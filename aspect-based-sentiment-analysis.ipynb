{
 "cells": [
  {
   "cell_type": "markdown",
   "id": "b3c7254c",
   "metadata": {
    "papermill": {
     "duration": 0.035172,
     "end_time": "2022-07-05T07:37:44.595080",
     "exception": false,
     "start_time": "2022-07-05T07:37:44.559908",
     "status": "completed"
    },
    "tags": []
   },
   "source": [
    "<h1 style=\"text-align: center;\" class=\"list-group-item list-group-item-action active\">Table of Contents</h1>\n",
    "\n",
    "<ul style=\"list-style-type:none;\">\n",
    "    <li><a class=\"list-group-item list-group-item-action\" data-toggle=\"list\" href=\"#1\" role=\"tab\"\n",
    "            aria-controls=\"settings\">1. Introduction<span class=\"badge badge-primary badge-pill\">1</span></a>\n",
    "    </li>\n",
    "    <li><a class=\"list-group-item list-group-item-action\" data-toggle=\"list\" href=\"#2\" role=\"tab\"\n",
    "            aria-controls=\"settings\">2. Data Acquisition<span class=\"badge badge-primary badge-pill\">2</span></a>\n",
    "        <ul style=\"list-style-type:none;\">\n",
    "            <li><a class=\"list-group-item list-group-item-action\" data-toggle=\"list\" href=\"#2.1\" role=\"tab\"\n",
    "                    aria-controls=\"settings\">2.1 Web Scraping <span class=\"badge badge-primary badge-pill\">3</span></a>\n",
    "            </li>\n",
    "            <li><a class=\"list-group-item list-group-item-action\" data-toggle=\"list\" href=\"#2.2\" role=\"tab\"\n",
    "                    aria-controls=\"settings\">2.2 About the Data <span\n",
    "                        class=\"badge badge-primary badge-pill\">4</span></a>\n",
    "            <li><a class=\"list-group-item list-group-item-action\" data-toggle=\"list\" href=\"#2.3\" role=\"tab\"\n",
    "                    aria-controls=\"settings\">2.3 Handling Missing Values <span\n",
    "                        class=\"badge badge-primary badge-pill\">5</span></a>\n",
    "            </li>\n",
    "        </ul>\n",
    "    </li>\n",
    "    <li><a class=\"list-group-item list-group-item-action\" data-toggle=\"list\" href=\"#3\" role=\"tab\"\n",
    "            aria-controls=\"settings\">3. Text Cleaning<span class=\"badge badge-primary badge-pill\">6</span></a>\n",
    "        <ul style=\"list-style-type:none;\">\n",
    "            <li><a class=\"list-group-item list-group-item-action\" data-toggle=\"list\" href=\"#3.1\" role=\"tab\"\n",
    "                    aria-controls=\"settings\">3.1 HTML Parsing and Cleanup <span\n",
    "                        class=\"badge badge-primary badge-pill\">7</span></a>\n",
    "            </li>\n",
    "            <li><a class=\"list-group-item list-group-item-action\" data-toggle=\"list\" href=\"#3.2\" role=\"tab\"\n",
    "                    aria-controls=\"settings\">3.2 Unicode Normalization<span\n",
    "                        class=\"badge badge-primary badge-pill\">8</span></a>\n",
    "            <ul style=\"list-style-type:none;\">\n",
    "                <li><a class=\"list-group-item list-group-item-action\" data-toggle=\"list\" href=\"#3.2.1\" role=\"tab\"\n",
    "                            aria-controls=\"settings\">3.2.1 The Issue of Equivalence<span\n",
    "                                class=\"badge badge-primary badge-pill\">9</span></a></li>\n",
    "                <li><a class=\"list-group-item list-group-item-action\" data-toggle=\"list\" href=\"#3.2.2\" role=\"tab\"\n",
    "                            aria-controls=\"settings\">3.2.2 Handling Emoji ‘😍😍’ & Emoticon ‘ :) ’ <span\n",
    "                                class=\"badge badge-primary badge-pill\">10</span></a></li>\n",
    "            </ul>\n",
    "            </li>\n",
    "            <li><a class=\"list-group-item list-group-item-action\" data-toggle=\"list\" href=\"#3.3\" role=\"tab\"\n",
    "                    aria-controls=\"settings\">3.3 Spelling Correction<span\n",
    "                        class=\"badge badge-primary badge-pill\">11</span></a>\n",
    "            </li>\n",
    "        </ul>\n",
    "    </li>\n",
    "    <li><a class=\"list-group-item list-group-item-action\" data-toggle=\"list\" href=\"#4\" role=\"tab\"\n",
    "            aria-controls=\"settings\">4. Text Pre-Processing <span class=\"badge badge-primary badge-pill\">12</span></a>\n",
    "        <ul style=\"list-style-type:none;\">\n",
    "            <li><a class=\"list-group-item list-group-item-action\" data-toggle=\"list\" href=\"#4.1\" role=\"tab\"\n",
    "                    aria-controls=\"settings\">4.1 Preliminaries <span\n",
    "                        class=\"badge badge-primary badge-pill\">13</span></a>\n",
    "            </li>\n",
    "            <li><a class=\"list-group-item list-group-item-action\" data-toggle=\"list\" href=\"#4.2\" role=\"tab\"\n",
    "                    aria-controls=\"settings\">4.2 Frequent Steps <span\n",
    "                        class=\"badge badge-primary badge-pill\">14</span></a>\n",
    "                <ul style=\"list-style-type:none;\">\n",
    "                    <li><a class=\"list-group-item list-group-item-action\" data-toggle=\"list\" href=\"#4.2.1\" role=\"tab\"\n",
    "                            aria-controls=\"settings\">4.2.1 Removing Stop Words<span\n",
    "                                class=\"badge badge-primary badge-pill\">15</span></a></li>\n",
    "                    <li><a class=\"list-group-item list-group-item-action\" data-toggle=\"list\" href=\"#4.2.2\" role=\"tab\"\n",
    "                            aria-controls=\"settings\">4.2.2 Stemming<span\n",
    "                                class=\"badge badge-primary badge-pill\">16</span></a></li>\n",
    "                    <li><a class=\"list-group-item list-group-item-action\" data-toggle=\"list\" href=\"#4.2.3\" role=\"tab\"\n",
    "                            aria-controls=\"settings\">4.2.3 Lemmatization<span\n",
    "                                class=\"badge badge-primary badge-pill\">17</span></a></li>\n",
    "                </ul>\n",
    "            </li>\n",
    "            <li><a class=\"list-group-item list-group-item-action\" data-toggle=\"list\" href=\"#4.3\" role=\"tab\"\n",
    "                    aria-controls=\"settings\">4.3 Other Pre-Processing Steps <span\n",
    "                        class=\"badge badge-primary badge-pill\">18</span></a>\n",
    "                <ul style=\"list-style-type:none;\">\n",
    "                    <li><a class=\"list-group-item list-group-item-action\" data-toggle=\"list\" href=\"#4.3.1\" role=\"tab\"\n",
    "                            aria-controls=\"settings\">4.3.1 Language Detection<span\n",
    "                                class=\"badge badge-primary badge-pill\">19</span></a></li>\n",
    "                    <li><a class=\"list-group-item list-group-item-action\" data-toggle=\"list\" href=\"#4.3.2\" role=\"tab\"\n",
    "                            aria-controls=\"settings\">4.3.2 Code mixing and transliteration<span\n",
    "                                class=\"badge badge-primary badge-pill\">20</span></a></li>\n",
    "                </ul>\n",
    "            </li>\n",
    "            <li><a class=\"list-group-item list-group-item-action\" data-toggle=\"list\" href=\"#4.4\" role=\"tab\"\n",
    "                    aria-controls=\"settings\">4.4 Data Augmentation <span\n",
    "                        class=\"badge badge-primary badge-pill\">21</span></a>\n",
    "            </li>\n",
    "        </ul>\n",
    "    </li>\n",
    "    <li><a class=\"list-group-item list-group-item-action\" data-toggle=\"list\" href=\"#5\" role=\"tab\"\n",
    "            aria-controls=\"settings\">5. Latent Dirichlet Allocation (LDA) <span\n",
    "                class=\"badge badge-primary badge-pill\">22</span></a> </li>\n",
    "    <li><a class=\"list-group-item list-group-item-action\" data-toggle=\"list\" href=\"#6\" role=\"tab\"\n",
    "            aria-controls=\"settings\">6. Model <span class=\"badge badge-primary badge-pill\">23</span></a>\n",
    "        <ul style=\"list-style-type:none;\">\n",
    "            <li><a class=\"list-group-item list-group-item-action\" data-toggle=\"list\" href=\"#6.1\" role=\"tab\"\n",
    "                    aria-controls=\"settings\">6.1 Configurations <span\n",
    "                        class=\"badge badge-primary badge-pill\">24</span></a>\n",
    "            </li>\n",
    "            <li><a class=\"list-group-item list-group-item-action\" data-toggle=\"list\" href=\"#6.2\" role=\"tab\"\n",
    "                    aria-controls=\"settings\">6.2 Dataset Generator<span\n",
    "                        class=\"badge badge-primary badge-pill\">25</span></a>\n",
    "                <ul style=\"list-style-type:none;\">\n",
    "                    <li><a class=\"list-group-item list-group-item-action\" data-toggle=\"list\" href=\"#6.2.1\" role=\"tab\"\n",
    "                            aria-controls=\"settings\">6.2.1 Creation of the Vocabulary<span\n",
    "                                class=\"badge badge-primary badge-pill\">26</span></a></li>\n",
    "                </ul>\n",
    "            <li><a class=\"list-group-item list-group-item-action\" data-toggle=\"list\" href=\"#6.3\" role=\"tab\"\n",
    "                    aria-controls=\"settings\">6.3 Word Embeddings<span\n",
    "                        class=\"badge badge-primary badge-pill\">27</span></a>\n",
    "            </li>\n",
    "            <li><a class=\"list-group-item list-group-item-action\" data-toggle=\"list\" href=\"#6.4\" role=\"tab\"\n",
    "                    aria-controls=\"settings\">6.4 Initializing the Model<span\n",
    "                        class=\"badge badge-primary badge-pill\">28</span></a>\n",
    "            </li>\n",
    "            <li><a class=\"list-group-item list-group-item-action\" data-toggle=\"list\" href=\"#6.5\" role=\"tab\"\n",
    "                    aria-controls=\"settings\">6.5 Training and K-fold Cross Validation<span\n",
    "                        class=\"badge badge-primary badge-pill\">29</span></a>\n",
    "            </li>\n",
    "        </ul>\n",
    "    </li>\n",
    "    <li><a class=\"list-group-item list-group-item-action\" data-toggle=\"list\" href=\"#7\" role=\"tab\"\n",
    "            aria-controls=\"settings\">7. Inference <span class=\"badge badge-primary badge-pill\">30</span></a> </li>\n",
    "    <li><a class=\"list-group-item list-group-item-action\" data-toggle=\"list\" href=\"#8\" role=\"tab\"\n",
    "            aria-controls=\"settings\">8. References <span class=\"badge badge-primary badge-pill\">31</span></a> </li>\n",
    "</ul>"
   ]
  },
  {
   "cell_type": "code",
   "execution_count": null,
   "id": "c8f60fb7",
   "metadata": {
    "papermill": {
     "duration": 0.033197,
     "end_time": "2022-07-05T07:37:44.662010",
     "exception": false,
     "start_time": "2022-07-05T07:37:44.628813",
     "status": "completed"
    },
    "tags": []
   },
   "outputs": [],
   "source": []
  },
  {
   "attachments": {
    "image.png": {
     "image/png": "[encoded data removed]"
    }
   },
   "cell_type": "markdown",
   "id": "b8999531",
   "metadata": {
    "papermill": {
     "duration": 0.053233,
     "end_time": "2022-07-05T07:37:44.756489",
     "exception": false,
     "start_time": "2022-07-05T07:37:44.703256",
     "status": "completed"
    },
    "tags": []
   },
   "source": [
    "<h1  style=\"text-align: center\" class=\"list-group-item list-group-item-action active\">1. Introduction</h1><a id = \"1\" ></a>\n",
    "\n",
    "Before we get into the several strategies for aspect-level sentiment analysis, we must first define an **aspect**. Aspects are a set of semantically rich, concept-centric terms that signify specific features or characteristics of the review or comment. For example, If we consider Example shown below Location, and food are all aspects to consider.\n",
    "\n",
    "![image.png](attachment:image.png)\n",
    "\n",
    "\n",
    "**Aspect-based sentiment analysis (ABSA)** is a text analysis technique that categorizes data by aspect and identifies the sentiment attributed to each one. We will use it to analyze customer feedback for flipkart products by associating specific sentiments with different aspects of a product or service. \n",
    "\n",
    "\n",
    "Aspect Based Sentiment Analysis can be categorized into two types :-\n",
    "\n",
    "- **Supervised ABSA** :- In Supervised approach we provide the seed words which than help supervised model to extract aspects of the sentence. If it identifies the particular aspects for that seed then it tags those sentences with those aspects.\n",
    "\n",
    "- **Unsupervised ABSA** :- As it is obvious providing the seed for each sentence is a difficult task plus let say if our dataset is large (20-100k) than that will become a nightmare. Topic Modeling is the technique which helps extract latent topics from a document, in our case we will extract aspect from a sentence using topic modeling techniques such as latent Dirichlet algorithm (LDA).\n",
    "\n",
    "Aspect Based Sentiment Analysis is a Natural Language Processing (NLP) Based Approach so we will deal it like that and follow the below mentioned pipeline for a NLP task. \n",
    "\n",
    "![](https://miro.medium.com/max/966/1*rJQVqDjbhI3k22lHqa4dFw.png)\n"
   ]
  },
  {
   "cell_type": "markdown",
   "id": "8f0e33c0",
   "metadata": {
    "papermill": {
     "duration": 0.032533,
     "end_time": "2022-07-05T07:37:44.823092",
     "exception": false,
     "start_time": "2022-07-05T07:37:44.790559",
     "status": "completed"
    },
    "tags": []
   },
   "source": [
    "<h1  style=\"text-align: center\" class=\"list-group-item list-group-item-action active\">2. Data Acquisition </h1><a id = \"2\" ></a>\n",
    "\n",
    "Data Acquisition Phase of the NLP pipeline deals with how can we get information rich and clean data form some source. In our case we fetch the data from flipkart's web page using web scraping technique. \n",
    "\n",
    "<h2  style=\"text-align: center\" class=\"list-group-item list-group-item-success\"> 2.1 Web Scraping </h2><a id = \"2.1\" ></a>\n",
    "\n",
    "Let say we want to analyze the flipkart customers reviews on some Mobile Phone well, we can copy and paste the information from flipkart reviews section to our own file. But in our case we need large amount of data for aspect based sentiment analysis task from the website as quickly as possible. In such a situation, copying and pasting will not work! And that’s when we’ll need to use **Web Scraping**. \n",
    "\n",
    "Web scraping is a method of extracting large amounts of data from websites in an automated manner. The majority of this information is unstructured HTML data that is converted to structured data in a spreadsheet or database before being used in various applications.\n",
    "\n",
    "I Basically used python library BeautifulSoup to fetch the data from web.\n",
    "\n",
    "In this notebook I will not discuss how web scraping works as it's a bit techniq thing but if you are interested to learn the implementation for web scraping you can go through the following blog post.\n",
    "\n",
    "[A Practical Introduction to Web Scraping in Python](https://realpython.com/python-web-scraping-practical-introduction/)\n"
   ]
  },
  {
   "cell_type": "code",
   "execution_count": 1,
   "id": "4b2e441a",
   "metadata": {
    "execution": {
     "iopub.execute_input": "2022-07-05T07:37:44.911574Z",
     "iopub.status.busy": "2022-07-05T07:37:44.910497Z",
     "iopub.status.idle": "2022-07-05T07:37:47.898544Z",
     "shell.execute_reply": "2022-07-05T07:37:47.897589Z"
    },
    "papermill": {
     "duration": 3.0444,
     "end_time": "2022-07-05T07:37:47.901029",
     "exception": false,
     "start_time": "2022-07-05T07:37:44.856629",
     "status": "completed"
    },
    "tags": []
   },
   "outputs": [],
   "source": [
    "import pandas as pd\n",
    "import torch\n",
    "import numpy as np\n",
    "import sqlite3\n",
    "import matplotlib.pyplot as plt\n",
    "import seaborn as sns\n",
    "import re\n",
    "import nltk\n",
    "from nltk.corpus import stopwords\n",
    "from nltk.stem import WordNetLemmatizer\n",
    "from nltk.stem.porter import PorterStemmer\n",
    "from sklearn.feature_extraction.text import CountVectorizer\n",
    "\n",
    "pd.set_option('display.max_columns', None)\n",
    "pd.set_option('display.max_rows', None)\n",
    "import warnings\n"
   ]
  },
  {
   "cell_type": "markdown",
   "id": "df3ce799",
   "metadata": {
    "papermill": {
     "duration": 0.032779,
     "end_time": "2022-07-05T07:37:47.968269",
     "exception": false,
     "start_time": "2022-07-05T07:37:47.935490",
     "status": "completed"
    },
    "tags": []
   },
   "source": [
    "<h2  style=\"text-align: center\" class=\"list-group-item list-group-item-success\"> 2.2 About the Data </h2><a id = \"2.2\" ></a>\n",
    "\n",
    "\n",
    "Before Loading the dataset I want to specify few details about data. The data is fetched from flipkart India web page contains 83 tables in which 1 table contains information about rest 82 tables. Those rest 82 tables contains reviews of 82 mobile phones.\n",
    "\n",
    "A table which contains information about mobile phones has following attributes.\n",
    "\n",
    " - product_id    \n",
    " - product_name  \n",
    " - price         \n",
    " - category      \n",
    " - sub_category  \n",
    " - specifications\n",
    " - ratings       \n",
    " - discount      \n",
    " - moreinfo      \n",
    "\n",
    "Tables containing reviews of 82 mobile phones has following attributes.\n",
    "\n",
    " - product_id  \n",
    " - review_id   \n",
    " - title       \n",
    " - review      \n",
    " - likes       \n",
    " - dislikes    \n",
    " - ratings     \n",
    " - reviewer    \n",
    "\n"
   ]
  },
  {
   "cell_type": "code",
   "execution_count": 2,
   "id": "4d189a7f",
   "metadata": {
    "execution": {
     "iopub.execute_input": "2022-07-05T07:37:48.037162Z",
     "iopub.status.busy": "2022-07-05T07:37:48.036702Z",
     "iopub.status.idle": "2022-07-05T07:37:48.086888Z",
     "shell.execute_reply": "2022-07-05T07:37:48.086022Z"
    },
    "papermill": {
     "duration": 0.08712,
     "end_time": "2022-07-05T07:37:48.088791",
     "exception": false,
     "start_time": "2022-07-05T07:37:48.001671",
     "status": "completed"
    },
    "tags": []
   },
   "outputs": [],
   "source": [
    "import sqlite3\n",
    "\n",
    "# Read sqlite query results into a pandas DataFrame\n",
    "con = sqlite3.connect(\"../input/flipkart-cell-phone-reviews/flipkart_products.db\")\n",
    "items = pd.read_sql_query(\"SELECT * from items\", con)\n",
    "con.close()\n"
   ]
  },
  {
   "cell_type": "code",
   "execution_count": 3,
   "id": "14a326d1",
   "metadata": {
    "execution": {
     "iopub.execute_input": "2022-07-05T07:37:48.157394Z",
     "iopub.status.busy": "2022-07-05T07:37:48.157096Z",
     "iopub.status.idle": "2022-07-05T07:37:48.174009Z",
     "shell.execute_reply": "2022-07-05T07:37:48.173166Z"
    },
    "papermill": {
     "duration": 0.053179,
     "end_time": "2022-07-05T07:37:48.176055",
     "exception": false,
     "start_time": "2022-07-05T07:37:48.122876",
     "status": "completed"
    },
    "tags": []
   },
   "outputs": [
    {
     "data": {
      "text/html": [
       "<div>\n",
       "<style scoped>\n",
       "    .dataframe tbody tr th:only-of-type {\n",
       "        vertical-align: middle;\n",
       "    }\n",
       "\n",
       "    .dataframe tbody tr th {\n",
       "        vertical-align: top;\n",
       "    }\n",
       "\n",
       "    .dataframe thead th {\n",
       "        text-align: right;\n",
       "    }\n",
       "</style>\n",
       "<table border=\"1\" class=\"dataframe\">\n",
       "  <thead>\n",
       "    <tr style=\"text-align: right;\">\n",
       "      <th></th>\n",
       "      <th>product_id</th>\n",
       "      <th>product_name</th>\n",
       "      <th>price</th>\n",
       "      <th>category</th>\n",
       "      <th>sub_category</th>\n",
       "      <th>specifications</th>\n",
       "      <th>ratings</th>\n",
       "      <th>discount</th>\n",
       "      <th>moreinfo</th>\n",
       "    </tr>\n",
       "  </thead>\n",
       "  <tbody>\n",
       "    <tr>\n",
       "      <th>0</th>\n",
       "      <td>ECMB000001</td>\n",
       "      <td>Redmi 9A (SeaBlue, 32 GB)</td>\n",
       "      <td>₹7,413</td>\n",
       "      <td>Electronics</td>\n",
       "      <td>Mobile</td>\n",
       "      <td>2 GB RAM | 32 GB ROM16.59 cm (6.53 inch) Full ...</td>\n",
       "      <td>4.3</td>\n",
       "      <td>3.0</td>\n",
       "      <td>/redmi-9a-seablue-32-gb/p/itmeabd39a0cd669?pid...</td>\n",
       "    </tr>\n",
       "    <tr>\n",
       "      <th>1</th>\n",
       "      <td>ECMB000002</td>\n",
       "      <td>Redmi 9A (Midnight Black, 32 GB)</td>\n",
       "      <td>₹7,421</td>\n",
       "      <td>Electronics</td>\n",
       "      <td>Mobile</td>\n",
       "      <td>2 GB RAM | 32 GB ROM16.59 cm (6.53 inch) Full ...</td>\n",
       "      <td>4.3</td>\n",
       "      <td>3.0</td>\n",
       "      <td>/redmi-9a-midnight-black-32-gb/p/itmeabd39a0cd...</td>\n",
       "    </tr>\n",
       "    <tr>\n",
       "      <th>2</th>\n",
       "      <td>ECMB000003</td>\n",
       "      <td>Redmi 9A (Nature Green, 32 GB)</td>\n",
       "      <td>₹7,384</td>\n",
       "      <td>Electronics</td>\n",
       "      <td>Mobile</td>\n",
       "      <td>2 GB RAM | 32 GB ROM16.59 cm (6.53 inch) Full ...</td>\n",
       "      <td>4.3</td>\n",
       "      <td>4.0</td>\n",
       "      <td>/redmi-9a-nature-green-32-gb/p/itmeabd39a0cd66...</td>\n",
       "    </tr>\n",
       "    <tr>\n",
       "      <th>3</th>\n",
       "      <td>ECMB000004</td>\n",
       "      <td>Redmi 9 (Carbon Black, 64 GB)</td>\n",
       "      <td>₹10,745</td>\n",
       "      <td>Electronics</td>\n",
       "      <td>Mobile</td>\n",
       "      <td>4 GB RAM | 64 GB ROM16.59 cm (6.53 inch) HD+ D...</td>\n",
       "      <td>4.2</td>\n",
       "      <td>None</td>\n",
       "      <td>/redmi-9-carbon-black-64-gb/p/itm4fb151383983b...</td>\n",
       "    </tr>\n",
       "    <tr>\n",
       "      <th>4</th>\n",
       "      <td>ECMB000005</td>\n",
       "      <td>Redmi 9 (Sky Blue, 64 GB)</td>\n",
       "      <td>₹10,489</td>\n",
       "      <td>Electronics</td>\n",
       "      <td>Mobile</td>\n",
       "      <td>4 GB RAM | 64 GB ROM16.59 cm (6.53 inch) HD+ D...</td>\n",
       "      <td>4.2</td>\n",
       "      <td>None</td>\n",
       "      <td>/redmi-9-sky-blue-64-gb/p/itm4fb151383983b?pid...</td>\n",
       "    </tr>\n",
       "  </tbody>\n",
       "</table>\n",
       "</div>"
      ],
      "text/plain": [
       "   product_id                      product_name    price     category  \\\n",
       "0  ECMB000001         Redmi 9A (SeaBlue, 32 GB)   ₹7,413  Electronics   \n",
       "1  ECMB000002  Redmi 9A (Midnight Black, 32 GB)   ₹7,421  Electronics   \n",
       "2  ECMB000003    Redmi 9A (Nature Green, 32 GB)   ₹7,384  Electronics   \n",
       "3  ECMB000004     Redmi 9 (Carbon Black, 64 GB)  ₹10,745  Electronics   \n",
       "4  ECMB000005         Redmi 9 (Sky Blue, 64 GB)  ₹10,489  Electronics   \n",
       "\n",
       "  sub_category                                     specifications ratings  \\\n",
       "0       Mobile  2 GB RAM | 32 GB ROM16.59 cm (6.53 inch) Full ...     4.3   \n",
       "1       Mobile  2 GB RAM | 32 GB ROM16.59 cm (6.53 inch) Full ...     4.3   \n",
       "2       Mobile  2 GB RAM | 32 GB ROM16.59 cm (6.53 inch) Full ...     4.3   \n",
       "3       Mobile  4 GB RAM | 64 GB ROM16.59 cm (6.53 inch) HD+ D...     4.2   \n",
       "4       Mobile  4 GB RAM | 64 GB ROM16.59 cm (6.53 inch) HD+ D...     4.2   \n",
       "\n",
       "  discount                                           moreinfo  \n",
       "0      3.0  /redmi-9a-seablue-32-gb/p/itmeabd39a0cd669?pid...  \n",
       "1      3.0  /redmi-9a-midnight-black-32-gb/p/itmeabd39a0cd...  \n",
       "2      4.0  /redmi-9a-nature-green-32-gb/p/itmeabd39a0cd66...  \n",
       "3     None  /redmi-9-carbon-black-64-gb/p/itm4fb151383983b...  \n",
       "4     None  /redmi-9-sky-blue-64-gb/p/itm4fb151383983b?pid...  "
      ]
     },
     "execution_count": 3,
     "metadata": {},
     "output_type": "execute_result"
    }
   ],
   "source": [
    "items.head()\n"
   ]
  },
  {
   "cell_type": "code",
   "execution_count": 4,
   "id": "563df23d",
   "metadata": {
    "execution": {
     "iopub.execute_input": "2022-07-05T07:37:48.244590Z",
     "iopub.status.busy": "2022-07-05T07:37:48.243845Z",
     "iopub.status.idle": "2022-07-05T07:37:48.261330Z",
     "shell.execute_reply": "2022-07-05T07:37:48.259684Z"
    },
    "papermill": {
     "duration": 0.053571,
     "end_time": "2022-07-05T07:37:48.263850",
     "exception": false,
     "start_time": "2022-07-05T07:37:48.210279",
     "status": "completed"
    },
    "tags": []
   },
   "outputs": [
    {
     "name": "stdout",
     "output_type": "stream",
     "text": [
      "<class 'pandas.core.frame.DataFrame'>\n",
      "RangeIndex: 82 entries, 0 to 81\n",
      "Data columns (total 9 columns):\n",
      " #   Column          Non-Null Count  Dtype \n",
      "---  ------          --------------  ----- \n",
      " 0   product_id      82 non-null     object\n",
      " 1   product_name    82 non-null     object\n",
      " 2   price           82 non-null     object\n",
      " 3   category        82 non-null     object\n",
      " 4   sub_category    82 non-null     object\n",
      " 5   specifications  82 non-null     object\n",
      " 6   ratings         82 non-null     object\n",
      " 7   discount        34 non-null     object\n",
      " 8   moreinfo        82 non-null     object\n",
      "dtypes: object(9)\n",
      "memory usage: 5.9+ KB\n"
     ]
    }
   ],
   "source": [
    "items.info()\n"
   ]
  },
  {
   "cell_type": "markdown",
   "id": "fd3ad06c",
   "metadata": {
    "papermill": {
     "duration": 0.033599,
     "end_time": "2022-07-05T07:37:48.331995",
     "exception": false,
     "start_time": "2022-07-05T07:37:48.298396",
     "status": "completed"
    },
    "tags": []
   },
   "source": [
    "Items dataset is just like an index for some book."
   ]
  },
  {
   "cell_type": "code",
   "execution_count": 5,
   "id": "13f3a833",
   "metadata": {
    "execution": {
     "iopub.execute_input": "2022-07-05T07:37:48.401425Z",
     "iopub.status.busy": "2022-07-05T07:37:48.399856Z",
     "iopub.status.idle": "2022-07-05T07:37:49.607378Z",
     "shell.execute_reply": "2022-07-05T07:37:49.606374Z"
    },
    "papermill": {
     "duration": 1.244244,
     "end_time": "2022-07-05T07:37:49.609865",
     "exception": false,
     "start_time": "2022-07-05T07:37:48.365621",
     "status": "completed"
    },
    "tags": []
   },
   "outputs": [],
   "source": [
    "\n",
    "con = sqlite3.connect(\"../input/flipkart-cell-phone-reviews/flipkart_products.db\")\n",
    "\n",
    "df = pd.read_sql_query(\"SELECT * from ECMB000001\", con)\n",
    "\n",
    "for i in range(2, len(items) + 1):\n",
    "\n",
    "    df_temp = pd.read_sql_query(\"SELECT * from ECMB{:06d}\".format(i), con)\n",
    "    df = pd.concat([df, df_temp])\n",
    "con.close()\n"
   ]
  },
  {
   "cell_type": "code",
   "execution_count": 6,
   "id": "c6a5d33b",
   "metadata": {
    "execution": {
     "iopub.execute_input": "2022-07-05T07:37:49.684844Z",
     "iopub.status.busy": "2022-07-05T07:37:49.684516Z",
     "iopub.status.idle": "2022-07-05T07:37:49.738687Z",
     "shell.execute_reply": "2022-07-05T07:37:49.737771Z"
    },
    "papermill": {
     "duration": 0.094006,
     "end_time": "2022-07-05T07:37:49.741320",
     "exception": false,
     "start_time": "2022-07-05T07:37:49.647314",
     "status": "completed"
    },
    "tags": []
   },
   "outputs": [
    {
     "name": "stdout",
     "output_type": "stream",
     "text": [
      "<class 'pandas.core.frame.DataFrame'>\n",
      "Int64Index: 53493 entries, 0 to 289\n",
      "Data columns (total 8 columns):\n",
      " #   Column      Non-Null Count  Dtype \n",
      "---  ------      --------------  ----- \n",
      " 0   product_id  53493 non-null  object\n",
      " 1   review_id   53493 non-null  object\n",
      " 2   title       53493 non-null  object\n",
      " 3   review      53493 non-null  object\n",
      " 4   likes       53493 non-null  object\n",
      " 5   dislikes    53493 non-null  object\n",
      " 6   ratings     48488 non-null  object\n",
      " 7   reviewer    53493 non-null  object\n",
      "dtypes: object(8)\n",
      "memory usage: 3.7+ MB\n"
     ]
    }
   ],
   "source": [
    "df.info()\n"
   ]
  },
  {
   "cell_type": "code",
   "execution_count": 7,
   "id": "055b7c6c",
   "metadata": {
    "execution": {
     "iopub.execute_input": "2022-07-05T07:37:49.812306Z",
     "iopub.status.busy": "2022-07-05T07:37:49.812009Z",
     "iopub.status.idle": "2022-07-05T07:37:49.825687Z",
     "shell.execute_reply": "2022-07-05T07:37:49.824795Z"
    },
    "papermill": {
     "duration": 0.051519,
     "end_time": "2022-07-05T07:37:49.827732",
     "exception": false,
     "start_time": "2022-07-05T07:37:49.776213",
     "status": "completed"
    },
    "tags": []
   },
   "outputs": [
    {
     "data": {
      "text/html": [
       "<div>\n",
       "<style scoped>\n",
       "    .dataframe tbody tr th:only-of-type {\n",
       "        vertical-align: middle;\n",
       "    }\n",
       "\n",
       "    .dataframe tbody tr th {\n",
       "        vertical-align: top;\n",
       "    }\n",
       "\n",
       "    .dataframe thead th {\n",
       "        text-align: right;\n",
       "    }\n",
       "</style>\n",
       "<table border=\"1\" class=\"dataframe\">\n",
       "  <thead>\n",
       "    <tr style=\"text-align: right;\">\n",
       "      <th></th>\n",
       "      <th>product_id</th>\n",
       "      <th>review_id</th>\n",
       "      <th>title</th>\n",
       "      <th>review</th>\n",
       "      <th>likes</th>\n",
       "      <th>dislikes</th>\n",
       "      <th>ratings</th>\n",
       "      <th>reviewer</th>\n",
       "    </tr>\n",
       "  </thead>\n",
       "  <tbody>\n",
       "    <tr>\n",
       "      <th>0</th>\n",
       "      <td>ECMB000001</td>\n",
       "      <td>ECMB0000010000001</td>\n",
       "      <td>Excellent</td>\n",
       "      <td>Wow superb I love it❤️👍 battery backup so nice 👍👍</td>\n",
       "      <td>740</td>\n",
       "      <td>160</td>\n",
       "      <td>5</td>\n",
       "      <td>Abhishek Saini</td>\n",
       "    </tr>\n",
       "    <tr>\n",
       "      <th>1</th>\n",
       "      <td>ECMB000001</td>\n",
       "      <td>ECMB0000010000002</td>\n",
       "      <td>Worth the money</td>\n",
       "      <td>Mobile So Good In Range Redmi 9a Has Miui 12 L...</td>\n",
       "      <td>355</td>\n",
       "      <td>104</td>\n",
       "      <td>4</td>\n",
       "      <td>Dinesh Kumar Sahni</td>\n",
       "    </tr>\n",
       "    <tr>\n",
       "      <th>2</th>\n",
       "      <td>ECMB000001</td>\n",
       "      <td>ECMB0000010000003</td>\n",
       "      <td>Just wow!</td>\n",
       "      <td>Wonderful device and smart phone best camera b...</td>\n",
       "      <td>125</td>\n",
       "      <td>47</td>\n",
       "      <td>5</td>\n",
       "      <td>Flipkart Customer</td>\n",
       "    </tr>\n",
       "    <tr>\n",
       "      <th>3</th>\n",
       "      <td>ECMB000001</td>\n",
       "      <td>ECMB0000010000004</td>\n",
       "      <td>Simply awesome</td>\n",
       "      <td>Very good mobile. Value for money. Battery bac...</td>\n",
       "      <td>0</td>\n",
       "      <td>0</td>\n",
       "      <td>5</td>\n",
       "      <td>Amit Sen</td>\n",
       "    </tr>\n",
       "    <tr>\n",
       "      <th>4</th>\n",
       "      <td>ECMB000001</td>\n",
       "      <td>ECMB0000010000005</td>\n",
       "      <td>Highly recommended</td>\n",
       "      <td>Really great.... value for money...</td>\n",
       "      <td>90</td>\n",
       "      <td>15</td>\n",
       "      <td>5</td>\n",
       "      <td>Sudeshna pakira</td>\n",
       "    </tr>\n",
       "  </tbody>\n",
       "</table>\n",
       "</div>"
      ],
      "text/plain": [
       "   product_id          review_id               title  \\\n",
       "0  ECMB000001  ECMB0000010000001           Excellent   \n",
       "1  ECMB000001  ECMB0000010000002     Worth the money   \n",
       "2  ECMB000001  ECMB0000010000003           Just wow!   \n",
       "3  ECMB000001  ECMB0000010000004      Simply awesome   \n",
       "4  ECMB000001  ECMB0000010000005  Highly recommended   \n",
       "\n",
       "                                              review likes dislikes ratings  \\\n",
       "0  Wow superb I love it❤️👍 battery backup so nice 👍👍   740      160       5   \n",
       "1  Mobile So Good In Range Redmi 9a Has Miui 12 L...   355      104       4   \n",
       "2  Wonderful device and smart phone best camera b...   125       47       5   \n",
       "3  Very good mobile. Value for money. Battery bac...     0        0       5   \n",
       "4                Really great.... value for money...    90       15       5   \n",
       "\n",
       "             reviewer  \n",
       "0      Abhishek Saini  \n",
       "1  Dinesh Kumar Sahni  \n",
       "2   Flipkart Customer  \n",
       "3            Amit Sen  \n",
       "4     Sudeshna pakira  "
      ]
     },
     "execution_count": 7,
     "metadata": {},
     "output_type": "execute_result"
    }
   ],
   "source": [
    "df.head()"
   ]
  },
  {
   "cell_type": "markdown",
   "id": "7ae9ec55",
   "metadata": {
    "papermill": {
     "duration": 0.033862,
     "end_time": "2022-07-05T07:37:49.895853",
     "exception": false,
     "start_time": "2022-07-05T07:37:49.861991",
     "status": "completed"
    },
    "tags": []
   },
   "source": [
    "We Got good amount of data for our task lets make sure that we need to remove nullity from the dataset"
   ]
  },
  {
   "cell_type": "markdown",
   "id": "5fd342b2",
   "metadata": {
    "papermill": {
     "duration": 0.033535,
     "end_time": "2022-07-05T07:37:49.963915",
     "exception": false,
     "start_time": "2022-07-05T07:37:49.930380",
     "status": "completed"
    },
    "tags": []
   },
   "source": [
    "<h2  style=\"text-align: center\" class=\"list-group-item list-group-item-success\"> 2.3 Handling Missing Values </h2><a id = \"2.3\" ></a>\n",
    "\n",
    "Missing data are not rare in real data sets. In fact, the chance that at least one data point is missing increases as the data set size increases. Missing data can occur any number of ways, some of which include the following.\n",
    "\n",
    "- Merging of source data sets\n",
    "- Random events\n",
    "- Failures of measurement"
   ]
  },
  {
   "cell_type": "code",
   "execution_count": 8,
   "id": "4d7dfd89",
   "metadata": {
    "execution": {
     "iopub.execute_input": "2022-07-05T07:37:50.034047Z",
     "iopub.status.busy": "2022-07-05T07:37:50.033774Z",
     "iopub.status.idle": "2022-07-05T07:37:50.661870Z",
     "shell.execute_reply": "2022-07-05T07:37:50.660953Z"
    },
    "papermill": {
     "duration": 0.665267,
     "end_time": "2022-07-05T07:37:50.664035",
     "exception": false,
     "start_time": "2022-07-05T07:37:49.998768",
     "status": "completed"
    },
    "tags": []
   },
   "outputs": [
    {
     "data": {
      "text/plain": [
       "<Figure size 1800x1440 with 0 Axes>"
      ]
     },
     "metadata": {},
     "output_type": "display_data"
    },
    {
     "data": {
      "image/png": "[encoded data removed]",
      "text/plain": [
       "<Figure size 1800x720 with 2 Axes>"
      ]
     },
     "metadata": {
      "needs_background": "light"
     },
     "output_type": "display_data"
    }
   ],
   "source": [
    "import missingno as msno\n",
    "plt.figure(figsize=(25, 20))\n",
    "msno.matrix(df, color=[0.2, 0.4, 1])\n",
    "plt.show()"
   ]
  },
  {
   "cell_type": "markdown",
   "id": "d1770c97",
   "metadata": {
    "papermill": {
     "duration": 0.034547,
     "end_time": "2022-07-05T07:37:50.734381",
     "exception": false,
     "start_time": "2022-07-05T07:37:50.699834",
     "status": "completed"
    },
    "tags": []
   },
   "source": [
    "\n",
    "We can handle missing values using lots of techniques like simple statistical methods, using machine learning models and many more but in this case majority of missing values are from ratings column and we will use that column as label column later so I don't want to fake out or ruin the original distribution of the label data specially so thats why I will be dropping the rows having missing values in column ratings. Dropping technique in never recommended but in this senario I am using it.  "
   ]
  },
  {
   "cell_type": "code",
   "execution_count": 9,
   "id": "bd16b1c3",
   "metadata": {
    "execution": {
     "iopub.execute_input": "2022-07-05T07:37:50.805856Z",
     "iopub.status.busy": "2022-07-05T07:37:50.804956Z",
     "iopub.status.idle": "2022-07-05T07:37:50.901192Z",
     "shell.execute_reply": "2022-07-05T07:37:50.900201Z"
    },
    "papermill": {
     "duration": 0.133451,
     "end_time": "2022-07-05T07:37:50.903127",
     "exception": false,
     "start_time": "2022-07-05T07:37:50.769676",
     "status": "completed"
    },
    "tags": []
   },
   "outputs": [
    {
     "name": "stdout",
     "output_type": "stream",
     "text": [
      "<class 'pandas.core.frame.DataFrame'>\n",
      "Int64Index: 48488 entries, 0 to 287\n",
      "Data columns (total 8 columns):\n",
      " #   Column      Non-Null Count  Dtype \n",
      "---  ------      --------------  ----- \n",
      " 0   product_id  48488 non-null  object\n",
      " 1   review_id   48488 non-null  object\n",
      " 2   title       48488 non-null  object\n",
      " 3   review      48488 non-null  object\n",
      " 4   likes       48488 non-null  object\n",
      " 5   dislikes    48488 non-null  object\n",
      " 6   ratings     48488 non-null  object\n",
      " 7   reviewer    48488 non-null  object\n",
      "dtypes: object(8)\n",
      "memory usage: 3.3+ MB\n"
     ]
    }
   ],
   "source": [
    "# Dropping the rows with missing values\n",
    "\n",
    "df.dropna(inplace=True, axis=0)\n",
    "df.info()\n"
   ]
  },
  {
   "cell_type": "code",
   "execution_count": 10,
   "id": "8b1f2bf5",
   "metadata": {
    "execution": {
     "iopub.execute_input": "2022-07-05T07:37:50.975147Z",
     "iopub.status.busy": "2022-07-05T07:37:50.974837Z",
     "iopub.status.idle": "2022-07-05T07:37:51.498704Z",
     "shell.execute_reply": "2022-07-05T07:37:51.497770Z"
    },
    "papermill": {
     "duration": 0.561641,
     "end_time": "2022-07-05T07:37:51.500672",
     "exception": false,
     "start_time": "2022-07-05T07:37:50.939031",
     "status": "completed"
    },
    "tags": []
   },
   "outputs": [
    {
     "data": {
      "text/plain": [
       "<Figure size 1800x1440 with 0 Axes>"
      ]
     },
     "metadata": {},
     "output_type": "display_data"
    },
    {
     "data": {
      "image/png": "[encoded data removed]",
      "text/plain": [
       "<Figure size 1800x720 with 2 Axes>"
      ]
     },
     "metadata": {
      "needs_background": "light"
     },
     "output_type": "display_data"
    }
   ],
   "source": [
    "import missingno as msno\n",
    "plt.figure(figsize=(25, 20))\n",
    "msno.matrix(df, color=[0.2, 0.4, 1])\n",
    "plt.show()\n"
   ]
  },
  {
   "cell_type": "markdown",
   "id": "0feb437c",
   "metadata": {
    "papermill": {
     "duration": 0.034983,
     "end_time": "2022-07-05T07:37:51.572594",
     "exception": false,
     "start_time": "2022-07-05T07:37:51.537611",
     "status": "completed"
    },
    "tags": []
   },
   "source": [
    "I Guess We are done with Data Acquisition task lets move to the next phase of the natural language processing **Text-Cleaning**"
   ]
  },
  {
   "cell_type": "markdown",
   "id": "2be1a182",
   "metadata": {
    "papermill": {
     "duration": 0.03457,
     "end_time": "2022-07-05T07:37:51.642998",
     "exception": false,
     "start_time": "2022-07-05T07:37:51.608428",
     "status": "completed"
    },
    "tags": []
   },
   "source": [
    "<h1  style=\"text-align: center\" class=\"list-group-item list-group-item-action active\">3. Text Cleaning </h1><a id = \"3\" ></a>\n",
    "\n",
    "Text Cleaning is the process of extracting raw text from input data and converting it to the required encoding format by removing all non-textual material like markups and metadata. This is usually determined by the data format of the organisation (e.g., static data from PDF, HTML).\n",
    "\n",
    "Text cleaning is an important step in any NLP effort. And it may consume the majority of your project's time. We will discuss following techniques in upcoming subsections of text cleaning.\n",
    "\n",
    "- HTML Parsing and Cleanup\n",
    "- Unicode Normalization\n",
    "- Spelling Correction"
   ]
  },
  {
   "cell_type": "markdown",
   "id": "74092b89",
   "metadata": {
    "papermill": {
     "duration": 0.035088,
     "end_time": "2022-07-05T07:37:51.714400",
     "exception": false,
     "start_time": "2022-07-05T07:37:51.679312",
     "status": "completed"
    },
    "tags": []
   },
   "source": [
    "<h2  style=\"text-align: center\" class=\"list-group-item list-group-item-success\"> 3.1 Removing URLs </h2><a id = \"3.1\" ></a>\n",
    "\n",
    "URLs in the raw text can cause confusions to a NLP model and also they don't have any contextual meaning so better alternative is to remove these URLs from the raw text."
   ]
  },
  {
   "cell_type": "code",
   "execution_count": 11,
   "id": "c29b1039",
   "metadata": {
    "execution": {
     "iopub.execute_input": "2022-07-05T07:37:51.787953Z",
     "iopub.status.busy": "2022-07-05T07:37:51.786992Z",
     "iopub.status.idle": "2022-07-05T07:37:51.794003Z",
     "shell.execute_reply": "2022-07-05T07:37:51.793097Z"
    },
    "papermill": {
     "duration": 0.046115,
     "end_time": "2022-07-05T07:37:51.796415",
     "exception": false,
     "start_time": "2022-07-05T07:37:51.750300",
     "status": "completed"
    },
    "tags": []
   },
   "outputs": [
    {
     "name": "stdout",
     "output_type": "stream",
     "text": [
      "Text before removing url:- \n",
      " ℍ𝕚 𝔼𝕧𝕖𝕣𝕪𝕠𝕟𝕖 𝕀 𝕒𝕞 𝔸𝕟𝕜𝕚𝕥 𝔾𝕦𝕡𝕥𝕒 𝕙𝕒𝕧𝕚𝕟𝕘 𝕥𝕙𝕖 𝕗𝕠𝕝𝕝𝕠𝕨𝕚𝕟𝕘 𝕂𝕒𝕘𝕘𝕝𝕖 𝕡𝕣𝕠𝕗𝕚𝕝𝕖 \n",
      " https://www.kaggle.com/nkitgupta 𝕒𝕟𝕕 𝕀 𝕒𝕞 😊 𝕥𝕠 𝕔𝕣𝕖𝕒𝕥𝕖 𝕥𝕙𝕚𝕤 𝕟𝕠𝕥𝕖𝕓𝕠𝕠𝕜\n",
      "Text after removing url:- \n",
      " ℍ𝕚 𝔼𝕧𝕖𝕣𝕪𝕠𝕟𝕖 𝕀 𝕒𝕞 𝔸𝕟𝕜𝕚𝕥 𝔾𝕦𝕡𝕥𝕒 𝕙𝕒𝕧𝕚𝕟𝕘 𝕥𝕙𝕖 𝕗𝕠𝕝𝕝𝕠𝕨𝕚𝕟𝕘 𝕂𝕒𝕘𝕘𝕝𝕖 𝕡𝕣𝕠𝕗𝕚𝕝𝕖 \n",
      "  𝕒𝕟𝕕 𝕀 𝕒𝕞 😊 𝕥𝕠 𝕔𝕣𝕖𝕒𝕥𝕖 𝕥𝕙𝕚𝕤 𝕟𝕠𝕥𝕖𝕓𝕠𝕠𝕜\n"
     ]
    }
   ],
   "source": [
    "import re\n",
    "\n",
    "\n",
    "def remove_url(text):\n",
    "    text = re.sub(r\"http\\S+\", \"\", text)\n",
    "    return text\n",
    "\n",
    "\n",
    "# Example string with weird font characters plus an URL which we gonna remove.\n",
    "sample = \"ℍ𝕚 𝔼𝕧𝕖𝕣𝕪𝕠𝕟𝕖 𝕀 𝕒𝕞 𝔸𝕟𝕜𝕚𝕥 𝔾𝕦𝕡𝕥𝕒 𝕙𝕒𝕧𝕚𝕟𝕘 𝕥𝕙𝕖 𝕗𝕠𝕝𝕝𝕠𝕨𝕚𝕟𝕘 𝕂𝕒𝕘𝕘𝕝𝕖 𝕡𝕣𝕠𝕗𝕚𝕝𝕖 \\n https://www.kaggle.com/nkitgupta 𝕒𝕟𝕕 𝕀 𝕒𝕞 😊 𝕥𝕠 𝕔𝕣𝕖𝕒𝕥𝕖 𝕥𝕙𝕚𝕤 𝕟𝕠𝕥𝕖𝕓𝕠𝕠𝕜\"\n",
    "print(f\"Text before removing url:- \\n {sample}\")\n",
    "\n",
    "sample = remove_url(sample)\n",
    "print(f\"Text after removing url:- \\n {sample}\")\n"
   ]
  },
  {
   "cell_type": "markdown",
   "id": "9dc17227",
   "metadata": {
    "papermill": {
     "duration": 0.035381,
     "end_time": "2022-07-05T07:37:51.867219",
     "exception": false,
     "start_time": "2022-07-05T07:37:51.831838",
     "status": "completed"
    },
    "tags": []
   },
   "source": [
    "<h2  style=\"text-align: center\" class=\"list-group-item list-group-item-success\"> 3.2 Unicode Normalization </h2><a id = \"3.2\" ></a>\n",
    "\n",
    "Before we go into what is Unicode Normalization lets first discuss why do we need unicode normalization. Consider the following example with some weird font:-\n",
    "\n",
    "String 1 : ℍ𝕚 𝔼𝕧𝕖𝕣𝕪𝕠𝕟𝕖 𝕀 𝕒𝕞 𝔸𝕟𝕜𝕚𝕥 𝔾𝕦𝕡𝕥𝕒 𝕙𝕒𝕧𝕚𝕟𝕘 𝕥𝕙𝕖 𝕗𝕠𝕝𝕝𝕠𝕨𝕚𝕟𝕘 𝕂𝕒𝕘𝕘𝕝𝕖 𝕡𝕣𝕠𝕗𝕚𝕝𝕖 𝕒𝕟𝕕 𝕀 𝕒𝕞 😊 𝕥𝕠 𝕔𝕣𝕖𝕒𝕥𝕖 𝕥𝕙𝕚𝕤 𝕟𝕠𝕥𝕖𝕓𝕠𝕠𝕜\n",
    "\n",
    "String 2 : Hi everyone I am Ankit Gupta Having the following Kaggle profile and I am 😊 to create this notebook. \n",
    "\n",
    "Above string 1 is written in some weird font and it also have an emoji so these kind of things can easily confuse a NLP model because model will treat both string 1 and string 2 differently although they represent same semantic meaning. To overcome this problem we do **unicode normalization**. \n",
    "\n",
    "We need to handle these kinds of characters because many people on their social media posts use these kind of fonts. And primary source of data used in any NLP task is social media.\n",
    "\n",
    "Now we are good to discuss how we do **unicode normalization**."
   ]
  },
  {
   "cell_type": "code",
   "execution_count": null,
   "id": "7a5dc47d",
   "metadata": {
    "papermill": {
     "duration": 0.035148,
     "end_time": "2022-07-05T07:37:51.938308",
     "exception": false,
     "start_time": "2022-07-05T07:37:51.903160",
     "status": "completed"
    },
    "tags": []
   },
   "outputs": [],
   "source": []
  },
  {
   "cell_type": "markdown",
   "id": "e66b14c2",
   "metadata": {
    "papermill": {
     "duration": 0.03613,
     "end_time": "2022-07-05T07:37:52.010308",
     "exception": false,
     "start_time": "2022-07-05T07:37:51.974178",
     "status": "completed"
    },
    "tags": []
   },
   "source": [
    "<h3  style=\"text-align: center\" class=\"list-group-item list-group-item-warning\"> 3.2.1 The Issue of Equivalence</h3><a id = \"3.2.1\" ></a>\n",
    "\n",
    "When two or more characters have same semantic meaning but their representations are not same then we call it the **issue of Equivalence**. It is of 2 types compatibility equivalence, and canonical equivalence.\n",
    "\n",
    "**(a) Compatibility Equivalence**\n",
    "\n",
    "We identify compatible equivalence among a wide range of characters, some of which are abstract and others of which we see frequently.\n",
    "\n",
    "\n",
    "| | | Equivalence Reason |\n",
    "| --- | --- | --- |\n",
    "| ℌ | H | Font variant |\n",
    "| \\[NBSP\\] | \\[SPACE\\] | Both are linebreak sequences |\n",
    "| ① | 1 | Circled variant |\n",
    "| x² | x2 | Superscript |\n",
    "| xⱼ | xj | Subscript |\n",
    "| ½ | 1/2 | Fractions |\n",
    "\n",
    "In Above table words are having different characters representations but same semantic meaning. Our Objective is that model treats both \"𝕀 𝕒𝕞 😊 𝕥𝕠 𝕔𝕣𝕖𝕒𝕥𝕖 𝕥𝕙𝕚𝕤 𝕟𝕠𝕥𝕖𝕓𝕠𝕠𝕜\", \"I am happy to create this notebook\" the strings in the same way."
   ]
  },
  {
   "cell_type": "markdown",
   "id": "9ec269bf",
   "metadata": {
    "papermill": {
     "duration": 0.035122,
     "end_time": "2022-07-05T07:37:52.080673",
     "exception": false,
     "start_time": "2022-07-05T07:37:52.045551",
     "status": "completed"
    },
    "tags": []
   },
   "source": [
    "Consider this Example"
   ]
  },
  {
   "cell_type": "code",
   "execution_count": 12,
   "id": "23a4feb1",
   "metadata": {
    "execution": {
     "iopub.execute_input": "2022-07-05T07:37:52.153212Z",
     "iopub.status.busy": "2022-07-05T07:37:52.152517Z",
     "iopub.status.idle": "2022-07-05T07:37:52.157673Z",
     "shell.execute_reply": "2022-07-05T07:37:52.156708Z"
    },
    "papermill": {
     "duration": 0.045047,
     "end_time": "2022-07-05T07:37:52.160887",
     "exception": false,
     "start_time": "2022-07-05T07:37:52.115840",
     "status": "completed"
    },
    "tags": []
   },
   "outputs": [
    {
     "name": "stdout",
     "output_type": "stream",
     "text": [
      "Ç Ç\n"
     ]
    }
   ],
   "source": [
    "print(\"\\u00C7\", \"\\u0043\\u0327\")\n"
   ]
  },
  {
   "cell_type": "code",
   "execution_count": 13,
   "id": "e8ab135d",
   "metadata": {
    "execution": {
     "iopub.execute_input": "2022-07-05T07:37:52.233562Z",
     "iopub.status.busy": "2022-07-05T07:37:52.233319Z",
     "iopub.status.idle": "2022-07-05T07:37:52.239035Z",
     "shell.execute_reply": "2022-07-05T07:37:52.238171Z"
    },
    "papermill": {
     "duration": 0.0438,
     "end_time": "2022-07-05T07:37:52.240882",
     "exception": false,
     "start_time": "2022-07-05T07:37:52.197082",
     "status": "completed"
    },
    "tags": []
   },
   "outputs": [
    {
     "data": {
      "text/plain": [
       "False"
      ]
     },
     "execution_count": 13,
     "metadata": {},
     "output_type": "execute_result"
    }
   ],
   "source": [
    "\"\\u00C7\" == \"\\u0043\\u0327\"\n"
   ]
  },
  {
   "cell_type": "code",
   "execution_count": 14,
   "id": "40dcc847",
   "metadata": {
    "execution": {
     "iopub.execute_input": "2022-07-05T07:37:52.313396Z",
     "iopub.status.busy": "2022-07-05T07:37:52.313115Z",
     "iopub.status.idle": "2022-07-05T07:37:52.318609Z",
     "shell.execute_reply": "2022-07-05T07:37:52.317673Z"
    },
    "papermill": {
     "duration": 0.044187,
     "end_time": "2022-07-05T07:37:52.320728",
     "exception": false,
     "start_time": "2022-07-05T07:37:52.276541",
     "status": "completed"
    },
    "tags": []
   },
   "outputs": [
    {
     "data": {
      "text/plain": [
       "False"
      ]
     },
     "execution_count": 14,
     "metadata": {},
     "output_type": "execute_result"
    }
   ],
   "source": [
    "\"Ç\" == \"Ç\"\n"
   ]
  },
  {
   "cell_type": "markdown",
   "id": "c0f9541d",
   "metadata": {
    "papermill": {
     "duration": 0.035274,
     "end_time": "2022-07-05T07:37:52.392344",
     "exception": false,
     "start_time": "2022-07-05T07:37:52.357070",
     "status": "completed"
    },
    "tags": []
   },
   "source": [
    "**(b) Canonical Equivalence**\n",
    "\n",
    "Canonical equivalency is more difficult to discover since it involves characters which appear to be identical when rendered but are actually wholly separate characters.\n",
    "\n",
    "| | | Equivalence Reason |\n",
    "| --- | --- | --- |\n",
    "| Ç | C◌̧ | Combined character sequences |\n",
    "| 가 | ᄀ ᅡ | Conjoined Korean characters |\n",
    "\n"
   ]
  },
  {
   "cell_type": "markdown",
   "id": "e07b6578",
   "metadata": {
    "papermill": {
     "duration": 0.035059,
     "end_time": "2022-07-05T07:37:52.463561",
     "exception": false,
     "start_time": "2022-07-05T07:37:52.428502",
     "status": "completed"
    },
    "tags": []
   },
   "source": [
    "Our approach to canonical and compatibility equivalence difficulties is Unicode normalisation. There are two sorts of conversions and two directions for normalizing. Canonical and compatibility are the two sorts we've already discussed. Decomposition and composition will be what we gonna do.\n",
    "\n",
    "**Decomposition** :- In Decomposition we Decompose the character into many forms. So in the case of our Ç with cedilla we would break both versions of the character down into the two separate characters (Latin capital C + combining cedilla).\n",
    "\n",
    "**Composition** :- In Composition we merge them into one. In the case of our Ç with cedilla we would merge both versions of the characters up into the one separate characters (Latin capital C + combining cedilla).\n",
    "\n",
    "We get four possible normalisation forms when we combine these two directions with our two conversion types:\n",
    "\n",
    "| Name | Abbreviation | Description | Example |\n",
    "| --- | --- | --- | --- |\n",
    "| Form D | NFD | *Canonical* decomposition | `Ç` → `C ̧` |\n",
    "| Form C | NFC | *Canoncial* decomposition followed by *canonical* composition | `Ç` → `C ̧` → `Ç` |\n",
    "| Form KD | NFKD | *Compatibility* decomposition | `ℌ ̧` → `H ̧` |\n",
    "| Form KC | NFKC | *Compatibility* decomposition followed by *canonical* composition | `ℌ ̧` → `H ̧` → `Ḩ` |\n",
    "\n",
    "In this notebook I Will be using NFKD approach this is the one we use more frequently in NLP.\n",
    "\n",
    "For the more detailed understanding of the above mentioned composition decomposition approach read this beautiful blog post about\n",
    "\n",
    "[What on Earth is Unicode Normalization?](https://towardsdatascience.com/what-on-earth-is-unicode-normalization-56c005c55ad0) By James Briggs on Towards Data Science."
   ]
  },
  {
   "cell_type": "code",
   "execution_count": 15,
   "id": "706cbfe2",
   "metadata": {
    "execution": {
     "iopub.execute_input": "2022-07-05T07:37:52.537054Z",
     "iopub.status.busy": "2022-07-05T07:37:52.536774Z",
     "iopub.status.idle": "2022-07-05T07:37:52.544066Z",
     "shell.execute_reply": "2022-07-05T07:37:52.543199Z"
    },
    "papermill": {
     "duration": 0.047591,
     "end_time": "2022-07-05T07:37:52.546717",
     "exception": false,
     "start_time": "2022-07-05T07:37:52.499126",
     "status": "completed"
    },
    "tags": []
   },
   "outputs": [
    {
     "name": "stdout",
     "output_type": "stream",
     "text": [
      "Text before Unicode Normalization:- \n",
      " ℍ𝕚 𝔼𝕧𝕖𝕣𝕪𝕠𝕟𝕖 𝕀 𝕒𝕞 𝔸𝕟𝕜𝕚𝕥 𝔾𝕦𝕡𝕥𝕒 𝕙𝕒𝕧𝕚𝕟𝕘 𝕥𝕙𝕖 𝕗𝕠𝕝𝕝𝕠𝕨𝕚𝕟𝕘 𝕂𝕒𝕘𝕘𝕝𝕖 𝕡𝕣𝕠𝕗𝕚𝕝𝕖 \n",
      "  𝕒𝕟𝕕 𝕀 𝕒𝕞 😊 𝕥𝕠 𝕔𝕣𝕖𝕒𝕥𝕖 𝕥𝕙𝕚𝕤 𝕟𝕠𝕥𝕖𝕓𝕠𝕠𝕜\n",
      "Text after Unicode Normalization:- \n",
      " Hi Everyone I am Ankit Gupta having the following Kaggle profile \n",
      "  and I am 😊 to create this notebook\n"
     ]
    }
   ],
   "source": [
    "import unicodedata as uni\n",
    "\n",
    "print(f\"Text before Unicode Normalization:- \\n {sample}\")\n",
    "\n",
    "sample = uni.normalize('NFKD', sample)\n",
    "print(f\"Text after Unicode Normalization:- \\n {sample}\")\n"
   ]
  },
  {
   "cell_type": "markdown",
   "id": "b4c7b32a",
   "metadata": {
    "papermill": {
     "duration": 0.035466,
     "end_time": "2022-07-05T07:37:52.618976",
     "exception": false,
     "start_time": "2022-07-05T07:37:52.583510",
     "status": "completed"
    },
    "tags": []
   },
   "source": [
    "We successfully removed compatibility equivalence from the above example 🥳🥳. Our Next Task is to handle these emojis. "
   ]
  },
  {
   "cell_type": "markdown",
   "id": "1b5c617a",
   "metadata": {
    "papermill": {
     "duration": 0.036101,
     "end_time": "2022-07-05T07:37:52.691515",
     "exception": false,
     "start_time": "2022-07-05T07:37:52.655414",
     "status": "completed"
    },
    "tags": []
   },
   "source": [
    "<h3  style=\"text-align: center\" class=\"list-group-item list-group-item-warning\"> 3.2.2 Handling Emoji ‘😍😍’ & Emoticon ‘ :) ’</h3><a id = \"3.2.2\" ></a>\n",
    "\n",
    "We need to handle emojis because they store lots of important information about the sentiment of the text we dont't want to lose this information by just removing them from the text. There are lots of ways to handle them in this notebook I am replacing them with their English version using python library \"demoji\".\n",
    "\n",
    "**What is an Emoji 🤔?**\n",
    "\n",
    "Emojis are small digital images or icons that are used to convey a message or emotion. These are small enough to be inserted into a text document. \"e\" stands for image, while \"moji\" stands for character in Japanese.\n",
    "\n",
    "Consider the example of Emoji Handling \n",
    "\n",
    "\n",
    "I ❤ 🍔 so much \n",
    "\n",
    "English version of above comment is\n",
    "\n",
    "I love burger so much\n",
    "\n",
    "**What is an Emoticon ‘ :-) ’?**\n",
    "\n",
    "An emoticon is a combination of the words \"emotion\" and \"icon.\" It is a keyboard depiction of a facial expression, such as a smile or frown, that is used to indicate the writer's feelings or intended tone.\n",
    "\n",
    "Examples-\n",
    ":-)   Smile\n",
    "\n",
    ";-)   Smile with a wink\n"
   ]
  },
  {
   "cell_type": "code",
   "execution_count": 16,
   "id": "85ae7bfd",
   "metadata": {
    "execution": {
     "iopub.execute_input": "2022-07-05T07:37:52.765381Z",
     "iopub.status.busy": "2022-07-05T07:37:52.765031Z",
     "iopub.status.idle": "2022-07-05T07:38:03.492300Z",
     "shell.execute_reply": "2022-07-05T07:38:03.491197Z"
    },
    "papermill": {
     "duration": 10.768051,
     "end_time": "2022-07-05T07:38:03.495235",
     "exception": false,
     "start_time": "2022-07-05T07:37:52.727184",
     "status": "completed"
    },
    "scrolled": true,
    "tags": []
   },
   "outputs": [
    {
     "name": "stdout",
     "output_type": "stream",
     "text": [
      "Collecting demoji\r\n",
      "  Downloading demoji-1.1.0-py3-none-any.whl (42 kB)\r\n",
      "\u001b[2K     \u001b[90m━━━━━━━━━━━━━━━━━━━━━━━━━━━━━━━━━━━━━━━\u001b[0m \u001b[32m42.9/42.9 kB\u001b[0m \u001b[31m532.2 kB/s\u001b[0m eta \u001b[36m0:00:00\u001b[0m\r\n",
      "\u001b[?25hInstalling collected packages: demoji\r\n",
      "Successfully installed demoji-1.1.0\r\n",
      "\u001b[33mWARNING: Running pip as the 'root' user can result in broken permissions and conflicting behaviour with the system package manager. It is recommended to use a virtual environment instead: https://pip.pypa.io/warnings/venv\u001b[0m\u001b[33m\r\n",
      "\u001b[0m"
     ]
    }
   ],
   "source": [
    "!pip install demoji"
   ]
  },
  {
   "cell_type": "code",
   "execution_count": 17,
   "id": "5f78ab5c",
   "metadata": {
    "execution": {
     "iopub.execute_input": "2022-07-05T07:38:03.570034Z",
     "iopub.status.busy": "2022-07-05T07:38:03.569698Z",
     "iopub.status.idle": "2022-07-05T07:38:03.670112Z",
     "shell.execute_reply": "2022-07-05T07:38:03.669186Z"
    },
    "papermill": {
     "duration": 0.14029,
     "end_time": "2022-07-05T07:38:03.672077",
     "exception": false,
     "start_time": "2022-07-05T07:38:03.531787",
     "status": "completed"
    },
    "tags": []
   },
   "outputs": [
    {
     "name": "stdout",
     "output_type": "stream",
     "text": [
      "Before Handling emoji:- \n",
      " Hi Everyone I am Ankit Gupta having the following Kaggle profile \n",
      "  and I am 😊 to create this notebook\n",
      "After Handling emoji:- \n",
      " Hi Everyone I am Ankit Gupta having the following Kaggle profile \n",
      "  and I am  smiling face with smiling eyes to create this notebook\n"
     ]
    }
   ],
   "source": [
    "import demoji\n",
    "\n",
    "\n",
    "def handle_emoji(string):\n",
    "    emojis = demoji.findall(string)\n",
    "\n",
    "    for emoji in emojis:\n",
    "        string = string.replace(emoji, \" \" + emojis[emoji].split(\":\")[0])\n",
    "\n",
    "    return string\n",
    "\n",
    "\n",
    "print(f\"Before Handling emoji:- \\n {sample}\")\n",
    "print(f\"After Handling emoji:- \\n {handle_emoji(sample)}\")\n"
   ]
  },
  {
   "cell_type": "markdown",
   "id": "4eb2e783",
   "metadata": {
    "papermill": {
     "duration": 0.036545,
     "end_time": "2022-07-05T07:38:03.745049",
     "exception": false,
     "start_time": "2022-07-05T07:38:03.708504",
     "status": "completed"
    },
    "tags": []
   },
   "source": [
    "For the more detailed understanding of the above mentioned emoji handling approach read this beautiful blog post about\n",
    "\n",
    "[How to handle Emoji ‘😄’ & Emoticon ‘ :-) ’ in text preprocessing?](https://medium.com/geekculture/text-preprocessing-how-to-handle-emoji-emoticon-641bbfa6e9e7) By Paritosh Mahto.\n"
   ]
  },
  {
   "cell_type": "markdown",
   "id": "0068c2a0",
   "metadata": {
    "papermill": {
     "duration": 0.035399,
     "end_time": "2022-07-05T07:38:03.816490",
     "exception": false,
     "start_time": "2022-07-05T07:38:03.781091",
     "status": "completed"
    },
    "tags": []
   },
   "source": [
    "<h2  style=\"text-align: center\" class=\"list-group-item list-group-item-success\"> 3.3 Spelling Correction </h2><a id = \"3.3\" ></a>\n",
    "\n",
    "Due to fast typing or fat finger typing many people experience spelling mistakes. For a NLP model understanding of the context is very important is spelling got wrong then whole context of the text may get wrong. We will do spelling correction using pyspellchecker a python library. "
   ]
  },
  {
   "cell_type": "code",
   "execution_count": 18,
   "id": "5153442a",
   "metadata": {
    "execution": {
     "iopub.execute_input": "2022-07-05T07:38:03.891305Z",
     "iopub.status.busy": "2022-07-05T07:38:03.890407Z",
     "iopub.status.idle": "2022-07-05T07:38:03.895089Z",
     "shell.execute_reply": "2022-07-05T07:38:03.894196Z"
    },
    "papermill": {
     "duration": 0.043891,
     "end_time": "2022-07-05T07:38:03.896999",
     "exception": false,
     "start_time": "2022-07-05T07:38:03.853108",
     "status": "completed"
    },
    "tags": []
   },
   "outputs": [],
   "source": [
    "# from spellchecker import SpellChecker\n",
    "\n",
    "# spell = SpellChecker()\n",
    "\n",
    "# # Add misspelled words to the list\n",
    "# misspelled_words = [\"nsme\", \"mobiile\", \"phoone\"]\n",
    "# print(f\" Misspelled words before correction:- \\n {misspelled_words}\")\n",
    "# print(f\" Misspelled words after correction\")\n",
    "# for word in misspelled_words:\n",
    "#     # Get the one `most likely` answer\n",
    "#     print(spell.correction(word))\n"
   ]
  },
  {
   "cell_type": "code",
   "execution_count": 19,
   "id": "3a03a6d8",
   "metadata": {
    "execution": {
     "iopub.execute_input": "2022-07-05T07:38:03.970736Z",
     "iopub.status.busy": "2022-07-05T07:38:03.970476Z",
     "iopub.status.idle": "2022-07-05T07:38:03.974553Z",
     "shell.execute_reply": "2022-07-05T07:38:03.973657Z"
    },
    "papermill": {
     "duration": 0.04339,
     "end_time": "2022-07-05T07:38:03.976559",
     "exception": false,
     "start_time": "2022-07-05T07:38:03.933169",
     "status": "completed"
    },
    "tags": []
   },
   "outputs": [],
   "source": [
    "# spell.correction(\"nsme\")"
   ]
  },
  {
   "cell_type": "code",
   "execution_count": null,
   "id": "56ecf2e1",
   "metadata": {
    "papermill": {
     "duration": 0.03564,
     "end_time": "2022-07-05T07:38:04.049053",
     "exception": false,
     "start_time": "2022-07-05T07:38:04.013413",
     "status": "completed"
    },
    "tags": []
   },
   "outputs": [],
   "source": []
  },
  {
   "cell_type": "markdown",
   "id": "35b65ae8",
   "metadata": {
    "papermill": {
     "duration": 0.036093,
     "end_time": "2022-07-05T07:38:04.121408",
     "exception": false,
     "start_time": "2022-07-05T07:38:04.085315",
     "status": "completed"
    },
    "tags": []
   },
   "source": [
    "For the more detailed understanding of the above mentioned Spelling Correction approach read this beautiful blog post about\n",
    "\n",
    "[Spelling checker in Python](https://www.geeksforgeeks.org/spelling-checker-in-python/)\n"
   ]
  },
  {
   "cell_type": "markdown",
   "id": "c8cf3d3d",
   "metadata": {
    "papermill": {
     "duration": 0.036411,
     "end_time": "2022-07-05T07:38:04.193949",
     "exception": false,
     "start_time": "2022-07-05T07:38:04.157538",
     "status": "completed"
    },
    "tags": []
   },
   "source": [
    "<h1  style=\"text-align: center\" class=\"list-group-item list-group-item-action active\">4. Text Pre-Processing </h1><a id = \"4\" ></a>\n",
    "\n",
    "In the previous section we covered the text extraction and cleaning phase of a NLP project. Question may arise if we did the cleaning and extraction task then why do we need text-preprocessing phase. Answer is pretty simple any NLP project consist of modelling phase in which we train the model so that we can use it for real world data. And model needs numerical data but our data is textual so that's why we have to do various text preprocessing task.\n",
    "\n",
    "Below I mentioned few pre-processing tasks:-\n",
    "\n",
    "- **Preliminaries**\n",
    "    - Sentence segmentation and word tokenization.\n",
    "- **Frequent steps**\n",
    "    - Stop word removal, stemming and lemmatization, removing digits/punctuation, lowercasing, etc.\n",
    "- **Other steps**\n",
    "    - Normalization, language detection, code mixing, transliteration, etc.\n",
    "- **Advanced processing**\n",
    "    - POS tagging, parsing, coreference resolution, etc.\n",
    "\n",
    "above mentioned task vary according to the task or model we wil use."
   ]
  },
  {
   "cell_type": "markdown",
   "id": "9e7e1c92",
   "metadata": {
    "papermill": {
     "duration": 0.035375,
     "end_time": "2022-07-05T07:38:04.265544",
     "exception": false,
     "start_time": "2022-07-05T07:38:04.230169",
     "status": "completed"
    },
    "tags": []
   },
   "source": [
    "<h2  style=\"text-align: center\" class=\"list-group-item list-group-item-success\"> 4.1 Preliminaries </h2><a id = \"4.1\" ></a>\n",
    "\n",
    "Any NLP based task can be done by breaking the text into words(tokens) and sentences. So now we have to focus on breaking the text into sentences first (**Sentence Tokenization**) and then into words (**Word Tokenization**). \n",
    "\n",
    "But in our case we are not dealing with task with such a big textual data that need to be first break into sentences, in our case we already have the sentences so we just have to proceed with the word tokenization."
   ]
  },
  {
   "cell_type": "code",
   "execution_count": 20,
   "id": "a09d70a4",
   "metadata": {
    "execution": {
     "iopub.execute_input": "2022-07-05T07:38:04.338021Z",
     "iopub.status.busy": "2022-07-05T07:38:04.337741Z",
     "iopub.status.idle": "2022-07-05T07:38:04.343371Z",
     "shell.execute_reply": "2022-07-05T07:38:04.342272Z"
    },
    "papermill": {
     "duration": 0.044701,
     "end_time": "2022-07-05T07:38:04.345876",
     "exception": false,
     "start_time": "2022-07-05T07:38:04.301175",
     "status": "completed"
    },
    "tags": []
   },
   "outputs": [
    {
     "name": "stdout",
     "output_type": "stream",
     "text": [
      "Hi Everyone I am Ankit Gupta.\n",
      "['hi', 'everyone', 'i', 'am', 'ankit', 'gupta.']\n"
     ]
    }
   ],
   "source": [
    "def word_tokenizer(text):\n",
    "    text = text.lower()\n",
    "    text = text.split()\n",
    "\n",
    "    return text\n",
    "\n",
    "\n",
    "sample = \"Hi Everyone I am Ankit Gupta.\"\n",
    "print(sample)\n",
    "print(word_tokenizer(sample))\n"
   ]
  },
  {
   "cell_type": "markdown",
   "id": "022692b2",
   "metadata": {
    "papermill": {
     "duration": 0.035398,
     "end_time": "2022-07-05T07:38:04.416968",
     "exception": false,
     "start_time": "2022-07-05T07:38:04.381570",
     "status": "completed"
    },
    "tags": []
   },
   "source": [
    "For identifying specific patterns (e.g., dates or money expressions), well-formed regular expressions are the first step. In many practical scenarios, we may end up using a custom tokenizer or sentence segmenter that suits our text structure instead of or on top of an existing one available in a standard NLP library."
   ]
  },
  {
   "cell_type": "markdown",
   "id": "b13a4d2c",
   "metadata": {
    "papermill": {
     "duration": 0.036809,
     "end_time": "2022-07-05T07:38:04.489886",
     "exception": false,
     "start_time": "2022-07-05T07:38:04.453077",
     "status": "completed"
    },
    "tags": []
   },
   "source": [
    "<h2  style=\"text-align: center\" class=\"list-group-item list-group-item-success\"> 4.2 Frequent Steps </h2><a id = \"4.2\" ></a>\n",
    "\n",
    "Let's have a look at some more common NLP pipeline pre-processing activities. Assume we're developing software that classifies news articles into one of four categories: politics, sports, business, or other. Assume we've got a decent sentence segmenter and tokenizer in place. At that point, we'd have to consider what kind of data might be valuable in constructing a categorization tool. Some commonly used English terms, such as a, an, the, of, in, and so on, aren't especially beneficial for this purpose because they don't carry enough substance to distinguish between the four categories on their own. **Stop words** are words that are typically (but not always) eliminated from further processing in problem scenarios like this."
   ]
  },
  {
   "cell_type": "markdown",
   "id": "dfe3b7b4",
   "metadata": {
    "papermill": {
     "duration": 0.035996,
     "end_time": "2022-07-05T07:38:04.561576",
     "exception": false,
     "start_time": "2022-07-05T07:38:04.525580",
     "status": "completed"
    },
    "tags": []
   },
   "source": [
    "<h3  style=\"text-align: center\" class=\"list-group-item list-group-item-warning\"> 4.2.1 Removing Stop Words </h3><a id = \"4.2.1\" ></a>"
   ]
  },
  {
   "cell_type": "code",
   "execution_count": 21,
   "id": "bed08d91",
   "metadata": {
    "execution": {
     "iopub.execute_input": "2022-07-05T07:38:04.636001Z",
     "iopub.status.busy": "2022-07-05T07:38:04.635610Z",
     "iopub.status.idle": "2022-07-05T07:38:04.647769Z",
     "shell.execute_reply": "2022-07-05T07:38:04.645959Z"
    },
    "papermill": {
     "duration": 0.052678,
     "end_time": "2022-07-05T07:38:04.651022",
     "exception": false,
     "start_time": "2022-07-05T07:38:04.598344",
     "status": "completed"
    },
    "tags": []
   },
   "outputs": [
    {
     "name": "stdout",
     "output_type": "stream",
     "text": [
      "Stop Words in English : \n",
      "{'who', \"mightn't\", 'from', 've', 'mustn', 'yours', \"didn't\", 'below', 'should', 'll', 'ain', 'here', 'where', 'them', 'off', 'don', \"should've\", 'your', 'when', \"you're\", 'against', \"doesn't\", 'that', 'only', 'some', 'wouldn', 'themselves', 'on', 'after', 'it', 'while', 'any', 'needn', 'i', 'he', 'than', 'about', 'with', 'does', \"wouldn't\", 'which', 'as', 'and', 'can', \"you've\", 'having', 'did', 'had', 'of', 'me', 'this', \"that'll\", 'have', 'couldn', 'few', \"don't\", 'didn', \"aren't\", 'because', 'over', 'hadn', 'wasn', 'at', 'or', 'now', 'other', \"it's\", 'above', 'further', 'won', 'were', 'herself', 'more', 'hers', \"you'd\", 'a', 'but', 'through', 'if', \"she's\", 'all', 'm', 'she', 'do', 'most', 'just', 'ma', 'such', 'himself', 'd', \"won't\", 'there', 'myself', 'are', 'then', 'own', \"isn't\", 'y', 'mightn', \"needn't\", 'for', \"couldn't\", 'why', 'yourselves', 'her', 'our', 'will', 'be', 'itself', 'during', 'ourselves', 'aren', 'yourself', 'both', 'these', 'doesn', 'so', \"you'll\", \"shan't\", 'those', 'until', 'is', 'his', 'an', 'before', \"weren't\", 'between', 'him', \"shouldn't\", 'once', 'same', 'shan', 'am', 'has', 'o', 'ours', 'we', 'shouldn', 'their', \"mustn't\", 'you', 'they', 'weren', 'down', 'into', 'up', 'no', 'nor', 'out', 'under', \"wasn't\", 'in', 'each', 'its', 'the', 'what', 'very', \"haven't\", 'by', 's', \"hadn't\", 'doing', 'theirs', 'being', \"hasn't\", 'not', 'hasn', 'how', 're', 't', 'my', 'too', 'whom', 'isn', 'was', 'again', 'to', 'been', 'haven'}\n"
     ]
    }
   ],
   "source": [
    "from nltk.corpus import stopwords\n",
    "\n",
    "en_stopwords = set(stopwords.words('english'))\n",
    "print(f\"Stop Words in English : \\n{ en_stopwords}\")\n"
   ]
  },
  {
   "cell_type": "code",
   "execution_count": 22,
   "id": "ffe4227e",
   "metadata": {
    "execution": {
     "iopub.execute_input": "2022-07-05T07:38:04.747430Z",
     "iopub.status.busy": "2022-07-05T07:38:04.747042Z",
     "iopub.status.idle": "2022-07-05T07:38:04.753359Z",
     "shell.execute_reply": "2022-07-05T07:38:04.752287Z"
    },
    "papermill": {
     "duration": 0.054256,
     "end_time": "2022-07-05T07:38:04.756707",
     "exception": false,
     "start_time": "2022-07-05T07:38:04.702451",
     "status": "completed"
    },
    "tags": []
   },
   "outputs": [
    {
     "name": "stdout",
     "output_type": "stream",
     "text": [
      "Before removing stopwords : ['hi', 'everyone', 'i', 'am', 'ankit', 'gupta.']\n",
      "After removing stopwords : ['hi', 'everyone', 'ankit', 'gupta.']\n"
     ]
    }
   ],
   "source": [
    "def remove_stopwords(text):\n",
    "    text = [word for word in text if word not in en_stopwords]\n",
    "    return text\n",
    "\n",
    "\n",
    "print(f\"Before removing stopwords : {word_tokenizer(sample)}\")\n",
    "print(f\"After removing stopwords : {remove_stopwords(word_tokenizer(sample))}\")\n"
   ]
  },
  {
   "cell_type": "markdown",
   "id": "3ab82a53",
   "metadata": {
    "papermill": {
     "duration": 0.03583,
     "end_time": "2022-07-05T07:38:04.833814",
     "exception": false,
     "start_time": "2022-07-05T07:38:04.797984",
     "status": "completed"
    },
    "tags": []
   },
   "source": [
    "<h3  style=\"text-align: center\" class=\"list-group-item list-group-item-warning\"> 4.2.2 Stemming</h3><a id = \"4.2.2\" ></a>\n",
    "\n",
    "**Stemming** refers to the process of removing suffixes and reducing a word to some base form such that all different variants of that word can be represented by the same form (e.g., “dog” and “dogs” are both reduced to “dog”). This is accomplished by applying a fixed set of rules (e.g., if the word ends in “-es,” remove “-es”). More such examples are shown in below Figure.\n",
    "\n",
    "![](https://user.oc-static.com/upload/2020/10/22/16033551309054_stemming%20example.png)\n",
    "\n",
    "This is accomplished by applying a fixed set of rules (e.g., if the word ends in “-es,” remove “-es”)."
   ]
  },
  {
   "cell_type": "code",
   "execution_count": 23,
   "id": "b537c4d9",
   "metadata": {
    "execution": {
     "iopub.execute_input": "2022-07-05T07:38:04.909156Z",
     "iopub.status.busy": "2022-07-05T07:38:04.908318Z",
     "iopub.status.idle": "2022-07-05T07:38:04.917049Z",
     "shell.execute_reply": "2022-07-05T07:38:04.915949Z"
    },
    "papermill": {
     "duration": 0.048824,
     "end_time": "2022-07-05T07:38:04.919792",
     "exception": false,
     "start_time": "2022-07-05T07:38:04.870968",
     "status": "completed"
    },
    "tags": []
   },
   "outputs": [
    {
     "name": "stdout",
     "output_type": "stream",
     "text": [
      "Before Stemming : I am creating a Notebook\n",
      "After Stemming : ['i', 'am', 'creat', 'a', 'notebook']\n"
     ]
    }
   ],
   "source": [
    "from nltk.stem.porter import PorterStemmer\n",
    "from nltk.stem.lancaster import LancasterStemmer\n",
    "\n",
    "stemmer = PorterStemmer()\n",
    "# stemmer = LancasterStemmer()\n",
    "\n",
    "\n",
    "def stemming(text):\n",
    "\n",
    "    text = [stemmer.stem(word) for word in text]\n",
    "    return text\n",
    "\n",
    "\n",
    "sample = \"I am creating a Notebook\"\n",
    "print(f\"Before Stemming : {(sample)}\")\n",
    "print(f\"After Stemming : {stemming(word_tokenizer(sample))}\")\n"
   ]
  },
  {
   "cell_type": "markdown",
   "id": "8f0a8c8f",
   "metadata": {
    "papermill": {
     "duration": 0.036216,
     "end_time": "2022-07-05T07:38:04.992591",
     "exception": false,
     "start_time": "2022-07-05T07:38:04.956375",
     "status": "completed"
    },
    "tags": []
   },
   "source": [
    "Stemming is just removing the suffix to get the base form of the word but the resultant word is not desired results, I mean to say when we will use word embeddings later then it may affect badly. So we need to look for the alternative for stemming and that is lemmatization it gets the word's base form on the basis of its context.\n",
    "\n",
    "![](https://stringfixer.com/files/107654628.jpg)\n",
    "\n"
   ]
  },
  {
   "cell_type": "markdown",
   "id": "3903c722",
   "metadata": {
    "papermill": {
     "duration": 0.035803,
     "end_time": "2022-07-05T07:38:05.112965",
     "exception": false,
     "start_time": "2022-07-05T07:38:05.077162",
     "status": "completed"
    },
    "tags": []
   },
   "source": [
    "<h3  style=\"text-align: center\" class=\"list-group-item list-group-item-warning\"> 4.2.3 Lemmatization</h3><a id = \"4.2.3\" ></a>\n",
    "\n",
    "Lemmatization is the process of mapping all the different forms of a word to its base word, or lemma. While this seems close to the definition of stemming, they are, in fact, different. For example, the adjective “better,” when stemmed, remains the same. However, upon lemmatization, this should become “good,” as shown in Figure below. \n",
    "\n",
    "![](https://devopedia.org/images/article/227/6785.1570815200.png)\n",
    "\n",
    "\n",
    "Lemmatization requires more linguistic knowledge, and modeling and developing efficient lemmatizers remains an open problem in NLP research even now."
   ]
  },
  {
   "cell_type": "code",
   "execution_count": 24,
   "id": "abef6079",
   "metadata": {
    "execution": {
     "iopub.execute_input": "2022-07-05T07:38:05.187979Z",
     "iopub.status.busy": "2022-07-05T07:38:05.187639Z",
     "iopub.status.idle": "2022-07-05T07:38:05.191640Z",
     "shell.execute_reply": "2022-07-05T07:38:05.190702Z"
    },
    "papermill": {
     "duration": 0.043454,
     "end_time": "2022-07-05T07:38:05.193587",
     "exception": false,
     "start_time": "2022-07-05T07:38:05.150133",
     "status": "completed"
    },
    "tags": []
   },
   "outputs": [],
   "source": [
    "# !python -m spacy download en\n"
   ]
  },
  {
   "cell_type": "code",
   "execution_count": 25,
   "id": "51a6ce82",
   "metadata": {
    "execution": {
     "iopub.execute_input": "2022-07-05T07:38:05.267219Z",
     "iopub.status.busy": "2022-07-05T07:38:05.266907Z",
     "iopub.status.idle": "2022-07-05T07:38:07.710631Z",
     "shell.execute_reply": "2022-07-05T07:38:07.709457Z"
    },
    "papermill": {
     "duration": 2.483027,
     "end_time": "2022-07-05T07:38:07.713297",
     "exception": false,
     "start_time": "2022-07-05T07:38:05.230270",
     "status": "completed"
    },
    "tags": []
   },
   "outputs": [],
   "source": [
    "import spacy\n",
    "\n",
    "sp = spacy.load(\"en_core_web_sm\")"
   ]
  },
  {
   "cell_type": "code",
   "execution_count": 26,
   "id": "93bf8c08",
   "metadata": {
    "execution": {
     "iopub.execute_input": "2022-07-05T07:38:07.788475Z",
     "iopub.status.busy": "2022-07-05T07:38:07.788162Z",
     "iopub.status.idle": "2022-07-05T07:38:07.817278Z",
     "shell.execute_reply": "2022-07-05T07:38:07.816195Z"
    },
    "papermill": {
     "duration": 0.068576,
     "end_time": "2022-07-05T07:38:07.819177",
     "exception": false,
     "start_time": "2022-07-05T07:38:07.750601",
     "status": "completed"
    },
    "tags": []
   },
   "outputs": [
    {
     "name": "stdout",
     "output_type": "stream",
     "text": [
      "Before Lemmatization : ['i', 'am', 'creating', 'a', 'notebook']\n",
      "After Lemmatization : ['i', 'be', 'create', 'a', 'notebook']\n"
     ]
    }
   ],
   "source": [
    "def lemmatization(text):\n",
    "\n",
    "    # text = [sp(word).lemma_ for word in text]\n",
    "\n",
    "    text = \" \".join(text)\n",
    "    token = sp(text)\n",
    "\n",
    "    text = [word.lemma_ for word in token]\n",
    "    return text\n",
    "\n",
    "\n",
    "print(f\"Before Lemmatization : {word_tokenizer(sample)}\")\n",
    "print(f\"After Lemmatization : {lemmatization(word_tokenizer(sample))}\")\n"
   ]
  },
  {
   "attachments": {
    "image.png": {
     "image/png": "[encoded data removed]"
    }
   },
   "cell_type": "markdown",
   "id": "68b1f548",
   "metadata": {
    "papermill": {
     "duration": 0.036613,
     "end_time": "2022-07-05T07:38:07.892206",
     "exception": false,
     "start_time": "2022-07-05T07:38:07.855593",
     "status": "completed"
    },
    "tags": []
   },
   "source": [
    "Keep in mind that not all of these procedures are always required, and not all of them must be completed in the sequence listed. When removing numerals and punctuation, for example, the order in which they are eliminated may not matter. However, Before stemming, we usually lowercase the text. \n",
    "\n",
    "And before lemmatization We don't take tokens away either. Because we need to know which part of the text to lemmatize, we must lowercase it first. To get the lemma of a word, it must be said, and all tokens in the phrase must be intact. \n",
    "\n",
    "![image.png](attachment:image.png)\n",
    "\n",
    "Preparing a sequential list of pre-processing chores is a recommended practice to follow, must be completed once we have a firm grasp on how to handle our data."
   ]
  },
  {
   "cell_type": "markdown",
   "id": "4252fc6a",
   "metadata": {
    "papermill": {
     "duration": 0.036903,
     "end_time": "2022-07-05T07:38:07.965941",
     "exception": false,
     "start_time": "2022-07-05T07:38:07.929038",
     "status": "completed"
    },
    "tags": []
   },
   "source": [
    "<h2  style=\"text-align: center\" class=\"list-group-item list-group-item-success\"> 4.3 Other Pre-Processing Steps </h2><a id = \"4.3\" ></a>\n",
    "\n",
    "\n",
    "In an NLP pipeline, we've seen a few common pre-processing processes so far. We have presumed that we are dealing with standard English text despite the fact that the nature of the texts has not been expressly mentioned. What makes a difference if this isn't the case? Using a few examples, let's explain a few more pre-processing processes to deal with such instances."
   ]
  },
  {
   "cell_type": "markdown",
   "id": "fb525fb7",
   "metadata": {
    "papermill": {
     "duration": 0.036764,
     "end_time": "2022-07-05T07:38:08.039590",
     "exception": false,
     "start_time": "2022-07-05T07:38:08.002826",
     "status": "completed"
    },
    "tags": []
   },
   "source": [
    "<h3  style=\"text-align: center\" class=\"list-group-item list-group-item-warning\"> 4.3.1 Language Detection</h3><a id = \"4.3.1\" ></a>\n",
    "\n",
    "\n",
    "These day lot of information on web are multi language. But we assumed text to be in English only on that assumption we have constructed the pipeline. So what now, we just need to add another component to the pipeline at its start for **language detection**\n",
    "\n",
    "We can use libraries like Pycld2 for language detection. Once this step is done, the next steps could follow a language-specific pipeline."
   ]
  },
  {
   "cell_type": "code",
   "execution_count": 27,
   "id": "d56a9998",
   "metadata": {
    "execution": {
     "iopub.execute_input": "2022-07-05T07:38:08.114477Z",
     "iopub.status.busy": "2022-07-05T07:38:08.113650Z",
     "iopub.status.idle": "2022-07-05T07:38:20.430301Z",
     "shell.execute_reply": "2022-07-05T07:38:20.429192Z"
    },
    "papermill": {
     "duration": 12.356576,
     "end_time": "2022-07-05T07:38:20.432846",
     "exception": false,
     "start_time": "2022-07-05T07:38:08.076270",
     "status": "completed"
    },
    "scrolled": true,
    "tags": []
   },
   "outputs": [
    {
     "name": "stdout",
     "output_type": "stream",
     "text": [
      "Collecting langdetect\r\n",
      "  Downloading langdetect-1.0.9.tar.gz (981 kB)\r\n",
      "\u001b[2K     \u001b[90m━━━━━━━━━━━━━━━━━━━━━━━━━━━━━━━━━━━━━━━\u001b[0m \u001b[32m981.5/981.5 kB\u001b[0m \u001b[31m3.6 MB/s\u001b[0m eta \u001b[36m0:00:00\u001b[0m\r\n",
      "\u001b[?25h  Preparing metadata (setup.py) ... \u001b[?25l-\b \bdone\r\n",
      "\u001b[?25hRequirement already satisfied: six in /opt/conda/lib/python3.7/site-packages (from langdetect) (1.16.0)\r\n",
      "Building wheels for collected packages: langdetect\r\n",
      "  Building wheel for langdetect (setup.py) ... \u001b[?25l-\b \b\\\b \b|\b \b/\b \bdone\r\n",
      "\u001b[?25h  Created wheel for langdetect: filename=langdetect-1.0.9-py3-none-any.whl size=993242 sha256=654919c88058378362a0a16ad79ca588fca6f24d0ed57ce822fd5d0230fa6109\r\n",
      "  Stored in directory: /root/.cache/pip/wheels/c5/96/8a/f90c59ed25d75e50a8c10a1b1c2d4c402e4dacfa87f3aff36a\r\n",
      "Successfully built langdetect\r\n",
      "Installing collected packages: langdetect\r\n",
      "Successfully installed langdetect-1.0.9\r\n",
      "\u001b[33mWARNING: Running pip as the 'root' user can result in broken permissions and conflicting behaviour with the system package manager. It is recommended to use a virtual environment instead: https://pip.pypa.io/warnings/venv\u001b[0m\u001b[33m\r\n",
      "\u001b[0m"
     ]
    }
   ],
   "source": [
    "!pip install langdetect"
   ]
  },
  {
   "cell_type": "code",
   "execution_count": 28,
   "id": "513f17f3",
   "metadata": {
    "execution": {
     "iopub.execute_input": "2022-07-05T07:38:20.510544Z",
     "iopub.status.busy": "2022-07-05T07:38:20.510218Z",
     "iopub.status.idle": "2022-07-05T07:38:21.072212Z",
     "shell.execute_reply": "2022-07-05T07:38:21.071113Z"
    },
    "papermill": {
     "duration": 0.603709,
     "end_time": "2022-07-05T07:38:21.075009",
     "exception": false,
     "start_time": "2022-07-05T07:38:20.471300",
     "status": "completed"
    },
    "tags": []
   },
   "outputs": [
    {
     "name": "stdout",
     "output_type": "stream",
     "text": [
      " \"Hi Everyone I am Ankit Gupta. : tl\n",
      "मेरा नाम अंकित गुप्ता है और मैं एक छात्र हूँ : hi\n"
     ]
    }
   ],
   "source": [
    "from langdetect import detect\n",
    "\n",
    "\n",
    "en_text = u\"\"\"\"Hi Everyone I am Ankit Gupta.\"\"\"\n",
    "print(f\" {en_text} : {detect(en_text)}\")\n",
    "\n",
    "hindi_text = u\"\"\"मेरा नाम अंकित गुप्ता है और मैं एक छात्र हूँ\"\"\"\n",
    "print(f\"{hindi_text} : {detect(hindi_text)}\")\n"
   ]
  },
  {
   "attachments": {
    "image.png": {
     "image/png": "[encoded data removed]"
    }
   },
   "cell_type": "markdown",
   "id": "5286129a",
   "metadata": {
    "papermill": {
     "duration": 0.03705,
     "end_time": "2022-07-05T07:38:21.150904",
     "exception": false,
     "start_time": "2022-07-05T07:38:21.113854",
     "status": "completed"
    },
    "tags": []
   },
   "source": [
    "<h3  style=\"text-align: center\" class=\"list-group-item list-group-item-warning\"> 4.3.2 Code mixing and transliteration</h3><a id = \"4.3.2\" ></a>\n",
    "\n",
    "In previous Section we discussion was about a scenario in which the content was written in a language other than English. Another instance is when a single piece of content is available in multiple languages. Many people all across the world speak multiple languages. Their daily routines As a result, they frequently use many languages. They use multiple languages in their social media posts, and a single post can contain multiple languages. As an example Consider a Hinglish (Hindi Plus English) phrase as an example of code mixing.\n",
    "\n",
    "![](https://www.researchgate.net/publication/353700736/figure/fig1/AS:1053290997485568@1628135551691/Example-parallel-Hinglish-and-English-sentences-The-code-mixed-Hinglish-sentences.png)\n",
    "\n",
    "\n",
    "**Code mixing refers to this phenomenon of switching between languages. When people use multiple languages in their write-ups, they often type words\n",
    "from these languages in Roman script, with English spelling.**\n",
    "\n",
    "![image.png](attachment:image.png)\n",
    "\n",
    "**So, the words of another language are written along with English text. This is known as transliteration.**"
   ]
  },
  {
   "cell_type": "code",
   "execution_count": 29,
   "id": "5d498eea",
   "metadata": {
    "execution": {
     "iopub.execute_input": "2022-07-05T07:38:21.227053Z",
     "iopub.status.busy": "2022-07-05T07:38:21.226125Z",
     "iopub.status.idle": "2022-07-05T07:38:21.230681Z",
     "shell.execute_reply": "2022-07-05T07:38:21.229803Z"
    },
    "papermill": {
     "duration": 0.044325,
     "end_time": "2022-07-05T07:38:21.232444",
     "exception": false,
     "start_time": "2022-07-05T07:38:21.188119",
     "status": "completed"
    },
    "tags": []
   },
   "outputs": [],
   "source": [
    "# from googletrans import Translator\n",
    "\n",
    "# translator = Translator()\n",
    "# translator.translate(hindi_text)"
   ]
  },
  {
   "cell_type": "markdown",
   "id": "480c1a94",
   "metadata": {
    "papermill": {
     "duration": 0.036527,
     "end_time": "2022-07-05T07:38:21.306767",
     "exception": false,
     "start_time": "2022-07-05T07:38:21.270240",
     "status": "completed"
    },
    "tags": []
   },
   "source": [
    "<h2  style=\"text-align: center\" class=\"list-group-item list-group-item-success\"> 4.4 Data Augmentation </h2><a id = \"4.4\" ></a>\n",
    "\n",
    "We had the highly biased data. In this case, if we just output that the review is positive then also we will get 95% accuracy. But before the data augmentation approach, we feed this data to a bi-lstm-based model and we got 60-70% of accuracy which was not acceptable. So we did the Data augmentation and generate more negative reviews to balance the data and after that, we got 96-97% accuracy. In this section, I want to discuss what kind of data augmentation we use and what tool."
   ]
  },
  {
   "cell_type": "code",
   "execution_count": 30,
   "id": "311c21f9",
   "metadata": {
    "execution": {
     "iopub.execute_input": "2022-07-05T07:38:21.382316Z",
     "iopub.status.busy": "2022-07-05T07:38:21.382019Z",
     "iopub.status.idle": "2022-07-05T07:38:21.396933Z",
     "shell.execute_reply": "2022-07-05T07:38:21.395964Z"
    },
    "papermill": {
     "duration": 0.054546,
     "end_time": "2022-07-05T07:38:21.398847",
     "exception": false,
     "start_time": "2022-07-05T07:38:21.344301",
     "status": "completed"
    },
    "tags": []
   },
   "outputs": [],
   "source": [
    "df_temp = df.copy()"
   ]
  },
  {
   "cell_type": "code",
   "execution_count": 31,
   "id": "acde09ea",
   "metadata": {
    "execution": {
     "iopub.execute_input": "2022-07-05T07:38:21.475500Z",
     "iopub.status.busy": "2022-07-05T07:38:21.475027Z",
     "iopub.status.idle": "2022-07-05T07:38:21.572719Z",
     "shell.execute_reply": "2022-07-05T07:38:21.571659Z"
    },
    "papermill": {
     "duration": 0.139018,
     "end_time": "2022-07-05T07:38:21.575288",
     "exception": false,
     "start_time": "2022-07-05T07:38:21.436270",
     "status": "completed"
    },
    "tags": []
   },
   "outputs": [
    {
     "name": "stderr",
     "output_type": "stream",
     "text": [
      "100%|██████████| 48488/48488 [00:00<00:00, 559865.58it/s]\n"
     ]
    }
   ],
   "source": [
    "# Assigning labels to each review\n",
    "\n",
    "def label(y):\n",
    "    if y == '5':\n",
    "        return 1\n",
    "    elif y == '4':\n",
    "        return 1\n",
    "    else:\n",
    "        return 0\n",
    "    \n",
    "from tqdm import tqdm\n",
    "\n",
    "tqdm.pandas()\n",
    "\n",
    "df_temp['y'] = df_temp.ratings.progress_map(label)"
   ]
  },
  {
   "cell_type": "code",
   "execution_count": 32,
   "id": "0ab1c1a5",
   "metadata": {
    "execution": {
     "iopub.execute_input": "2022-07-05T07:38:21.651818Z",
     "iopub.status.busy": "2022-07-05T07:38:21.651514Z",
     "iopub.status.idle": "2022-07-05T07:38:21.661464Z",
     "shell.execute_reply": "2022-07-05T07:38:21.660624Z"
    },
    "papermill": {
     "duration": 0.050765,
     "end_time": "2022-07-05T07:38:21.663374",
     "exception": false,
     "start_time": "2022-07-05T07:38:21.612609",
     "status": "completed"
    },
    "tags": []
   },
   "outputs": [],
   "source": [
    "df_temp = df_temp[['review', 'y', 'ratings']]"
   ]
  },
  {
   "cell_type": "code",
   "execution_count": 33,
   "id": "8ede2ee7",
   "metadata": {
    "execution": {
     "iopub.execute_input": "2022-07-05T07:38:21.740580Z",
     "iopub.status.busy": "2022-07-05T07:38:21.740320Z",
     "iopub.status.idle": "2022-07-05T07:38:21.750860Z",
     "shell.execute_reply": "2022-07-05T07:38:21.749896Z"
    },
    "papermill": {
     "duration": 0.051436,
     "end_time": "2022-07-05T07:38:21.752766",
     "exception": false,
     "start_time": "2022-07-05T07:38:21.701330",
     "status": "completed"
    },
    "tags": []
   },
   "outputs": [
    {
     "data": {
      "text/html": [
       "<div>\n",
       "<style scoped>\n",
       "    .dataframe tbody tr th:only-of-type {\n",
       "        vertical-align: middle;\n",
       "    }\n",
       "\n",
       "    .dataframe tbody tr th {\n",
       "        vertical-align: top;\n",
       "    }\n",
       "\n",
       "    .dataframe thead th {\n",
       "        text-align: right;\n",
       "    }\n",
       "</style>\n",
       "<table border=\"1\" class=\"dataframe\">\n",
       "  <thead>\n",
       "    <tr style=\"text-align: right;\">\n",
       "      <th></th>\n",
       "      <th>review</th>\n",
       "      <th>y</th>\n",
       "      <th>ratings</th>\n",
       "    </tr>\n",
       "  </thead>\n",
       "  <tbody>\n",
       "    <tr>\n",
       "      <th>0</th>\n",
       "      <td>Wow superb I love it❤️👍 battery backup so nice 👍👍</td>\n",
       "      <td>1</td>\n",
       "      <td>5</td>\n",
       "    </tr>\n",
       "    <tr>\n",
       "      <th>1</th>\n",
       "      <td>Mobile So Good In Range Redmi 9a Has Miui 12 L...</td>\n",
       "      <td>1</td>\n",
       "      <td>4</td>\n",
       "    </tr>\n",
       "    <tr>\n",
       "      <th>2</th>\n",
       "      <td>Wonderful device and smart phone best camera b...</td>\n",
       "      <td>1</td>\n",
       "      <td>5</td>\n",
       "    </tr>\n",
       "    <tr>\n",
       "      <th>3</th>\n",
       "      <td>Very good mobile. Value for money. Battery bac...</td>\n",
       "      <td>1</td>\n",
       "      <td>5</td>\n",
       "    </tr>\n",
       "    <tr>\n",
       "      <th>4</th>\n",
       "      <td>Really great.... value for money...</td>\n",
       "      <td>1</td>\n",
       "      <td>5</td>\n",
       "    </tr>\n",
       "  </tbody>\n",
       "</table>\n",
       "</div>"
      ],
      "text/plain": [
       "                                              review  y ratings\n",
       "0  Wow superb I love it❤️👍 battery backup so nice 👍👍  1       5\n",
       "1  Mobile So Good In Range Redmi 9a Has Miui 12 L...  1       4\n",
       "2  Wonderful device and smart phone best camera b...  1       5\n",
       "3  Very good mobile. Value for money. Battery bac...  1       5\n",
       "4                Really great.... value for money...  1       5"
      ]
     },
     "execution_count": 33,
     "metadata": {},
     "output_type": "execute_result"
    }
   ],
   "source": [
    "df_temp.head()"
   ]
  },
  {
   "cell_type": "code",
   "execution_count": 34,
   "id": "5608ca7a",
   "metadata": {
    "execution": {
     "iopub.execute_input": "2022-07-05T07:38:21.829732Z",
     "iopub.status.busy": "2022-07-05T07:38:21.829467Z",
     "iopub.status.idle": "2022-07-05T07:38:21.837487Z",
     "shell.execute_reply": "2022-07-05T07:38:21.836534Z"
    },
    "papermill": {
     "duration": 0.049078,
     "end_time": "2022-07-05T07:38:21.839405",
     "exception": false,
     "start_time": "2022-07-05T07:38:21.790327",
     "status": "completed"
    },
    "tags": []
   },
   "outputs": [
    {
     "data": {
      "text/plain": [
       "1    44751\n",
       "0     3737\n",
       "Name: y, dtype: int64"
      ]
     },
     "execution_count": 34,
     "metadata": {},
     "output_type": "execute_result"
    }
   ],
   "source": [
    "df_temp.y.value_counts()"
   ]
  },
  {
   "cell_type": "code",
   "execution_count": 35,
   "id": "c2d899f7",
   "metadata": {
    "execution": {
     "iopub.execute_input": "2022-07-05T07:38:21.916507Z",
     "iopub.status.busy": "2022-07-05T07:38:21.915641Z",
     "iopub.status.idle": "2022-07-05T07:38:22.253988Z",
     "shell.execute_reply": "2022-07-05T07:38:22.252926Z"
    },
    "papermill": {
     "duration": 0.379437,
     "end_time": "2022-07-05T07:38:22.256854",
     "exception": false,
     "start_time": "2022-07-05T07:38:21.877417",
     "status": "completed"
    },
    "tags": []
   },
   "outputs": [
    {
     "data": {
      "image/png": "[encoded data removed]",
      "text/plain": [
       "<Figure size 432x288 with 1 Axes>"
      ]
     },
     "metadata": {
      "needs_background": "light"
     },
     "output_type": "display_data"
    }
   ],
   "source": [
    "import seaborn as sns\n",
    "\n",
    "sns.countplot(x = \"y\", data = df_temp)\n",
    "plt.show()"
   ]
  },
  {
   "cell_type": "markdown",
   "id": "052f5a4a",
   "metadata": {
    "papermill": {
     "duration": 0.037354,
     "end_time": "2022-07-05T07:38:22.348619",
     "exception": false,
     "start_time": "2022-07-05T07:38:22.311265",
     "status": "completed"
    },
    "tags": []
   },
   "source": [
    "We do not have much of negative comments. We will use data augmentation to create more data our methodology will be we take sentences having 5 star rating and then select the reviews of length in the range of 20 to 30 words.  \n",
    "\n",
    "After havving these positive reviews we will use Antonym Augmentation to generate negative reviews."
   ]
  },
  {
   "cell_type": "code",
   "execution_count": 36,
   "id": "c6253424",
   "metadata": {
    "execution": {
     "iopub.execute_input": "2022-07-05T07:38:22.426075Z",
     "iopub.status.busy": "2022-07-05T07:38:22.425760Z",
     "iopub.status.idle": "2022-07-05T07:38:22.439968Z",
     "shell.execute_reply": "2022-07-05T07:38:22.439138Z"
    },
    "papermill": {
     "duration": 0.054697,
     "end_time": "2022-07-05T07:38:22.441863",
     "exception": false,
     "start_time": "2022-07-05T07:38:22.387166",
     "status": "completed"
    },
    "tags": []
   },
   "outputs": [],
   "source": [
    "df_temp2 = df_temp[(df_temp['ratings'] == '5')]"
   ]
  },
  {
   "cell_type": "code",
   "execution_count": 37,
   "id": "5eb9d55a",
   "metadata": {
    "execution": {
     "iopub.execute_input": "2022-07-05T07:38:22.519744Z",
     "iopub.status.busy": "2022-07-05T07:38:22.518876Z",
     "iopub.status.idle": "2022-07-05T07:38:22.568193Z",
     "shell.execute_reply": "2022-07-05T07:38:22.567185Z"
    },
    "papermill": {
     "duration": 0.090673,
     "end_time": "2022-07-05T07:38:22.570265",
     "exception": false,
     "start_time": "2022-07-05T07:38:22.479592",
     "status": "completed"
    },
    "tags": []
   },
   "outputs": [
    {
     "data": {
      "text/plain": [
       "4803"
      ]
     },
     "execution_count": 37,
     "metadata": {},
     "output_type": "execute_result"
    }
   ],
   "source": [
    "positive = list(df_temp2[(df_temp2['review'].str.len() > 100) & (df_temp2['review'].str.len() < 350)]['review'])\n",
    "len(positive)"
   ]
  },
  {
   "cell_type": "code",
   "execution_count": 38,
   "id": "02caf6d8",
   "metadata": {
    "execution": {
     "iopub.execute_input": "2022-07-05T07:38:22.648565Z",
     "iopub.status.busy": "2022-07-05T07:38:22.647980Z",
     "iopub.status.idle": "2022-07-05T07:38:32.804339Z",
     "shell.execute_reply": "2022-07-05T07:38:32.803207Z"
    },
    "papermill": {
     "duration": 10.19838,
     "end_time": "2022-07-05T07:38:32.806745",
     "exception": false,
     "start_time": "2022-07-05T07:38:22.608365",
     "status": "completed"
    },
    "scrolled": true,
    "tags": []
   },
   "outputs": [
    {
     "name": "stdout",
     "output_type": "stream",
     "text": [
      "Collecting nlpaug\r\n",
      "  Downloading nlpaug-1.1.10-py3-none-any.whl (410 kB)\r\n",
      "\u001b[2K     \u001b[90m━━━━━━━━━━━━━━━━━━━━━━━━━━━━━━━━━━━━━━━\u001b[0m \u001b[32m410.8/410.8 kB\u001b[0m \u001b[31m1.9 MB/s\u001b[0m eta \u001b[36m0:00:00\u001b[0m\r\n",
      "\u001b[?25hRequirement already satisfied: numpy>=1.16.2 in /opt/conda/lib/python3.7/site-packages (from nlpaug) (1.21.6)\r\n",
      "Requirement already satisfied: pandas>=1.2.0 in /opt/conda/lib/python3.7/site-packages (from nlpaug) (1.3.5)\r\n",
      "Requirement already satisfied: requests>=2.22.0 in /opt/conda/lib/python3.7/site-packages (from nlpaug) (2.27.1)\r\n",
      "Requirement already satisfied: python-dateutil>=2.7.3 in /opt/conda/lib/python3.7/site-packages (from pandas>=1.2.0->nlpaug) (2.8.2)\r\n",
      "Requirement already satisfied: pytz>=2017.3 in /opt/conda/lib/python3.7/site-packages (from pandas>=1.2.0->nlpaug) (2022.1)\r\n",
      "Requirement already satisfied: certifi>=2017.4.17 in /opt/conda/lib/python3.7/site-packages (from requests>=2.22.0->nlpaug) (2022.6.15)\r\n",
      "Requirement already satisfied: idna<4,>=2.5 in /opt/conda/lib/python3.7/site-packages (from requests>=2.22.0->nlpaug) (3.3)\r\n",
      "Requirement already satisfied: charset-normalizer~=2.0.0 in /opt/conda/lib/python3.7/site-packages (from requests>=2.22.0->nlpaug) (2.0.12)\r\n",
      "Requirement already satisfied: urllib3<1.27,>=1.21.1 in /opt/conda/lib/python3.7/site-packages (from requests>=2.22.0->nlpaug) (1.26.9)\r\n",
      "Requirement already satisfied: six>=1.5 in /opt/conda/lib/python3.7/site-packages (from python-dateutil>=2.7.3->pandas>=1.2.0->nlpaug) (1.16.0)\r\n",
      "Installing collected packages: nlpaug\r\n",
      "Successfully installed nlpaug-1.1.10\r\n",
      "\u001b[33mWARNING: Running pip as the 'root' user can result in broken permissions and conflicting behaviour with the system package manager. It is recommended to use a virtual environment instead: https://pip.pypa.io/warnings/venv\u001b[0m\u001b[33m\r\n",
      "\u001b[0m"
     ]
    }
   ],
   "source": [
    "!pip install nlpaug"
   ]
  },
  {
   "cell_type": "code",
   "execution_count": 39,
   "id": "a4d021e9",
   "metadata": {
    "execution": {
     "iopub.execute_input": "2022-07-05T07:38:32.886976Z",
     "iopub.status.busy": "2022-07-05T07:38:32.886645Z",
     "iopub.status.idle": "2022-07-05T07:38:40.803940Z",
     "shell.execute_reply": "2022-07-05T07:38:40.802937Z"
    },
    "papermill": {
     "duration": 7.959834,
     "end_time": "2022-07-05T07:38:40.806335",
     "exception": false,
     "start_time": "2022-07-05T07:38:32.846501",
     "status": "completed"
    },
    "tags": []
   },
   "outputs": [],
   "source": [
    "import nlpaug.augmenter.word as naw"
   ]
  },
  {
   "cell_type": "markdown",
   "id": "f34f05c5",
   "metadata": {
    "papermill": {
     "duration": 0.039073,
     "end_time": "2022-07-05T07:38:40.885823",
     "exception": false,
     "start_time": "2022-07-05T07:38:40.846750",
     "status": "completed"
    },
    "tags": []
   },
   "source": [
    "We used Python’s NLPAug to do the data augmentation task. First, we choose positive reviews of 100-350 character lengths which were 4803. Just have a look at few of the reviews in below shown image."
   ]
  },
  {
   "cell_type": "code",
   "execution_count": 40,
   "id": "841cebc3",
   "metadata": {
    "execution": {
     "iopub.execute_input": "2022-07-05T07:38:40.969078Z",
     "iopub.status.busy": "2022-07-05T07:38:40.968711Z",
     "iopub.status.idle": "2022-07-05T07:38:40.976036Z",
     "shell.execute_reply": "2022-07-05T07:38:40.975015Z"
    },
    "papermill": {
     "duration": 0.053484,
     "end_time": "2022-07-05T07:38:40.978536",
     "exception": false,
     "start_time": "2022-07-05T07:38:40.925052",
     "status": "completed"
    },
    "tags": []
   },
   "outputs": [
    {
     "data": {
      "text/plain": [
       "[\"An amazing smartphone for the price though i didn't like the colors compared to a realme phone in the same price range. It's a reall good second smartphone if you already have a primary device.\",\n",
       " \"Nice product according to its budget. But it's hard to play high Graphics games like pubg on 3GB RAM. It lags even when you play at Smooth Graphics settings. If this is for gaming (High graphics game) purpose, then don't go for 3GB or 2 GB RAM and the rest it works very well.\",\n",
       " 'I gave this phone to my wife as a gift and she loved it so much that she gets great performance and photos of games',\n",
       " 'Every thing is great about the phone but a micro USB connector with a 5000 mah battery kind of suck a type c connector would have been better',\n",
       " 'Very good handset at this price. Nice and great performance. Battery backup is also trustworthy. There is no issue till date after using for a period of 5days. Overall u can buy this phone without hesitation',\n",
       " 'I am happy with your productus policy of discount  and best service flipcart.we wish day by day growth. And give more and more service from your sight.           ThanksHasmukh patel.Ahmedabad. Gujarat',\n",
       " \"Mobile phone is Good..  good camera clarity.. I have one problem with the phone, when I do video calling there is lot of noise, so I can't hear properly, lot of sound disturbance, but when I do voice call.. the sound is clear..\",\n",
       " \"An amazing smartphone for the price though i didn't like the colors compared to a realme phone in the same price range. It's a reall good second smartphone if you already have a primary device.\"]"
      ]
     },
     "execution_count": 40,
     "metadata": {},
     "output_type": "execute_result"
    }
   ],
   "source": [
    "positive[41:49]"
   ]
  },
  {
   "cell_type": "code",
   "execution_count": 41,
   "id": "e4c34813",
   "metadata": {
    "execution": {
     "iopub.execute_input": "2022-07-05T07:38:41.061044Z",
     "iopub.status.busy": "2022-07-05T07:38:41.059689Z",
     "iopub.status.idle": "2022-07-05T07:39:02.063952Z",
     "shell.execute_reply": "2022-07-05T07:39:02.062991Z"
    },
    "papermill": {
     "duration": 21.046038,
     "end_time": "2022-07-05T07:39:02.066783",
     "exception": false,
     "start_time": "2022-07-05T07:38:41.020745",
     "status": "completed"
    },
    "tags": []
   },
   "outputs": [],
   "source": [
    "aug = naw.AntonymAug(name='Antonym_Aug', aug_min=1, aug_max=10, aug_p=0.3, lang='eng', stopwords=en_stopwords, tokenizer=None, \n",
    "                     reverse_tokenizer=None, stopwords_regex=None, verbose=0)\n",
    " \n",
    "aug_negative = aug.augment(positive)"
   ]
  },
  {
   "cell_type": "code",
   "execution_count": 42,
   "id": "ea7b2b56",
   "metadata": {
    "execution": {
     "iopub.execute_input": "2022-07-05T07:39:02.148861Z",
     "iopub.status.busy": "2022-07-05T07:39:02.148012Z",
     "iopub.status.idle": "2022-07-05T07:39:02.154436Z",
     "shell.execute_reply": "2022-07-05T07:39:02.153513Z"
    },
    "papermill": {
     "duration": 0.048821,
     "end_time": "2022-07-05T07:39:02.156289",
     "exception": false,
     "start_time": "2022-07-05T07:39:02.107468",
     "status": "completed"
    },
    "tags": []
   },
   "outputs": [
    {
     "data": {
      "text/plain": [
       "4803"
      ]
     },
     "execution_count": 42,
     "metadata": {},
     "output_type": "execute_result"
    }
   ],
   "source": [
    "len(aug_negative)"
   ]
  },
  {
   "cell_type": "markdown",
   "id": "fdfa4f82",
   "metadata": {
    "papermill": {
     "duration": 0.038259,
     "end_time": "2022-07-05T07:39:02.233863",
     "exception": false,
     "start_time": "2022-07-05T07:39:02.195604",
     "status": "completed"
    },
    "tags": []
   },
   "source": [
    "After having 4803 positive reviews we applied word level augmentation specifically Antonym Augmentation which changes the context of the word (make them opposite of that). \n",
    "Using this we got around 4803 negative reviews as well hence the balanced data. Have a look at the negative version of the above positive reviews."
   ]
  },
  {
   "cell_type": "code",
   "execution_count": 43,
   "id": "a073d6b4",
   "metadata": {
    "execution": {
     "iopub.execute_input": "2022-07-05T07:39:02.312799Z",
     "iopub.status.busy": "2022-07-05T07:39:02.312520Z",
     "iopub.status.idle": "2022-07-05T07:39:02.318210Z",
     "shell.execute_reply": "2022-07-05T07:39:02.317345Z"
    },
    "papermill": {
     "duration": 0.047607,
     "end_time": "2022-07-05T07:39:02.320086",
     "exception": false,
     "start_time": "2022-07-05T07:39:02.272479",
     "status": "completed"
    },
    "tags": []
   },
   "outputs": [
    {
     "data": {
      "text/plain": [
       "[\"An amazing smartphone for the price though i didn ' t like the colors compared to a realme phone in the same price range. It ' s a reall evil second smartphone if you already have a secondary device.\",\n",
       " \"Nice product according to its budget. But it ' s hard to play low Graphics games like pubg on 3GB RAM. It lags even when you play at Smooth Graphics settings. If this is for gaming (Low graphics game) purpose, then don ' t come for 3GB or 2 GB RAM and the rest it malfunction very badly.\",\n",
       " 'I starve this phone to my wife as a gift and she hate it so little that she end great performance and photos of games',\n",
       " 'Every thing is great about the phone but a micro USB connector with a 5000 mah battery kind of suck a type c connector would have been bad',\n",
       " 'Very evil handset at this price. Nice and great performance. Battery backup is also untrustworthy. There is no issue till date after using for a period of 5days. Overall u can sell this phone without hesitation',\n",
       " 'I am unhappy with your productus policy of discount and bad service flipcart. we wish day by day growth. And take more and more service from your sight. ThanksHasmukh patel. Ahmedabad. Gujarat',\n",
       " \"Mobile phone is Bad. . evil camera clarity. . I have one problem with the phone, when I do video calling there is lot of noise, so I can ' t hear improperly, lot of unsound disturbance, but when I do voice call. . the sound is unclear..\",\n",
       " \"An amazing smartphone for the price though i didn ' t like the colors compared to a realme phone in the same price range. It ' s a reall bad second smartphone if you already have a secondary device.\"]"
      ]
     },
     "execution_count": 43,
     "metadata": {},
     "output_type": "execute_result"
    }
   ],
   "source": [
    "aug_negative[41:49]"
   ]
  },
  {
   "cell_type": "code",
   "execution_count": 44,
   "id": "372ff4b0",
   "metadata": {
    "execution": {
     "iopub.execute_input": "2022-07-05T07:39:02.399355Z",
     "iopub.status.busy": "2022-07-05T07:39:02.398589Z",
     "iopub.status.idle": "2022-07-05T07:39:02.406651Z",
     "shell.execute_reply": "2022-07-05T07:39:02.405819Z"
    },
    "papermill": {
     "duration": 0.049928,
     "end_time": "2022-07-05T07:39:02.408550",
     "exception": false,
     "start_time": "2022-07-05T07:39:02.358622",
     "status": "completed"
    },
    "tags": []
   },
   "outputs": [],
   "source": [
    "df_negative = pd.DataFrame({\"review\" : aug_negative, 'y' : [0]*len(aug_negative)})"
   ]
  },
  {
   "cell_type": "code",
   "execution_count": 45,
   "id": "d888f0bc",
   "metadata": {
    "execution": {
     "iopub.execute_input": "2022-07-05T07:39:02.487896Z",
     "iopub.status.busy": "2022-07-05T07:39:02.487640Z",
     "iopub.status.idle": "2022-07-05T07:39:02.494733Z",
     "shell.execute_reply": "2022-07-05T07:39:02.493771Z"
    },
    "papermill": {
     "duration": 0.048187,
     "end_time": "2022-07-05T07:39:02.496615",
     "exception": false,
     "start_time": "2022-07-05T07:39:02.448428",
     "status": "completed"
    },
    "tags": []
   },
   "outputs": [],
   "source": [
    "df_positive = pd.DataFrame({\"review\" : positive, 'y' : [1]*len(positive)})"
   ]
  },
  {
   "cell_type": "markdown",
   "id": "138ca4e2",
   "metadata": {
    "papermill": {
     "duration": 0.038351,
     "end_time": "2022-07-05T07:39:02.574190",
     "exception": false,
     "start_time": "2022-07-05T07:39:02.535839",
     "status": "completed"
    },
    "tags": []
   },
   "source": [
    "Concatination both negative and positive sentences"
   ]
  },
  {
   "cell_type": "code",
   "execution_count": 46,
   "id": "77924569",
   "metadata": {
    "execution": {
     "iopub.execute_input": "2022-07-05T07:39:02.654237Z",
     "iopub.status.busy": "2022-07-05T07:39:02.653455Z",
     "iopub.status.idle": "2022-07-05T07:39:02.662574Z",
     "shell.execute_reply": "2022-07-05T07:39:02.661715Z"
    },
    "papermill": {
     "duration": 0.051379,
     "end_time": "2022-07-05T07:39:02.664774",
     "exception": false,
     "start_time": "2022-07-05T07:39:02.613395",
     "status": "completed"
    },
    "tags": []
   },
   "outputs": [],
   "source": [
    "df_temp = pd.concat([df_negative, df_positive]).sample(frac = 1, random_state = 11).reset_index(drop=True)"
   ]
  },
  {
   "cell_type": "code",
   "execution_count": 47,
   "id": "c1dcb482",
   "metadata": {
    "execution": {
     "iopub.execute_input": "2022-07-05T07:39:02.750721Z",
     "iopub.status.busy": "2022-07-05T07:39:02.750448Z",
     "iopub.status.idle": "2022-07-05T07:39:02.763472Z",
     "shell.execute_reply": "2022-07-05T07:39:02.762349Z"
    },
    "papermill": {
     "duration": 0.056419,
     "end_time": "2022-07-05T07:39:02.766094",
     "exception": false,
     "start_time": "2022-07-05T07:39:02.709675",
     "status": "completed"
    },
    "tags": []
   },
   "outputs": [
    {
     "name": "stdout",
     "output_type": "stream",
     "text": [
      "<class 'pandas.core.frame.DataFrame'>\n",
      "RangeIndex: 9606 entries, 0 to 9605\n",
      "Data columns (total 2 columns):\n",
      " #   Column  Non-Null Count  Dtype \n",
      "---  ------  --------------  ----- \n",
      " 0   review  9606 non-null   object\n",
      " 1   y       9606 non-null   int64 \n",
      "dtypes: int64(1), object(1)\n",
      "memory usage: 150.2+ KB\n"
     ]
    }
   ],
   "source": [
    "df_temp.info()"
   ]
  },
  {
   "cell_type": "code",
   "execution_count": 48,
   "id": "0f812237",
   "metadata": {
    "execution": {
     "iopub.execute_input": "2022-07-05T07:39:02.847001Z",
     "iopub.status.busy": "2022-07-05T07:39:02.846738Z",
     "iopub.status.idle": "2022-07-05T07:39:02.855869Z",
     "shell.execute_reply": "2022-07-05T07:39:02.854947Z"
    },
    "papermill": {
     "duration": 0.051963,
     "end_time": "2022-07-05T07:39:02.857835",
     "exception": false,
     "start_time": "2022-07-05T07:39:02.805872",
     "status": "completed"
    },
    "tags": []
   },
   "outputs": [
    {
     "data": {
      "text/html": [
       "<div>\n",
       "<style scoped>\n",
       "    .dataframe tbody tr th:only-of-type {\n",
       "        vertical-align: middle;\n",
       "    }\n",
       "\n",
       "    .dataframe tbody tr th {\n",
       "        vertical-align: top;\n",
       "    }\n",
       "\n",
       "    .dataframe thead th {\n",
       "        text-align: right;\n",
       "    }\n",
       "</style>\n",
       "<table border=\"1\" class=\"dataframe\">\n",
       "  <thead>\n",
       "    <tr style=\"text-align: right;\">\n",
       "      <th></th>\n",
       "      <th>review</th>\n",
       "      <th>y</th>\n",
       "    </tr>\n",
       "  </thead>\n",
       "  <tbody>\n",
       "    <tr>\n",
       "      <th>0</th>\n",
       "      <td>great phone in budget. .. pubg performance was...</td>\n",
       "      <td>0</td>\n",
       "    </tr>\n",
       "    <tr>\n",
       "      <th>1</th>\n",
       "      <td>Best Smartphone by Mi in this Range. . stay in...</td>\n",
       "      <td>0</td>\n",
       "    </tr>\n",
       "    <tr>\n",
       "      <th>2</th>\n",
       "      <td>Bad smooth phone. . and back camera quality is...</td>\n",
       "      <td>0</td>\n",
       "    </tr>\n",
       "    <tr>\n",
       "      <th>3</th>\n",
       "      <td>Thise is very nice mobile ...I like it very mu...</td>\n",
       "      <td>1</td>\n",
       "    </tr>\n",
       "    <tr>\n",
       "      <th>4</th>\n",
       "      <td>I m meagerly fall short of 👍 All section r sup...</td>\n",
       "      <td>0</td>\n",
       "    </tr>\n",
       "  </tbody>\n",
       "</table>\n",
       "</div>"
      ],
      "text/plain": [
       "                                              review  y\n",
       "0  great phone in budget. .. pubg performance was...  0\n",
       "1  Best Smartphone by Mi in this Range. . stay in...  0\n",
       "2  Bad smooth phone. . and back camera quality is...  0\n",
       "3  Thise is very nice mobile ...I like it very mu...  1\n",
       "4  I m meagerly fall short of 👍 All section r sup...  0"
      ]
     },
     "execution_count": 48,
     "metadata": {},
     "output_type": "execute_result"
    }
   ],
   "source": [
    "df_temp.head()"
   ]
  },
  {
   "cell_type": "code",
   "execution_count": 49,
   "id": "debdf1ba",
   "metadata": {
    "execution": {
     "iopub.execute_input": "2022-07-05T07:39:02.937319Z",
     "iopub.status.busy": "2022-07-05T07:39:02.936602Z",
     "iopub.status.idle": "2022-07-05T07:39:02.949724Z",
     "shell.execute_reply": "2022-07-05T07:39:02.948895Z"
    },
    "papermill": {
     "duration": 0.054707,
     "end_time": "2022-07-05T07:39:02.951590",
     "exception": false,
     "start_time": "2022-07-05T07:39:02.896883",
     "status": "completed"
    },
    "tags": []
   },
   "outputs": [],
   "source": [
    "df = df_temp"
   ]
  },
  {
   "cell_type": "markdown",
   "id": "a0670325",
   "metadata": {
    "papermill": {
     "duration": 0.038293,
     "end_time": "2022-07-05T07:39:03.030223",
     "exception": false,
     "start_time": "2022-07-05T07:39:02.991930",
     "status": "completed"
    },
    "tags": []
   },
   "source": [
    "Applying Text cleaning and preprocessing on whole dataset"
   ]
  },
  {
   "cell_type": "code",
   "execution_count": 50,
   "id": "29b87074",
   "metadata": {
    "execution": {
     "iopub.execute_input": "2022-07-05T07:39:03.111096Z",
     "iopub.status.busy": "2022-07-05T07:39:03.110831Z",
     "iopub.status.idle": "2022-07-05T07:39:03.116630Z",
     "shell.execute_reply": "2022-07-05T07:39:03.115670Z"
    },
    "papermill": {
     "duration": 0.047719,
     "end_time": "2022-07-05T07:39:03.118525",
     "exception": false,
     "start_time": "2022-07-05T07:39:03.070806",
     "status": "completed"
    },
    "tags": []
   },
   "outputs": [],
   "source": [
    "def preprocessing(text):\n",
    "    \n",
    "    text = remove_url(text) \n",
    "    text = uni.normalize('NFKD', text)\n",
    "    text = handle_emoji(text)\n",
    "    text = text.lower() \n",
    "    text = re.sub(r'[^\\w\\s]', '', text)\n",
    "    text = word_tokenizer(text)\n",
    "    # text = stemming(text)\n",
    "    text = lemmatization(text)\n",
    "    text = remove_stopwords(text)\n",
    "    text = \" \".join(text)\n",
    "\n",
    "    return text"
   ]
  },
  {
   "cell_type": "code",
   "execution_count": 51,
   "id": "ed6f4bd1",
   "metadata": {
    "execution": {
     "iopub.execute_input": "2022-07-05T07:39:03.197985Z",
     "iopub.status.busy": "2022-07-05T07:39:03.197380Z",
     "iopub.status.idle": "2022-07-05T07:40:51.184080Z",
     "shell.execute_reply": "2022-07-05T07:40:51.182405Z"
    },
    "papermill": {
     "duration": 108.029373,
     "end_time": "2022-07-05T07:40:51.186525",
     "exception": false,
     "start_time": "2022-07-05T07:39:03.157152",
     "status": "completed"
    },
    "tags": []
   },
   "outputs": [
    {
     "name": "stderr",
     "output_type": "stream",
     "text": [
      "100%|██████████| 9606/9606 [01:47<00:00, 88.96it/s]\n"
     ]
    }
   ],
   "source": [
    "from tqdm import tqdm\n",
    "\n",
    "tqdm.pandas()\n",
    "\n",
    "df['clean_review'] = df['review'].progress_map(preprocessing)"
   ]
  },
  {
   "cell_type": "code",
   "execution_count": 52,
   "id": "1a61b125",
   "metadata": {
    "execution": {
     "iopub.execute_input": "2022-07-05T07:40:51.380208Z",
     "iopub.status.busy": "2022-07-05T07:40:51.379890Z",
     "iopub.status.idle": "2022-07-05T07:40:51.389669Z",
     "shell.execute_reply": "2022-07-05T07:40:51.388785Z"
    },
    "papermill": {
     "duration": 0.107505,
     "end_time": "2022-07-05T07:40:51.391541",
     "exception": false,
     "start_time": "2022-07-05T07:40:51.284036",
     "status": "completed"
    },
    "tags": []
   },
   "outputs": [
    {
     "data": {
      "text/html": [
       "<div>\n",
       "<style scoped>\n",
       "    .dataframe tbody tr th:only-of-type {\n",
       "        vertical-align: middle;\n",
       "    }\n",
       "\n",
       "    .dataframe tbody tr th {\n",
       "        vertical-align: top;\n",
       "    }\n",
       "\n",
       "    .dataframe thead th {\n",
       "        text-align: right;\n",
       "    }\n",
       "</style>\n",
       "<table border=\"1\" class=\"dataframe\">\n",
       "  <thead>\n",
       "    <tr style=\"text-align: right;\">\n",
       "      <th></th>\n",
       "      <th>review</th>\n",
       "      <th>y</th>\n",
       "      <th>clean_review</th>\n",
       "    </tr>\n",
       "  </thead>\n",
       "  <tbody>\n",
       "    <tr>\n",
       "      <th>0</th>\n",
       "      <td>great phone in budget. .. pubg performance was...</td>\n",
       "      <td>0</td>\n",
       "      <td>great phone budget pubg performance staccato c...</td>\n",
       "    </tr>\n",
       "    <tr>\n",
       "      <th>1</th>\n",
       "      <td>Best Smartphone by Mi in this Range. . stay in...</td>\n",
       "      <td>0</td>\n",
       "      <td>good smartphone mi range stay place -PRON- -PR...</td>\n",
       "    </tr>\n",
       "    <tr>\n",
       "      <th>2</th>\n",
       "      <td>Bad smooth phone. . and back camera quality is...</td>\n",
       "      <td>0</td>\n",
       "      <td>bad smooth phone back camera quality evil rear...</td>\n",
       "    </tr>\n",
       "    <tr>\n",
       "      <th>3</th>\n",
       "      <td>Thise is very nice mobile ...I like it very mu...</td>\n",
       "      <td>1</td>\n",
       "      <td>thise nice mobile like -PRON- much delivery al...</td>\n",
       "    </tr>\n",
       "    <tr>\n",
       "      <th>4</th>\n",
       "      <td>I m meagerly fall short of 👍 All section r sup...</td>\n",
       "      <td>0</td>\n",
       "      <td>meagerly fall short thumb section r superb del...</td>\n",
       "    </tr>\n",
       "  </tbody>\n",
       "</table>\n",
       "</div>"
      ],
      "text/plain": [
       "                                              review  y  \\\n",
       "0  great phone in budget. .. pubg performance was...  0   \n",
       "1  Best Smartphone by Mi in this Range. . stay in...  0   \n",
       "2  Bad smooth phone. . and back camera quality is...  0   \n",
       "3  Thise is very nice mobile ...I like it very mu...  1   \n",
       "4  I m meagerly fall short of 👍 All section r sup...  0   \n",
       "\n",
       "                                        clean_review  \n",
       "0  great phone budget pubg performance staccato c...  \n",
       "1  good smartphone mi range stay place -PRON- -PR...  \n",
       "2  bad smooth phone back camera quality evil rear...  \n",
       "3  thise nice mobile like -PRON- much delivery al...  \n",
       "4  meagerly fall short thumb section r superb del...  "
      ]
     },
     "execution_count": 52,
     "metadata": {},
     "output_type": "execute_result"
    }
   ],
   "source": [
    "df.head()"
   ]
  },
  {
   "cell_type": "code",
   "execution_count": 53,
   "id": "07ba962c",
   "metadata": {
    "execution": {
     "iopub.execute_input": "2022-07-05T07:40:51.584004Z",
     "iopub.status.busy": "2022-07-05T07:40:51.583723Z",
     "iopub.status.idle": "2022-07-05T07:40:51.588536Z",
     "shell.execute_reply": "2022-07-05T07:40:51.587581Z"
    },
    "papermill": {
     "duration": 0.102821,
     "end_time": "2022-07-05T07:40:51.590440",
     "exception": false,
     "start_time": "2022-07-05T07:40:51.487619",
     "status": "completed"
    },
    "tags": []
   },
   "outputs": [],
   "source": [
    "reviews = df.clean_review.values.tolist()\n"
   ]
  },
  {
   "cell_type": "markdown",
   "id": "a935d696",
   "metadata": {
    "papermill": {
     "duration": 0.095869,
     "end_time": "2022-07-05T07:40:51.780794",
     "exception": false,
     "start_time": "2022-07-05T07:40:51.684925",
     "status": "completed"
    },
    "tags": []
   },
   "source": [
    "Prepare data for LDA Analysis\n",
    "Next, let’s work to transform the textual data in a format that will serve as an input for training LDA model. We start by tokenizing the text and removing stopwords. Next, we convert the tokenized object into a corpus and dictionary."
   ]
  },
  {
   "cell_type": "code",
   "execution_count": 54,
   "id": "8a58f390",
   "metadata": {
    "execution": {
     "iopub.execute_input": "2022-07-05T07:40:51.975312Z",
     "iopub.status.busy": "2022-07-05T07:40:51.974491Z",
     "iopub.status.idle": "2022-07-05T07:40:52.025469Z",
     "shell.execute_reply": "2022-07-05T07:40:52.024350Z"
    },
    "papermill": {
     "duration": 0.150019,
     "end_time": "2022-07-05T07:40:52.027390",
     "exception": false,
     "start_time": "2022-07-05T07:40:51.877371",
     "status": "completed"
    },
    "tags": []
   },
   "outputs": [
    {
     "name": "stderr",
     "output_type": "stream",
     "text": [
      "100%|██████████| 9606/9606 [00:00<00:00, 234574.31it/s]\n"
     ]
    }
   ],
   "source": [
    "from tqdm import tqdm\n",
    "\n",
    "tqdm.pandas()\n",
    "\n",
    "df['clean_review2'] = df['clean_review'].progress_map(word_tokenizer)"
   ]
  },
  {
   "cell_type": "code",
   "execution_count": 55,
   "id": "40cba532",
   "metadata": {
    "execution": {
     "iopub.execute_input": "2022-07-05T07:40:52.221105Z",
     "iopub.status.busy": "2022-07-05T07:40:52.220816Z",
     "iopub.status.idle": "2022-07-05T07:40:52.233607Z",
     "shell.execute_reply": "2022-07-05T07:40:52.232689Z"
    },
    "papermill": {
     "duration": 0.11105,
     "end_time": "2022-07-05T07:40:52.235439",
     "exception": false,
     "start_time": "2022-07-05T07:40:52.124389",
     "status": "completed"
    },
    "tags": []
   },
   "outputs": [
    {
     "data": {
      "text/html": [
       "<div>\n",
       "<style scoped>\n",
       "    .dataframe tbody tr th:only-of-type {\n",
       "        vertical-align: middle;\n",
       "    }\n",
       "\n",
       "    .dataframe tbody tr th {\n",
       "        vertical-align: top;\n",
       "    }\n",
       "\n",
       "    .dataframe thead th {\n",
       "        text-align: right;\n",
       "    }\n",
       "</style>\n",
       "<table border=\"1\" class=\"dataframe\">\n",
       "  <thead>\n",
       "    <tr style=\"text-align: right;\">\n",
       "      <th></th>\n",
       "      <th>review</th>\n",
       "      <th>y</th>\n",
       "      <th>clean_review</th>\n",
       "      <th>clean_review2</th>\n",
       "    </tr>\n",
       "  </thead>\n",
       "  <tbody>\n",
       "    <tr>\n",
       "      <th>0</th>\n",
       "      <td>great phone in budget. .. pubg performance was...</td>\n",
       "      <td>0</td>\n",
       "      <td>great phone budget pubg performance staccato c...</td>\n",
       "      <td>[great, phone, budget, pubg, performance, stac...</td>\n",
       "    </tr>\n",
       "    <tr>\n",
       "      <th>1</th>\n",
       "      <td>Best Smartphone by Mi in this Range. . stay in...</td>\n",
       "      <td>0</td>\n",
       "      <td>good smartphone mi range stay place -PRON- -PR...</td>\n",
       "      <td>[good, smartphone, mi, range, stay, place, -pr...</td>\n",
       "    </tr>\n",
       "    <tr>\n",
       "      <th>2</th>\n",
       "      <td>Bad smooth phone. . and back camera quality is...</td>\n",
       "      <td>0</td>\n",
       "      <td>bad smooth phone back camera quality evil rear...</td>\n",
       "      <td>[bad, smooth, phone, back, camera, quality, ev...</td>\n",
       "    </tr>\n",
       "    <tr>\n",
       "      <th>3</th>\n",
       "      <td>Thise is very nice mobile ...I like it very mu...</td>\n",
       "      <td>1</td>\n",
       "      <td>thise nice mobile like -PRON- much delivery al...</td>\n",
       "      <td>[thise, nice, mobile, like, -pron-, much, deli...</td>\n",
       "    </tr>\n",
       "    <tr>\n",
       "      <th>4</th>\n",
       "      <td>I m meagerly fall short of 👍 All section r sup...</td>\n",
       "      <td>0</td>\n",
       "      <td>meagerly fall short thumb section r superb del...</td>\n",
       "      <td>[meagerly, fall, short, thumb, section, r, sup...</td>\n",
       "    </tr>\n",
       "  </tbody>\n",
       "</table>\n",
       "</div>"
      ],
      "text/plain": [
       "                                              review  y  \\\n",
       "0  great phone in budget. .. pubg performance was...  0   \n",
       "1  Best Smartphone by Mi in this Range. . stay in...  0   \n",
       "2  Bad smooth phone. . and back camera quality is...  0   \n",
       "3  Thise is very nice mobile ...I like it very mu...  1   \n",
       "4  I m meagerly fall short of 👍 All section r sup...  0   \n",
       "\n",
       "                                        clean_review  \\\n",
       "0  great phone budget pubg performance staccato c...   \n",
       "1  good smartphone mi range stay place -PRON- -PR...   \n",
       "2  bad smooth phone back camera quality evil rear...   \n",
       "3  thise nice mobile like -PRON- much delivery al...   \n",
       "4  meagerly fall short thumb section r superb del...   \n",
       "\n",
       "                                       clean_review2  \n",
       "0  [great, phone, budget, pubg, performance, stac...  \n",
       "1  [good, smartphone, mi, range, stay, place, -pr...  \n",
       "2  [bad, smooth, phone, back, camera, quality, ev...  \n",
       "3  [thise, nice, mobile, like, -pron-, much, deli...  \n",
       "4  [meagerly, fall, short, thumb, section, r, sup...  "
      ]
     },
     "execution_count": 55,
     "metadata": {},
     "output_type": "execute_result"
    }
   ],
   "source": [
    "df.head()"
   ]
  },
  {
   "cell_type": "markdown",
   "id": "69438da7",
   "metadata": {
    "papermill": {
     "duration": 0.095773,
     "end_time": "2022-07-05T07:40:52.426399",
     "exception": false,
     "start_time": "2022-07-05T07:40:52.330626",
     "status": "completed"
    },
    "tags": []
   },
   "source": [
    "Now as our dataset is unlabeled so we need an algorithm that can get labels to us. We will use the following algorithm (LDA) to do so. We will use Topic Modeling Technique to find aspects from the reviews.\n",
    "\n",
    "In general, topic modelling refers to a set of unsupervised statistical learning methods for detecting latent topics in a large number of text texts. Latent Dirichlet allocation (LDA), latent semantic analysis (LSA), and probabilistic latent semantic analysis are three prominent topic modelling algorithms (PLSA). LDA is the most widely employed approach in practise. And we will too gonna use LDA for our analysis"
   ]
  },
  {
   "cell_type": "markdown",
   "id": "750dd0f7",
   "metadata": {
    "papermill": {
     "duration": 0.095695,
     "end_time": "2022-07-05T07:40:52.617441",
     "exception": false,
     "start_time": "2022-07-05T07:40:52.521746",
     "status": "completed"
    },
    "tags": []
   },
   "source": [
    "<h1  style=\"text-align: center\" class=\"list-group-item list-group-item-action active\">5. Latent Dirichlet Allocation (LDA) </h1><a id = \"5\" ></a>\n",
    "\n",
    "\n",
    "**What does LDA do? Let’s start with a toy corpus.**\n",
    "\n",
    "Consider the following collection of documents, D1 to D5, and each document consists of a one sentence:\n",
    "\n",
    "• D1: I like these mobile phones.\n",
    "• D2: Battery backup for this phone is great and camera quality is an add on feature.\n",
    "• D3: Look at the front camera I guess it is better than the rear camera.\n",
    "• D4: Processing Speed of this phone is great.\n",
    "• D5: I Like the battery most in this phone but I am not satisfied with the service of this company.\n",
    "\n",
    "Learning a topic model on this collection using LDA may produce an output like this:\n",
    "\n",
    "• Topic A: 30% battery, 15% camera, 10% Processor, 10% Service.\n",
    "• Topic B: 20% Rear Camera, 20% Front Camera, 20% Service, 20% Processor\n",
    "• Document 1 and 2: 100% Topic A\n",
    "• Document 3 and 4: 100% Topic B\n",
    "• Document 5: 60% Topic A, 40% Topic B\n",
    "\n",
    "Topics are just a collection of keywords with a probability distribution, while documents are collections of topics with the same probability distribution. A topic model just provides a list of keywords for each topic. What is the situation?Human perception of what an issue symbolises and what it should be labelled is common in the context of an LDA model."
   ]
  },
  {
   "cell_type": "code",
   "execution_count": 56,
   "id": "6ee395fc",
   "metadata": {
    "execution": {
     "iopub.execute_input": "2022-07-05T07:40:52.812376Z",
     "iopub.status.busy": "2022-07-05T07:40:52.812015Z",
     "iopub.status.idle": "2022-07-05T07:40:52.818976Z",
     "shell.execute_reply": "2022-07-05T07:40:52.818015Z"
    },
    "papermill": {
     "duration": 0.105761,
     "end_time": "2022-07-05T07:40:52.820844",
     "exception": false,
     "start_time": "2022-07-05T07:40:52.715083",
     "status": "completed"
    },
    "tags": []
   },
   "outputs": [
    {
     "data": {
      "text/plain": [
       "9606"
      ]
     },
     "execution_count": 56,
     "metadata": {},
     "output_type": "execute_result"
    }
   ],
   "source": [
    "data_words = df['clean_review2'].values.tolist()\n",
    "len(data_words)"
   ]
  },
  {
   "cell_type": "markdown",
   "id": "8787165c",
   "metadata": {
    "papermill": {
     "duration": 0.095592,
     "end_time": "2022-07-05T07:40:53.013014",
     "exception": false,
     "start_time": "2022-07-05T07:40:52.917422",
     "status": "completed"
    },
    "tags": []
   },
   "source": [
    "You could refer this blog post to understand LDA more nicely.\n",
    "\n",
    "[Topic Modeling in Python: Latent Dirichlet Allocation (LDA)](https://towardsdatascience.com/end-to-end-topic-modeling-in-python-latent-dirichlet-allocation-lda-35ce4ed6b3e0)"
   ]
  },
  {
   "cell_type": "code",
   "execution_count": 57,
   "id": "99737589",
   "metadata": {
    "execution": {
     "iopub.execute_input": "2022-07-05T07:40:53.207249Z",
     "iopub.status.busy": "2022-07-05T07:40:53.206914Z",
     "iopub.status.idle": "2022-07-05T07:40:53.811072Z",
     "shell.execute_reply": "2022-07-05T07:40:53.809779Z"
    },
    "papermill": {
     "duration": 0.70489,
     "end_time": "2022-07-05T07:40:53.814007",
     "exception": false,
     "start_time": "2022-07-05T07:40:53.109117",
     "status": "completed"
    },
    "tags": []
   },
   "outputs": [
    {
     "name": "stdout",
     "output_type": "stream",
     "text": [
      "[(0, 1), (1, 1), (2, 1), (3, 1), (4, 1), (5, 1), (6, 1), (7, 1), (8, 1), (9, 1), (10, 1), (11, 1), (12, 3), (13, 1), (14, 1), (15, 1), (16, 1), (17, 1)]\n"
     ]
    }
   ],
   "source": [
    "import gensim.corpora as corpora\n",
    "\n",
    "# Create Dictionary\n",
    "id2word = corpora.Dictionary(data_words)\n",
    "# Create Corpus\n",
    "texts = data_words\n",
    "# Term Document Frequency\n",
    "corpus = [id2word.doc2bow(text) for text in texts]\n",
    "# View\n",
    "print(corpus[:1][0][:30])\n"
   ]
  },
  {
   "cell_type": "code",
   "execution_count": 58,
   "id": "197c5f79",
   "metadata": {
    "execution": {
     "iopub.execute_input": "2022-07-05T07:40:54.136054Z",
     "iopub.status.busy": "2022-07-05T07:40:54.135735Z",
     "iopub.status.idle": "2022-07-05T07:41:10.204278Z",
     "shell.execute_reply": "2022-07-05T07:41:10.203096Z"
    },
    "papermill": {
     "duration": 16.230606,
     "end_time": "2022-07-05T07:41:10.206712",
     "exception": false,
     "start_time": "2022-07-05T07:40:53.976106",
     "status": "completed"
    },
    "tags": []
   },
   "outputs": [
    {
     "name": "stdout",
     "output_type": "stream",
     "text": [
      "[(0,\n",
      "  '0.056*\"-pron-\" + 0.036*\"phone\" + 0.027*\"face\" + 0.020*\"use\" + 0.017*\"smile\" '\n",
      "  '+ 0.015*\"awesome\" + 0.013*\"hearteyes\" + 0.011*\"flipkart\" + 0.011*\"product\" '\n",
      "  '+ 0.011*\"price\"'),\n",
      " (1,\n",
      "  '0.102*\"-pron-\" + 0.046*\"phone\" + 0.032*\"good\" + 0.029*\"camera\" + '\n",
      "  '0.015*\"performance\" + 0.014*\"great\" + 0.014*\"awesome\" + 0.013*\"price\" + '\n",
      "  '0.013*\"battery\" + 0.011*\"mobile\"'),\n",
      " (2,\n",
      "  '0.032*\"phone\" + 0.025*\"-pron-\" + 0.025*\"10\" + 0.020*\"camera\" + 0.019*\"note\" '\n",
      "  '+ 0.018*\"good\" + 0.015*\"redmi\" + 0.015*\"pro\" + 0.014*\"awesome\" + 0.012*\"7\"'),\n",
      " (3,\n",
      "  '0.047*\"good\" + 0.034*\"-pron-\" + 0.025*\"mobile\" + 0.022*\"battery\" + '\n",
      "  '0.022*\"camera\" + 0.018*\"product\" + 0.016*\"nice\" + 0.016*\"quality\" + '\n",
      "  '0.014*\"phone\" + 0.011*\"money\"'),\n",
      " (4,\n",
      "  '0.061*\"-pron-\" + 0.045*\"good\" + 0.042*\"phone\" + 0.029*\"battery\" + '\n",
      "  '0.020*\"camera\" + 0.020*\"use\" + 0.013*\"price\" + 0.011*\"money\" + '\n",
      "  '0.010*\"backup\" + 0.010*\"value\"'),\n",
      " (5,\n",
      "  '0.059*\"-pron-\" + 0.031*\"bad\" + 0.028*\"evil\" + 0.024*\"quality\" + '\n",
      "  '0.022*\"camera\" + 0.019*\"phone\" + 0.018*\"price\" + 0.015*\"5\" + 0.013*\"thank\" '\n",
      "  '+ 0.013*\"battery\"'),\n",
      " (6,\n",
      "  '0.040*\"good\" + 0.037*\"-pron-\" + 0.029*\"camera\" + 0.027*\"battery\" + '\n",
      "  '0.025*\"gb\" + 0.022*\"product\" + 0.016*\"evil\" + 0.015*\"display\" + '\n",
      "  '0.015*\"phone\" + 0.015*\"ram\"'),\n",
      " (7,\n",
      "  '0.073*\"-pron-\" + 0.025*\"product\" + 0.024*\"phone\" + 0.024*\"face\" + '\n",
      "  '0.022*\"flipkart\" + 0.021*\"smile\" + 0.021*\"mobile\" + 0.021*\"camera\" + '\n",
      "  '0.020*\"good\" + 0.016*\"thank\"'),\n",
      " (8,\n",
      "  '0.035*\"-pron-\" + 0.031*\"phone\" + 0.027*\"bad\" + 0.025*\"camera\" + '\n",
      "  '0.019*\"price\" + 0.017*\"good\" + 0.015*\"battery\" + 0.014*\"amazing\" + '\n",
      "  '0.012*\"performance\" + 0.012*\"heart\"'),\n",
      " (9,\n",
      "  '0.065*\"phone\" + 0.049*\"-pron-\" + 0.032*\"good\" + 0.031*\"camera\" + '\n",
      "  '0.024*\"bad\" + 0.018*\"battery\" + 0.018*\"evil\" + 0.016*\"price\" + '\n",
      "  '0.012*\"performance\" + 0.012*\"fast\"')]\n"
     ]
    }
   ],
   "source": [
    "from gensim.models import LdaMulticore\n",
    "from gensim.models import LdaModel\n",
    "from pprint import pprint\n",
    "\n",
    "# number of topics\n",
    "num_topics = 10\n",
    "# Build LDA model\n",
    "lda_model = LdaMulticore(corpus=corpus, id2word=id2word,\n",
    "                     num_topics=num_topics, iterations=400)\n",
    "# Print the Keyword in the 10 topics\n",
    "pprint(lda_model.print_topics())\n",
    "doc_lda = lda_model[corpus]\n"
   ]
  },
  {
   "cell_type": "markdown",
   "id": "22e12369",
   "metadata": {
    "papermill": {
     "duration": 0.095869,
     "end_time": "2022-07-05T07:41:10.400647",
     "exception": false,
     "start_time": "2022-07-05T07:41:10.304778",
     "status": "completed"
    },
    "tags": []
   },
   "source": [
    "As we don't have labeled data so we need to make few assumptions regarding choosing of aspect from the comment. From above analysis using LDA we inerpret that below listed aspect are few important one which were mentioned in most of the comments. \n",
    "- Phone\n",
    "- Camera\n",
    "- Battery\n",
    "- Delivery\n",
    "- Processor"
   ]
  },
  {
   "cell_type": "markdown",
   "id": "dcce0d0d",
   "metadata": {
    "papermill": {
     "duration": 0.095914,
     "end_time": "2022-07-05T07:41:10.594214",
     "exception": false,
     "start_time": "2022-07-05T07:41:10.498300",
     "status": "completed"
    },
    "tags": []
   },
   "source": [
    "We gonna create a similarity matrix now using python's gensim. \n"
   ]
  },
  {
   "cell_type": "code",
   "execution_count": 59,
   "id": "6d69239a",
   "metadata": {
    "execution": {
     "iopub.execute_input": "2022-07-05T07:41:10.789004Z",
     "iopub.status.busy": "2022-07-05T07:41:10.788638Z",
     "iopub.status.idle": "2022-07-05T07:41:19.254781Z",
     "shell.execute_reply": "2022-07-05T07:41:19.253163Z"
    },
    "papermill": {
     "duration": 8.566622,
     "end_time": "2022-07-05T07:41:19.257083",
     "exception": false,
     "start_time": "2022-07-05T07:41:10.690461",
     "status": "completed"
    },
    "tags": []
   },
   "outputs": [
    {
     "name": "stdout",
     "output_type": "stream",
     "text": [
      "CPU times: user 14.6 s, sys: 165 ms, total: 14.8 s\n",
      "Wall time: 8.46 s\n"
     ]
    }
   ],
   "source": [
    "%%time\n",
    "from gensim.models import FastText\n",
    "fasttext_model = FastText(data_words, vector_size= 100, window=5, min_count=5, workers=4,sg=1)\n",
    "# fasttext_model = FastText.load_fasttext_format(\"../input/fast100/cc.en.100.bin\")"
   ]
  },
  {
   "cell_type": "code",
   "execution_count": 60,
   "id": "8148291f",
   "metadata": {
    "execution": {
     "iopub.execute_input": "2022-07-05T07:41:19.455298Z",
     "iopub.status.busy": "2022-07-05T07:41:19.453574Z",
     "iopub.status.idle": "2022-07-05T07:41:20.009362Z",
     "shell.execute_reply": "2022-07-05T07:41:20.008390Z"
    },
    "papermill": {
     "duration": 0.655366,
     "end_time": "2022-07-05T07:41:20.011996",
     "exception": false,
     "start_time": "2022-07-05T07:41:19.356630",
     "status": "completed"
    },
    "tags": []
   },
   "outputs": [],
   "source": [
    "fasttext_model.save(\"FastText-Model-For-ABSA.bin\")"
   ]
  },
  {
   "cell_type": "code",
   "execution_count": 61,
   "id": "0ee060b4",
   "metadata": {
    "execution": {
     "iopub.execute_input": "2022-07-05T07:41:20.211077Z",
     "iopub.status.busy": "2022-07-05T07:41:20.210764Z",
     "iopub.status.idle": "2022-07-05T07:41:20.221688Z",
     "shell.execute_reply": "2022-07-05T07:41:20.220675Z"
    },
    "papermill": {
     "duration": 0.111713,
     "end_time": "2022-07-05T07:41:20.223676",
     "exception": false,
     "start_time": "2022-07-05T07:41:20.111963",
     "status": "completed"
    },
    "tags": []
   },
   "outputs": [
    {
     "data": {
      "text/plain": [
       "0.94774306"
      ]
     },
     "execution_count": 61,
     "metadata": {},
     "output_type": "execute_result"
    }
   ],
   "source": [
    "fasttext_model.wv.n_similarity(\"I really like the camera of this phone\", \"battery\")"
   ]
  },
  {
   "cell_type": "code",
   "execution_count": 62,
   "id": "5dc874fa",
   "metadata": {
    "execution": {
     "iopub.execute_input": "2022-07-05T07:41:20.460200Z",
     "iopub.status.busy": "2022-07-05T07:41:20.459856Z",
     "iopub.status.idle": "2022-07-05T07:41:20.467290Z",
     "shell.execute_reply": "2022-07-05T07:41:20.466322Z"
    },
    "papermill": {
     "duration": 0.148798,
     "end_time": "2022-07-05T07:41:20.469254",
     "exception": false,
     "start_time": "2022-07-05T07:41:20.320456",
     "status": "completed"
    },
    "tags": []
   },
   "outputs": [
    {
     "data": {
      "text/plain": [
       "0.9266368"
      ]
     },
     "execution_count": 62,
     "metadata": {},
     "output_type": "execute_result"
    }
   ],
   "source": [
    "fasttext_model.wv.n_similarity(\"I really like the camera of this phone\", \"camera\")"
   ]
  },
  {
   "cell_type": "code",
   "execution_count": 63,
   "id": "60c3164a",
   "metadata": {
    "execution": {
     "iopub.execute_input": "2022-07-05T07:41:20.665422Z",
     "iopub.status.busy": "2022-07-05T07:41:20.663873Z",
     "iopub.status.idle": "2022-07-05T07:41:20.669871Z",
     "shell.execute_reply": "2022-07-05T07:41:20.669029Z"
    },
    "papermill": {
     "duration": 0.105388,
     "end_time": "2022-07-05T07:41:20.671759",
     "exception": false,
     "start_time": "2022-07-05T07:41:20.566371",
     "status": "completed"
    },
    "tags": []
   },
   "outputs": [],
   "source": [
    "aspects = [\"phone\", \"camera\", \"battery\", \"delivery\", \"processor\"]\n",
    "\n",
    "def get_similarity(text, aspect):\n",
    "    try:\n",
    "        text = \" \".join(text)\n",
    "        return fasttext_model.wv.n_similarity(text, aspect)\n",
    "    except:\n",
    "        return 0\n"
   ]
  },
  {
   "cell_type": "code",
   "execution_count": 64,
   "id": "1c50d03b",
   "metadata": {
    "execution": {
     "iopub.execute_input": "2022-07-05T07:41:20.866649Z",
     "iopub.status.busy": "2022-07-05T07:41:20.866319Z",
     "iopub.status.idle": "2022-07-05T07:42:15.640599Z",
     "shell.execute_reply": "2022-07-05T07:42:15.638978Z"
    },
    "papermill": {
     "duration": 54.87417,
     "end_time": "2022-07-05T07:42:15.642733",
     "exception": false,
     "start_time": "2022-07-05T07:41:20.768563",
     "status": "completed"
    },
    "tags": []
   },
   "outputs": [
    {
     "name": "stderr",
     "output_type": "stream",
     "text": [
      "100%|██████████| 9606/9606 [00:11<00:00, 839.46it/s]\n",
      "100%|██████████| 9606/9606 [00:10<00:00, 907.24it/s]\n",
      "100%|██████████| 9606/9606 [00:10<00:00, 912.35it/s]\n",
      "100%|██████████| 9606/9606 [00:11<00:00, 869.72it/s]\n",
      "100%|██████████| 9606/9606 [00:11<00:00, 862.36it/s]\n"
     ]
    }
   ],
   "source": [
    "from tqdm import tqdm\n",
    "tqdm.pandas()\n",
    "for aspect in aspects:\n",
    "    df[aspect] = df['clean_review2'].progress_map(lambda text: get_similarity(text, aspect))"
   ]
  },
  {
   "cell_type": "code",
   "execution_count": 65,
   "id": "e39731dd",
   "metadata": {
    "execution": {
     "iopub.execute_input": "2022-07-05T07:42:15.900800Z",
     "iopub.status.busy": "2022-07-05T07:42:15.900482Z",
     "iopub.status.idle": "2022-07-05T07:42:15.917326Z",
     "shell.execute_reply": "2022-07-05T07:42:15.916428Z"
    },
    "papermill": {
     "duration": 0.146634,
     "end_time": "2022-07-05T07:42:15.919310",
     "exception": false,
     "start_time": "2022-07-05T07:42:15.772676",
     "status": "completed"
    },
    "tags": []
   },
   "outputs": [
    {
     "data": {
      "text/html": [
       "<div>\n",
       "<style scoped>\n",
       "    .dataframe tbody tr th:only-of-type {\n",
       "        vertical-align: middle;\n",
       "    }\n",
       "\n",
       "    .dataframe tbody tr th {\n",
       "        vertical-align: top;\n",
       "    }\n",
       "\n",
       "    .dataframe thead th {\n",
       "        text-align: right;\n",
       "    }\n",
       "</style>\n",
       "<table border=\"1\" class=\"dataframe\">\n",
       "  <thead>\n",
       "    <tr style=\"text-align: right;\">\n",
       "      <th></th>\n",
       "      <th>review</th>\n",
       "      <th>y</th>\n",
       "      <th>clean_review</th>\n",
       "      <th>clean_review2</th>\n",
       "      <th>phone</th>\n",
       "      <th>camera</th>\n",
       "      <th>battery</th>\n",
       "      <th>delivery</th>\n",
       "      <th>processor</th>\n",
       "    </tr>\n",
       "  </thead>\n",
       "  <tbody>\n",
       "    <tr>\n",
       "      <th>0</th>\n",
       "      <td>great phone in budget. .. pubg performance was...</td>\n",
       "      <td>0</td>\n",
       "      <td>great phone budget pubg performance staccato c...</td>\n",
       "      <td>[great, phone, budget, pubg, performance, stac...</td>\n",
       "      <td>0.933381</td>\n",
       "      <td>0.922949</td>\n",
       "      <td>0.950505</td>\n",
       "      <td>0.933994</td>\n",
       "      <td>0.940234</td>\n",
       "    </tr>\n",
       "    <tr>\n",
       "      <th>1</th>\n",
       "      <td>Best Smartphone by Mi in this Range. . stay in...</td>\n",
       "      <td>0</td>\n",
       "      <td>good smartphone mi range stay place -PRON- -PR...</td>\n",
       "      <td>[good, smartphone, mi, range, stay, place, -pr...</td>\n",
       "      <td>0.930191</td>\n",
       "      <td>0.866313</td>\n",
       "      <td>0.955066</td>\n",
       "      <td>0.928403</td>\n",
       "      <td>0.915485</td>\n",
       "    </tr>\n",
       "    <tr>\n",
       "      <th>2</th>\n",
       "      <td>Bad smooth phone. . and back camera quality is...</td>\n",
       "      <td>0</td>\n",
       "      <td>bad smooth phone back camera quality evil rear...</td>\n",
       "      <td>[bad, smooth, phone, back, camera, quality, ev...</td>\n",
       "      <td>0.910939</td>\n",
       "      <td>0.935801</td>\n",
       "      <td>0.956366</td>\n",
       "      <td>0.946106</td>\n",
       "      <td>0.950764</td>\n",
       "    </tr>\n",
       "    <tr>\n",
       "      <th>3</th>\n",
       "      <td>Thise is very nice mobile ...I like it very mu...</td>\n",
       "      <td>1</td>\n",
       "      <td>thise nice mobile like -PRON- much delivery al...</td>\n",
       "      <td>[thise, nice, mobile, like, -pron-, much, deli...</td>\n",
       "      <td>0.952888</td>\n",
       "      <td>0.904681</td>\n",
       "      <td>0.947968</td>\n",
       "      <td>0.941547</td>\n",
       "      <td>0.932071</td>\n",
       "    </tr>\n",
       "    <tr>\n",
       "      <th>4</th>\n",
       "      <td>I m meagerly fall short of 👍 All section r sup...</td>\n",
       "      <td>0</td>\n",
       "      <td>meagerly fall short thumb section r superb del...</td>\n",
       "      <td>[meagerly, fall, short, thumb, section, r, sup...</td>\n",
       "      <td>0.905175</td>\n",
       "      <td>0.892302</td>\n",
       "      <td>0.974439</td>\n",
       "      <td>0.960921</td>\n",
       "      <td>0.933756</td>\n",
       "    </tr>\n",
       "  </tbody>\n",
       "</table>\n",
       "</div>"
      ],
      "text/plain": [
       "                                              review  y  \\\n",
       "0  great phone in budget. .. pubg performance was...  0   \n",
       "1  Best Smartphone by Mi in this Range. . stay in...  0   \n",
       "2  Bad smooth phone. . and back camera quality is...  0   \n",
       "3  Thise is very nice mobile ...I like it very mu...  1   \n",
       "4  I m meagerly fall short of 👍 All section r sup...  0   \n",
       "\n",
       "                                        clean_review  \\\n",
       "0  great phone budget pubg performance staccato c...   \n",
       "1  good smartphone mi range stay place -PRON- -PR...   \n",
       "2  bad smooth phone back camera quality evil rear...   \n",
       "3  thise nice mobile like -PRON- much delivery al...   \n",
       "4  meagerly fall short thumb section r superb del...   \n",
       "\n",
       "                                       clean_review2     phone    camera  \\\n",
       "0  [great, phone, budget, pubg, performance, stac...  0.933381  0.922949   \n",
       "1  [good, smartphone, mi, range, stay, place, -pr...  0.930191  0.866313   \n",
       "2  [bad, smooth, phone, back, camera, quality, ev...  0.910939  0.935801   \n",
       "3  [thise, nice, mobile, like, -pron-, much, deli...  0.952888  0.904681   \n",
       "4  [meagerly, fall, short, thumb, section, r, sup...  0.905175  0.892302   \n",
       "\n",
       "    battery  delivery  processor  \n",
       "0  0.950505  0.933994   0.940234  \n",
       "1  0.955066  0.928403   0.915485  \n",
       "2  0.956366  0.946106   0.950764  \n",
       "3  0.947968  0.941547   0.932071  \n",
       "4  0.974439  0.960921   0.933756  "
      ]
     },
     "execution_count": 65,
     "metadata": {},
     "output_type": "execute_result"
    }
   ],
   "source": [
    "df.head()"
   ]
  },
  {
   "cell_type": "code",
   "execution_count": 66,
   "id": "5b5a0857",
   "metadata": {
    "execution": {
     "iopub.execute_input": "2022-07-05T07:42:16.201757Z",
     "iopub.status.busy": "2022-07-05T07:42:16.201409Z",
     "iopub.status.idle": "2022-07-05T07:42:16.495443Z",
     "shell.execute_reply": "2022-07-05T07:42:16.494444Z"
    },
    "papermill": {
     "duration": 0.446221,
     "end_time": "2022-07-05T07:42:16.497812",
     "exception": false,
     "start_time": "2022-07-05T07:42:16.051591",
     "status": "completed"
    },
    "tags": []
   },
   "outputs": [],
   "source": [
    "df.to_csv(\"Clean_Flipkart_Product.csv\", index = False)"
   ]
  },
  {
   "cell_type": "markdown",
   "id": "34cb6ae8",
   "metadata": {
    "papermill": {
     "duration": 0.125218,
     "end_time": "2022-07-05T07:42:16.750776",
     "exception": false,
     "start_time": "2022-07-05T07:42:16.625558",
     "status": "completed"
    },
    "tags": []
   },
   "source": [
    "As of now we are done of choosing the aspects for each respective review. Now our next step will be to create an pytorch based model which can predict aspect based sentiment."
   ]
  },
  {
   "cell_type": "markdown",
   "id": "6c211be5",
   "metadata": {
    "papermill": {
     "duration": 0.126231,
     "end_time": "2022-07-05T07:42:17.003155",
     "exception": false,
     "start_time": "2022-07-05T07:42:16.876924",
     "status": "completed"
    },
    "tags": []
   },
   "source": [
    "--------------------------------------------\n",
    "----------------"
   ]
  },
  {
   "cell_type": "markdown",
   "id": "22f66df9",
   "metadata": {
    "papermill": {
     "duration": 0.127044,
     "end_time": "2022-07-05T07:42:17.257055",
     "exception": false,
     "start_time": "2022-07-05T07:42:17.130011",
     "status": "completed"
    },
    "tags": []
   },
   "source": []
  },
  {
   "cell_type": "markdown",
   "id": "8b904f3c",
   "metadata": {
    "papermill": {
     "duration": 0.126635,
     "end_time": "2022-07-05T07:42:17.510848",
     "exception": false,
     "start_time": "2022-07-05T07:42:17.384213",
     "status": "completed"
    },
    "tags": []
   },
   "source": [
    "<h1  style=\"text-align: center\" class=\"list-group-item list-group-item-action active\">6. Model </h1><a id = \"6\" ></a>\n",
    "\n",
    "We are done with aspect identification next we will create a model to predict sentiments on the basis of these aspects."
   ]
  },
  {
   "cell_type": "code",
   "execution_count": 67,
   "id": "8f1e0730",
   "metadata": {
    "execution": {
     "iopub.execute_input": "2022-07-05T07:42:17.768259Z",
     "iopub.status.busy": "2022-07-05T07:42:17.767889Z",
     "iopub.status.idle": "2022-07-05T07:42:17.773090Z",
     "shell.execute_reply": "2022-07-05T07:42:17.772187Z"
    },
    "papermill": {
     "duration": 0.136454,
     "end_time": "2022-07-05T07:42:17.775186",
     "exception": false,
     "start_time": "2022-07-05T07:42:17.638732",
     "status": "completed"
    },
    "tags": []
   },
   "outputs": [],
   "source": [
    "import torch\n",
    "from torch import nn\n",
    "from torch.utils.data import Dataset\n",
    "from torch.utils.data import DataLoader\n",
    "from torch.utils.data import RandomSampler\n",
    "import warnings"
   ]
  },
  {
   "cell_type": "markdown",
   "id": "b15e60f0",
   "metadata": {
    "papermill": {
     "duration": 0.126677,
     "end_time": "2022-07-05T07:42:18.068465",
     "exception": false,
     "start_time": "2022-07-05T07:42:17.941788",
     "status": "completed"
    },
    "tags": []
   },
   "source": [
    "<h2  style=\"text-align: center\" class=\"list-group-item list-group-item-success\"> 6.1 Configurations </h2><a id = \"6.1\" ></a>"
   ]
  },
  {
   "cell_type": "code",
   "execution_count": 68,
   "id": "9059816f",
   "metadata": {
    "execution": {
     "iopub.execute_input": "2022-07-05T07:42:18.324027Z",
     "iopub.status.busy": "2022-07-05T07:42:18.323680Z",
     "iopub.status.idle": "2022-07-05T07:42:18.390871Z",
     "shell.execute_reply": "2022-07-05T07:42:18.389924Z"
    },
    "papermill": {
     "duration": 0.196825,
     "end_time": "2022-07-05T07:42:18.392817",
     "exception": false,
     "start_time": "2022-07-05T07:42:18.195992",
     "status": "completed"
    },
    "tags": []
   },
   "outputs": [],
   "source": [
    "class config:\n",
    "    warnings.filterwarnings(\"ignore\", category = UserWarning)\n",
    "    IMG_SIZE = (224,224)\n",
    "    DEVICE = (\"cuda\" if torch.cuda.is_available() else \"cpu\")\n",
    "    FOLDS = 5\n",
    "    SHUFFLE = True\n",
    "    BATCH_SIZE = 32\n",
    "    LR = 0.01\n",
    "    EPOCHS = 30\n",
    "    EMB_DIM = 100\n",
    "    MAX_LEN = 20\n",
    "    MODEL_PATH = \"./Models/MyModel.pt\""
   ]
  },
  {
   "cell_type": "code",
   "execution_count": 69,
   "id": "333979e2",
   "metadata": {
    "execution": {
     "iopub.execute_input": "2022-07-05T07:42:18.649529Z",
     "iopub.status.busy": "2022-07-05T07:42:18.647958Z",
     "iopub.status.idle": "2022-07-05T07:42:18.665564Z",
     "shell.execute_reply": "2022-07-05T07:42:18.664486Z"
    },
    "papermill": {
     "duration": 0.147893,
     "end_time": "2022-07-05T07:42:18.667944",
     "exception": false,
     "start_time": "2022-07-05T07:42:18.520051",
     "status": "completed"
    },
    "tags": []
   },
   "outputs": [
    {
     "data": {
      "text/html": [
       "<div>\n",
       "<style scoped>\n",
       "    .dataframe tbody tr th:only-of-type {\n",
       "        vertical-align: middle;\n",
       "    }\n",
       "\n",
       "    .dataframe tbody tr th {\n",
       "        vertical-align: top;\n",
       "    }\n",
       "\n",
       "    .dataframe thead th {\n",
       "        text-align: right;\n",
       "    }\n",
       "</style>\n",
       "<table border=\"1\" class=\"dataframe\">\n",
       "  <thead>\n",
       "    <tr style=\"text-align: right;\">\n",
       "      <th></th>\n",
       "      <th>review</th>\n",
       "      <th>y</th>\n",
       "      <th>clean_review</th>\n",
       "      <th>clean_review2</th>\n",
       "      <th>phone</th>\n",
       "      <th>camera</th>\n",
       "      <th>battery</th>\n",
       "      <th>delivery</th>\n",
       "      <th>processor</th>\n",
       "    </tr>\n",
       "  </thead>\n",
       "  <tbody>\n",
       "    <tr>\n",
       "      <th>0</th>\n",
       "      <td>great phone in budget. .. pubg performance was...</td>\n",
       "      <td>0</td>\n",
       "      <td>great phone budget pubg performance staccato c...</td>\n",
       "      <td>[great, phone, budget, pubg, performance, stac...</td>\n",
       "      <td>0.933381</td>\n",
       "      <td>0.922949</td>\n",
       "      <td>0.950505</td>\n",
       "      <td>0.933994</td>\n",
       "      <td>0.940234</td>\n",
       "    </tr>\n",
       "    <tr>\n",
       "      <th>1</th>\n",
       "      <td>Best Smartphone by Mi in this Range. . stay in...</td>\n",
       "      <td>0</td>\n",
       "      <td>good smartphone mi range stay place -PRON- -PR...</td>\n",
       "      <td>[good, smartphone, mi, range, stay, place, -pr...</td>\n",
       "      <td>0.930191</td>\n",
       "      <td>0.866313</td>\n",
       "      <td>0.955066</td>\n",
       "      <td>0.928403</td>\n",
       "      <td>0.915485</td>\n",
       "    </tr>\n",
       "    <tr>\n",
       "      <th>2</th>\n",
       "      <td>Bad smooth phone. . and back camera quality is...</td>\n",
       "      <td>0</td>\n",
       "      <td>bad smooth phone back camera quality evil rear...</td>\n",
       "      <td>[bad, smooth, phone, back, camera, quality, ev...</td>\n",
       "      <td>0.910939</td>\n",
       "      <td>0.935801</td>\n",
       "      <td>0.956366</td>\n",
       "      <td>0.946106</td>\n",
       "      <td>0.950764</td>\n",
       "    </tr>\n",
       "    <tr>\n",
       "      <th>3</th>\n",
       "      <td>Thise is very nice mobile ...I like it very mu...</td>\n",
       "      <td>1</td>\n",
       "      <td>thise nice mobile like -PRON- much delivery al...</td>\n",
       "      <td>[thise, nice, mobile, like, -pron-, much, deli...</td>\n",
       "      <td>0.952888</td>\n",
       "      <td>0.904681</td>\n",
       "      <td>0.947968</td>\n",
       "      <td>0.941547</td>\n",
       "      <td>0.932071</td>\n",
       "    </tr>\n",
       "    <tr>\n",
       "      <th>4</th>\n",
       "      <td>I m meagerly fall short of 👍 All section r sup...</td>\n",
       "      <td>0</td>\n",
       "      <td>meagerly fall short thumb section r superb del...</td>\n",
       "      <td>[meagerly, fall, short, thumb, section, r, sup...</td>\n",
       "      <td>0.905175</td>\n",
       "      <td>0.892302</td>\n",
       "      <td>0.974439</td>\n",
       "      <td>0.960921</td>\n",
       "      <td>0.933756</td>\n",
       "    </tr>\n",
       "  </tbody>\n",
       "</table>\n",
       "</div>"
      ],
      "text/plain": [
       "                                              review  y  \\\n",
       "0  great phone in budget. .. pubg performance was...  0   \n",
       "1  Best Smartphone by Mi in this Range. . stay in...  0   \n",
       "2  Bad smooth phone. . and back camera quality is...  0   \n",
       "3  Thise is very nice mobile ...I like it very mu...  1   \n",
       "4  I m meagerly fall short of 👍 All section r sup...  0   \n",
       "\n",
       "                                        clean_review  \\\n",
       "0  great phone budget pubg performance staccato c...   \n",
       "1  good smartphone mi range stay place -PRON- -PR...   \n",
       "2  bad smooth phone back camera quality evil rear...   \n",
       "3  thise nice mobile like -PRON- much delivery al...   \n",
       "4  meagerly fall short thumb section r superb del...   \n",
       "\n",
       "                                       clean_review2     phone    camera  \\\n",
       "0  [great, phone, budget, pubg, performance, stac...  0.933381  0.922949   \n",
       "1  [good, smartphone, mi, range, stay, place, -pr...  0.930191  0.866313   \n",
       "2  [bad, smooth, phone, back, camera, quality, ev...  0.910939  0.935801   \n",
       "3  [thise, nice, mobile, like, -pron-, much, deli...  0.952888  0.904681   \n",
       "4  [meagerly, fall, short, thumb, section, r, sup...  0.905175  0.892302   \n",
       "\n",
       "    battery  delivery  processor  \n",
       "0  0.950505  0.933994   0.940234  \n",
       "1  0.955066  0.928403   0.915485  \n",
       "2  0.956366  0.946106   0.950764  \n",
       "3  0.947968  0.941547   0.932071  \n",
       "4  0.974439  0.960921   0.933756  "
      ]
     },
     "execution_count": 69,
     "metadata": {},
     "output_type": "execute_result"
    }
   ],
   "source": [
    "# df = pd.read_csv(\"../input/mimobilereviews/Clean_Flipkart_Product.csv\")\n",
    "df.head()"
   ]
  },
  {
   "cell_type": "markdown",
   "id": "b8beb9b2",
   "metadata": {
    "papermill": {
     "duration": 0.126255,
     "end_time": "2022-07-05T07:42:18.925053",
     "exception": false,
     "start_time": "2022-07-05T07:42:18.798798",
     "status": "completed"
    },
    "tags": []
   },
   "source": []
  },
  {
   "cell_type": "code",
   "execution_count": null,
   "id": "e82b0f2d",
   "metadata": {
    "papermill": {
     "duration": 0.127424,
     "end_time": "2022-07-05T07:42:19.178020",
     "exception": false,
     "start_time": "2022-07-05T07:42:19.050596",
     "status": "completed"
    },
    "tags": []
   },
   "outputs": [],
   "source": []
  },
  {
   "cell_type": "markdown",
   "id": "ac41e122",
   "metadata": {
    "papermill": {
     "duration": 0.126154,
     "end_time": "2022-07-05T07:42:19.431340",
     "exception": false,
     "start_time": "2022-07-05T07:42:19.305186",
     "status": "completed"
    },
    "tags": []
   },
   "source": [
    "<h2  style=\"text-align: center\" class=\"list-group-item list-group-item-success\"> 6.2 Dataset Generator </h2><a id = \"6.2\" ></a>"
   ]
  },
  {
   "cell_type": "markdown",
   "id": "2fac6b93",
   "metadata": {
    "papermill": {
     "duration": 0.137204,
     "end_time": "2022-07-05T07:42:19.698536",
     "exception": false,
     "start_time": "2022-07-05T07:42:19.561332",
     "status": "completed"
    },
    "tags": []
   },
   "source": [
    "<h3  style=\"text-align: center\" class=\"list-group-item list-group-item-warning\"> 6.2.1 Creation of the Vocabulary </h3><a id = \"6.2.1\" ></a>"
   ]
  },
  {
   "cell_type": "code",
   "execution_count": 70,
   "id": "c2d3a603",
   "metadata": {
    "execution": {
     "iopub.execute_input": "2022-07-05T07:42:19.963668Z",
     "iopub.status.busy": "2022-07-05T07:42:19.963328Z",
     "iopub.status.idle": "2022-07-05T07:42:19.977083Z",
     "shell.execute_reply": "2022-07-05T07:42:19.976176Z"
    },
    "papermill": {
     "duration": 0.144591,
     "end_time": "2022-07-05T07:42:19.979089",
     "exception": false,
     "start_time": "2022-07-05T07:42:19.834498",
     "status": "completed"
    },
    "tags": []
   },
   "outputs": [],
   "source": [
    "class Vocabulary:\n",
    "  \n",
    "    '''\n",
    "    __init__ method is called by default as soon as an object of this class is initiated\n",
    "    we use this method to initiate our vocab dictionaries\n",
    "    '''\n",
    "    def __init__(self, freq_threshold, max_size):\n",
    "        '''\n",
    "        freq_threshold : the minimum times a word must occur in corpus to be treated in vocab\n",
    "        max_size : max source vocab size. Eg. if set to 10,000, we pick the top 10,000 most frequent words and discard others\n",
    "        '''\n",
    "        #initiate the index to token dict\n",
    "        ## <PAD> -> padding, used for padding the shorter sentences in a batch to match the length of longest sentence in the batch\n",
    "        ## <SOS> -> start token, added in front of each sentence to signify the start of sentence\n",
    "        ## <EOS> -> End of sentence token, added to the end of each sentence to signify the end of sentence\n",
    "        ## <UNK> -> words which are not found in the vocab are replace by this token\n",
    "        self.itos = {0: '<PAD>', 1:'<SOS>', 2:'<EOS>', 3: '<UNK>'}\n",
    "        #initiate the token to index dict\n",
    "        self.stoi = {k:j for j,k in self.itos.items()} \n",
    "        \n",
    "        self.freq_threshold = freq_threshold\n",
    "        self.max_size = max_size\n",
    "    \n",
    "    '''\n",
    "    __len__ is used by dataloader later to create batches\n",
    "    '''\n",
    "    def __len__(self):\n",
    "        return len(self.itos)\n",
    "    \n",
    "    '''\n",
    "    a simple tokenizer to split on space and converts the sentence to list of words\n",
    "    '''\n",
    "    @staticmethod\n",
    "    def tokenizer(text):\n",
    "        return [tok.lower().strip() for tok in text.split(' ')]\n",
    "    \n",
    "    '''\n",
    "    build the vocab: create a dictionary mapping of index to string (itos) and string to index (stoi)\n",
    "    output ex. for stoi -> {'the':5, 'a':6, 'an':7}\n",
    "    '''\n",
    "    def build_vocabulary(self, sentence_list):\n",
    "        #calculate the frequencies of each word first to remove the words with freq < freq_threshold\n",
    "        frequencies = {}  #init the freq dict\n",
    "        idx = 4 #index from which we want our dict to start. We already used 4 indexes for pad, start, end, unk\n",
    "        \n",
    "        #calculate freq of words\n",
    "        for sentence in sentence_list:\n",
    "            for word in self.tokenizer(sentence):\n",
    "                if word not in frequencies.keys():\n",
    "                    frequencies[word]=1\n",
    "                else:\n",
    "                    frequencies[word]+=1\n",
    "                    \n",
    "                    \n",
    "        #limit vocab by removing low freq words\n",
    "        frequencies = {k:v for k,v in frequencies.items() if v>self.freq_threshold} \n",
    "        \n",
    "        #limit vocab to the max_size specified\n",
    "        frequencies = dict(sorted(frequencies.items(), key = lambda x: -x[1])[:self.max_size-idx]) # idx =4 for pad, start, end , unk\n",
    "            \n",
    "        #create vocab\n",
    "        for word in frequencies.keys():\n",
    "            self.stoi[word] = idx\n",
    "            self.itos[idx] = word\n",
    "            idx+=1\n",
    "            \n",
    "     \n",
    "    '''\n",
    "    convert the list of words to a list of corresponding indexes\n",
    "    '''    \n",
    "    def numericalize(self, text):\n",
    "        #tokenize text\n",
    "        tokenized_text = self.tokenizer(text)\n",
    "        numericalized_text = []\n",
    "        for token in tokenized_text:\n",
    "            if token in self.stoi.keys():\n",
    "                numericalized_text.append(self.stoi[token])\n",
    "            else: #out-of-vocab words are represented by UNK token index\n",
    "                numericalized_text.append(self.stoi['<UNK>'])\n",
    "                \n",
    "        return numericalized_text\n"
   ]
  },
  {
   "cell_type": "code",
   "execution_count": 71,
   "id": "6c754ba0",
   "metadata": {
    "execution": {
     "iopub.execute_input": "2022-07-05T07:42:20.233641Z",
     "iopub.status.busy": "2022-07-05T07:42:20.233367Z",
     "iopub.status.idle": "2022-07-05T07:42:20.242692Z",
     "shell.execute_reply": "2022-07-05T07:42:20.241732Z"
    },
    "papermill": {
     "duration": 0.138742,
     "end_time": "2022-07-05T07:42:20.244663",
     "exception": false,
     "start_time": "2022-07-05T07:42:20.105921",
     "status": "completed"
    },
    "tags": []
   },
   "outputs": [],
   "source": [
    "from torch.utils.data import Dataset\n",
    "\n",
    "class CustomDataset(Dataset):\n",
    "    '''\n",
    "    Initiating Variables\n",
    "    df: the training dataframe\n",
    "    source_column : the name of source text column in the dataframe\n",
    "    transform : If we want to add any augmentation\n",
    "    freq_threshold : the minimum times a word must occur in corpus to be treated in vocab\n",
    "    source_vocab_max_size : max source vocab size\n",
    "    '''\n",
    "    \n",
    "    def __init__(self, df, source_column,freq_threshold = 3,\n",
    "                source_vocab_max_size = 10000 , transform=None):\n",
    "    \n",
    "        self.df = df\n",
    "        self.transform = transform\n",
    "        \n",
    "        #get source and target texts\n",
    "        self.source_texts = self.df[source_column]\n",
    "        \n",
    "        \n",
    "        ##VOCAB class has been created above\n",
    "        #Initialize source vocab object and build vocabulary\n",
    "        self.source_vocab = Vocabulary(freq_threshold, source_vocab_max_size)\n",
    "        self.source_vocab.build_vocabulary(self.source_texts.tolist())\n",
    "\n",
    "        \n",
    "    def __len__(self):\n",
    "        return len(self.df)\n",
    "    \n",
    "    '''\n",
    "    __getitem__ runs on 1 example at a time. Here, we get an example at index and return its numericalize source and\n",
    "    target values using the vocabulary objects we created in __init__\n",
    "    '''\n",
    "    def __getitem__(self, index):\n",
    "        source_text = self.source_texts[index]\n",
    "        \n",
    "        if self.transform is not None:\n",
    "            source_text = self.transform(source_text)\n",
    "            \n",
    "        #numericalize texts ['<SOS>','cat', 'in', 'a', 'bag','<EOS>'] -> [1,12,2,9,24,2]\n",
    "        numerialized_source = [self.source_vocab.stoi[\"<SOS>\"]]\n",
    "        numerialized_source += self.source_vocab.numericalize(source_text)\n",
    "        numerialized_source.append(self.source_vocab.stoi[\"<EOS>\"])\n",
    "        \n",
    "        #convert the list to tensor and return\n",
    "        return torch.tensor(numerialized_source), torch.tensor(self.df.y[index])"
   ]
  },
  {
   "cell_type": "code",
   "execution_count": 72,
   "id": "064dac89",
   "metadata": {
    "execution": {
     "iopub.execute_input": "2022-07-05T07:42:20.498518Z",
     "iopub.status.busy": "2022-07-05T07:42:20.497566Z",
     "iopub.status.idle": "2022-07-05T07:42:20.512973Z",
     "shell.execute_reply": "2022-07-05T07:42:20.512053Z"
    },
    "papermill": {
     "duration": 0.143131,
     "end_time": "2022-07-05T07:42:20.514817",
     "exception": false,
     "start_time": "2022-07-05T07:42:20.371686",
     "status": "completed"
    },
    "tags": []
   },
   "outputs": [
    {
     "data": {
      "text/html": [
       "<div>\n",
       "<style scoped>\n",
       "    .dataframe tbody tr th:only-of-type {\n",
       "        vertical-align: middle;\n",
       "    }\n",
       "\n",
       "    .dataframe tbody tr th {\n",
       "        vertical-align: top;\n",
       "    }\n",
       "\n",
       "    .dataframe thead th {\n",
       "        text-align: right;\n",
       "    }\n",
       "</style>\n",
       "<table border=\"1\" class=\"dataframe\">\n",
       "  <thead>\n",
       "    <tr style=\"text-align: right;\">\n",
       "      <th></th>\n",
       "      <th>review</th>\n",
       "      <th>y</th>\n",
       "      <th>clean_review</th>\n",
       "      <th>clean_review2</th>\n",
       "      <th>phone</th>\n",
       "      <th>camera</th>\n",
       "      <th>battery</th>\n",
       "      <th>delivery</th>\n",
       "      <th>processor</th>\n",
       "    </tr>\n",
       "  </thead>\n",
       "  <tbody>\n",
       "    <tr>\n",
       "      <th>0</th>\n",
       "      <td>great phone in budget. .. pubg performance was...</td>\n",
       "      <td>0</td>\n",
       "      <td>great phone budget pubg performance staccato c...</td>\n",
       "      <td>[great, phone, budget, pubg, performance, stac...</td>\n",
       "      <td>0.933381</td>\n",
       "      <td>0.922949</td>\n",
       "      <td>0.950505</td>\n",
       "      <td>0.933994</td>\n",
       "      <td>0.940234</td>\n",
       "    </tr>\n",
       "    <tr>\n",
       "      <th>1</th>\n",
       "      <td>Best Smartphone by Mi in this Range. . stay in...</td>\n",
       "      <td>0</td>\n",
       "      <td>good smartphone mi range stay place -PRON- -PR...</td>\n",
       "      <td>[good, smartphone, mi, range, stay, place, -pr...</td>\n",
       "      <td>0.930191</td>\n",
       "      <td>0.866313</td>\n",
       "      <td>0.955066</td>\n",
       "      <td>0.928403</td>\n",
       "      <td>0.915485</td>\n",
       "    </tr>\n",
       "    <tr>\n",
       "      <th>2</th>\n",
       "      <td>Bad smooth phone. . and back camera quality is...</td>\n",
       "      <td>0</td>\n",
       "      <td>bad smooth phone back camera quality evil rear...</td>\n",
       "      <td>[bad, smooth, phone, back, camera, quality, ev...</td>\n",
       "      <td>0.910939</td>\n",
       "      <td>0.935801</td>\n",
       "      <td>0.956366</td>\n",
       "      <td>0.946106</td>\n",
       "      <td>0.950764</td>\n",
       "    </tr>\n",
       "    <tr>\n",
       "      <th>3</th>\n",
       "      <td>Thise is very nice mobile ...I like it very mu...</td>\n",
       "      <td>1</td>\n",
       "      <td>thise nice mobile like -PRON- much delivery al...</td>\n",
       "      <td>[thise, nice, mobile, like, -pron-, much, deli...</td>\n",
       "      <td>0.952888</td>\n",
       "      <td>0.904681</td>\n",
       "      <td>0.947968</td>\n",
       "      <td>0.941547</td>\n",
       "      <td>0.932071</td>\n",
       "    </tr>\n",
       "    <tr>\n",
       "      <th>4</th>\n",
       "      <td>I m meagerly fall short of 👍 All section r sup...</td>\n",
       "      <td>0</td>\n",
       "      <td>meagerly fall short thumb section r superb del...</td>\n",
       "      <td>[meagerly, fall, short, thumb, section, r, sup...</td>\n",
       "      <td>0.905175</td>\n",
       "      <td>0.892302</td>\n",
       "      <td>0.974439</td>\n",
       "      <td>0.960921</td>\n",
       "      <td>0.933756</td>\n",
       "    </tr>\n",
       "  </tbody>\n",
       "</table>\n",
       "</div>"
      ],
      "text/plain": [
       "                                              review  y  \\\n",
       "0  great phone in budget. .. pubg performance was...  0   \n",
       "1  Best Smartphone by Mi in this Range. . stay in...  0   \n",
       "2  Bad smooth phone. . and back camera quality is...  0   \n",
       "3  Thise is very nice mobile ...I like it very mu...  1   \n",
       "4  I m meagerly fall short of 👍 All section r sup...  0   \n",
       "\n",
       "                                        clean_review  \\\n",
       "0  great phone budget pubg performance staccato c...   \n",
       "1  good smartphone mi range stay place -PRON- -PR...   \n",
       "2  bad smooth phone back camera quality evil rear...   \n",
       "3  thise nice mobile like -PRON- much delivery al...   \n",
       "4  meagerly fall short thumb section r superb del...   \n",
       "\n",
       "                                       clean_review2     phone    camera  \\\n",
       "0  [great, phone, budget, pubg, performance, stac...  0.933381  0.922949   \n",
       "1  [good, smartphone, mi, range, stay, place, -pr...  0.930191  0.866313   \n",
       "2  [bad, smooth, phone, back, camera, quality, ev...  0.910939  0.935801   \n",
       "3  [thise, nice, mobile, like, -pron-, much, deli...  0.952888  0.904681   \n",
       "4  [meagerly, fall, short, thumb, section, r, sup...  0.905175  0.892302   \n",
       "\n",
       "    battery  delivery  processor  \n",
       "0  0.950505  0.933994   0.940234  \n",
       "1  0.955066  0.928403   0.915485  \n",
       "2  0.956366  0.946106   0.950764  \n",
       "3  0.947968  0.941547   0.932071  \n",
       "4  0.974439  0.960921   0.933756  "
      ]
     },
     "execution_count": 72,
     "metadata": {},
     "output_type": "execute_result"
    }
   ],
   "source": [
    "df.head()"
   ]
  },
  {
   "cell_type": "code",
   "execution_count": 73,
   "id": "0f1b8b9d",
   "metadata": {
    "execution": {
     "iopub.execute_input": "2022-07-05T07:42:20.771372Z",
     "iopub.status.busy": "2022-07-05T07:42:20.770776Z",
     "iopub.status.idle": "2022-07-05T07:42:20.883969Z",
     "shell.execute_reply": "2022-07-05T07:42:20.883138Z"
    },
    "papermill": {
     "duration": 0.244428,
     "end_time": "2022-07-05T07:42:20.886061",
     "exception": false,
     "start_time": "2022-07-05T07:42:20.641633",
     "status": "completed"
    },
    "tags": []
   },
   "outputs": [],
   "source": [
    "dataset = CustomDataset(df, \"clean_review\")"
   ]
  },
  {
   "cell_type": "code",
   "execution_count": 74,
   "id": "30c98590",
   "metadata": {
    "execution": {
     "iopub.execute_input": "2022-07-05T07:42:21.149983Z",
     "iopub.status.busy": "2022-07-05T07:42:21.149054Z",
     "iopub.status.idle": "2022-07-05T07:42:21.155644Z",
     "shell.execute_reply": "2022-07-05T07:42:21.154677Z"
    },
    "papermill": {
     "duration": 0.143788,
     "end_time": "2022-07-05T07:42:21.157617",
     "exception": false,
     "start_time": "2022-07-05T07:42:21.013829",
     "status": "completed"
    },
    "tags": []
   },
   "outputs": [
    {
     "data": {
      "text/plain": [
       "3324"
      ]
     },
     "execution_count": 74,
     "metadata": {},
     "output_type": "execute_result"
    }
   ],
   "source": [
    "len(dataset.source_vocab.stoi)"
   ]
  },
  {
   "cell_type": "markdown",
   "id": "acfd39b8",
   "metadata": {
    "papermill": {
     "duration": 0.127853,
     "end_time": "2022-07-05T07:42:21.412349",
     "exception": false,
     "start_time": "2022-07-05T07:42:21.284496",
     "status": "completed"
    },
    "tags": []
   },
   "source": [
    "Saving the pytorch custom dataset"
   ]
  },
  {
   "cell_type": "code",
   "execution_count": 75,
   "id": "a0d4e13c",
   "metadata": {
    "execution": {
     "iopub.execute_input": "2022-07-05T07:42:21.718540Z",
     "iopub.status.busy": "2022-07-05T07:42:21.718072Z",
     "iopub.status.idle": "2022-07-05T07:42:21.802170Z",
     "shell.execute_reply": "2022-07-05T07:42:21.800406Z"
    },
    "papermill": {
     "duration": 0.26665,
     "end_time": "2022-07-05T07:42:21.805406",
     "exception": false,
     "start_time": "2022-07-05T07:42:21.538756",
     "status": "completed"
    },
    "tags": []
   },
   "outputs": [],
   "source": [
    "import pickle\n",
    "\n",
    "with open('dataset-new', 'wb') as dataset_file:\n",
    " \n",
    "  # Step 3\n",
    "    pickle.dump(dataset, dataset_file, pickle.HIGHEST_PROTOCOL)\n",
    "\n",
    "# import pickle\n",
    " \n",
    "# # Step 2\n",
    "# with open('./dataset', 'rb') as config_dictionary_file:\n",
    " \n",
    "#     # Step 3\n",
    "#     config_dictionary = pickle.load(config_dictionary_file)\n",
    " \n",
    "#     # After config_dictionary is read from file\n",
    "#     print(config_dictionary)"
   ]
  },
  {
   "cell_type": "markdown",
   "id": "4de3307b",
   "metadata": {
    "papermill": {
     "duration": 0.209099,
     "end_time": "2022-07-05T07:42:22.238802",
     "exception": false,
     "start_time": "2022-07-05T07:42:22.029703",
     "status": "completed"
    },
    "tags": []
   },
   "source": [
    "<h2  style=\"text-align: center\" class=\"list-group-item list-group-item-success\"> 6.3 Word Embeddings </h2><a id = \"6.3\" ></a>"
   ]
  },
  {
   "cell_type": "code",
   "execution_count": 76,
   "id": "fabbed58",
   "metadata": {
    "execution": {
     "iopub.execute_input": "2022-07-05T07:42:22.522902Z",
     "iopub.status.busy": "2022-07-05T07:42:22.522557Z",
     "iopub.status.idle": "2022-07-05T07:42:22.529883Z",
     "shell.execute_reply": "2022-07-05T07:42:22.528952Z"
    },
    "papermill": {
     "duration": 0.138221,
     "end_time": "2022-07-05T07:42:22.531860",
     "exception": false,
     "start_time": "2022-07-05T07:42:22.393639",
     "status": "completed"
    },
    "tags": []
   },
   "outputs": [],
   "source": [
    "def get_emb_layer_with_weights(target_vocab, emb_model, trainable = False):\n",
    "\n",
    "    weights_matrix = np.zeros((len(target_vocab), config.EMB_DIM))\n",
    "    words_found = 0\n",
    "    \n",
    "    for i, word in enumerate(target_vocab):\n",
    "        weights_matrix[i] = np.concatenate([emb_model.wv[word]])\n",
    "        words_found += 1\n",
    "                \n",
    "    print(f\"Words found are : {words_found}\")\n",
    "    \n",
    "    weights_matrix = torch.tensor(weights_matrix, dtype = torch.float32).reshape(len(target_vocab), config.EMB_DIM)\n",
    "    emb_layer = nn.Embedding.from_pretrained(weights_matrix)\n",
    "    print(emb_layer)\n",
    "    if trainable:\n",
    "        emb_layer.weight.requires_grad = True\n",
    "    else:\n",
    "        emb_layer.weight.requires_grad = False\n",
    "\n",
    "    return emb_layer"
   ]
  },
  {
   "cell_type": "code",
   "execution_count": 77,
   "id": "bf54703b",
   "metadata": {
    "execution": {
     "iopub.execute_input": "2022-07-05T07:42:22.789218Z",
     "iopub.status.busy": "2022-07-05T07:42:22.788895Z",
     "iopub.status.idle": "2022-07-05T07:42:22.797904Z",
     "shell.execute_reply": "2022-07-05T07:42:22.797024Z"
    },
    "papermill": {
     "duration": 0.139746,
     "end_time": "2022-07-05T07:42:22.799816",
     "exception": false,
     "start_time": "2022-07-05T07:42:22.660070",
     "status": "completed"
    },
    "tags": []
   },
   "outputs": [],
   "source": [
    "class MyCollate:\n",
    "    def __init__(self, pad_idx, maxlen):\n",
    "        self.pad_idx = pad_idx\n",
    "        self.maxlen = maxlen\n",
    "        \n",
    "    \n",
    "    #__call__: a default method\n",
    "    ##   First the obj is created using MyCollate(pad_idx) in data loader\n",
    "    ##   Then if obj(batch) is called -> __call__ runs by default\n",
    "    def __call__(self, batch):\n",
    "        #get all source indexed sentences of the batch\n",
    "        source = [item[0] for item in batch] \n",
    "        #pad them using pad_sequence method from pytorch. \n",
    "#         source = pad_sequence(source, batch_first=False, padding_value = self.pad_idx)\n",
    "        \n",
    "        padded_sequence = torch.zeros((self.maxlen, len(batch)), dtype = torch.int)\n",
    "        \n",
    "        for idx, text in enumerate(source):\n",
    "            \n",
    "            if len(text) > self.maxlen:\n",
    "                padded_sequence[:, idx] = source[idx][: self.maxlen]\n",
    "            else:\n",
    "                padded_sequence[:len(source[idx]), idx] = padded_sequence[:len(source[idx]), idx] + source[idx]\n",
    "                \n",
    "        \n",
    "        #get all target indexed sentences of the batch\n",
    "        target = [item[1] for item in batch] \n",
    "        \n",
    "        target = torch.tensor(target, dtype = torch.float32).reshape(-1)\n",
    "        return padded_sequence, target\n"
   ]
  },
  {
   "cell_type": "markdown",
   "id": "6a8f21dd",
   "metadata": {
    "papermill": {
     "duration": 0.129188,
     "end_time": "2022-07-05T07:42:23.058185",
     "exception": false,
     "start_time": "2022-07-05T07:42:22.928997",
     "status": "completed"
    },
    "tags": []
   },
   "source": [
    "<h2  style=\"text-align: center\" class=\"list-group-item list-group-item-success\"> 6.4 Initializing the Model </h2><a id = \"6.4\" ></a>"
   ]
  },
  {
   "cell_type": "code",
   "execution_count": 78,
   "id": "64c0afdf",
   "metadata": {
    "execution": {
     "iopub.execute_input": "2022-07-05T07:42:23.318030Z",
     "iopub.status.busy": "2022-07-05T07:42:23.317682Z",
     "iopub.status.idle": "2022-07-05T07:42:23.328787Z",
     "shell.execute_reply": "2022-07-05T07:42:23.327910Z"
    },
    "papermill": {
     "duration": 0.144178,
     "end_time": "2022-07-05T07:42:23.330558",
     "exception": false,
     "start_time": "2022-07-05T07:42:23.186380",
     "status": "completed"
    },
    "tags": []
   },
   "outputs": [],
   "source": [
    "class Model(nn.Module):\n",
    "    def __init__(self, input_dim, embedding_dim, hidden_dim, output_dim, embedding_layer):\n",
    "        super().__init__()\n",
    "#         self.embedding = nn.Embedding(input_dim, embedding_dim)\n",
    "        self.hidden_dim = hidden_dim\n",
    "        self.embedding = embedding_layer\n",
    "        self.lstm = nn.LSTM(embedding_dim, hidden_dim, bidirectional = True)\n",
    "        self.fc1 = nn.Linear(2*hidden_dim, 128)\n",
    "        self.fc2 = nn.Linear(128, output_dim)\n",
    "        self.dropout = nn.Dropout(0.3)\n",
    "        self.sigmoid = nn.Sigmoid()\n",
    "\n",
    "\n",
    "        \n",
    "    def forward(self, text):\n",
    "        \n",
    "        max_len, N = text.shape\n",
    "        hidden = torch.zeros((2, N , self.hidden_dim),\n",
    "                          dtype=torch.float)\n",
    "        memory = torch.zeros((2, N , self.hidden_dim),\n",
    "                          dtype=torch.float)\n",
    "        hidden = hidden.to(config.DEVICE)\n",
    "        memory = memory.to(config.DEVICE)\n",
    "        embedded = self.embedding(text)\n",
    "        output, hidden = self.lstm(embedded, (hidden, memory))\n",
    "#         assert torch.equal(output[-1,:,:], hidden.squeeze(0))\n",
    "        y_pred = output[-1,:,:]\n",
    "        y_pred = self.fc1(y_pred)\n",
    "        y_pred = self.fc2(y_pred)\n",
    "        y_pred = self.sigmoid(y_pred)\n",
    "                         \n",
    "        return y_pred  "
   ]
  },
  {
   "cell_type": "markdown",
   "id": "e5d83732",
   "metadata": {
    "papermill": {
     "duration": 0.127419,
     "end_time": "2022-07-05T07:42:23.585330",
     "exception": false,
     "start_time": "2022-07-05T07:42:23.457911",
     "status": "completed"
    },
    "tags": []
   },
   "source": [
    " <h2  style=\"text-align: center\" class=\"list-group-item list-group-item-success\"> 6.5 Training and K-fold Cross Validation </h2><a id = \"6.5\" ></a>"
   ]
  },
  {
   "cell_type": "code",
   "execution_count": 79,
   "id": "10494cf7",
   "metadata": {
    "execution": {
     "iopub.execute_input": "2022-07-05T07:42:23.841372Z",
     "iopub.status.busy": "2022-07-05T07:42:23.840840Z",
     "iopub.status.idle": "2022-07-05T07:42:23.848582Z",
     "shell.execute_reply": "2022-07-05T07:42:23.847558Z"
    },
    "papermill": {
     "duration": 0.137545,
     "end_time": "2022-07-05T07:42:23.850347",
     "exception": false,
     "start_time": "2022-07-05T07:42:23.712802",
     "status": "completed"
    },
    "tags": []
   },
   "outputs": [],
   "source": [
    "def train_epochs(dataloader,model, loss_fn, optimizer):\n",
    "    train_correct = 0\n",
    "    train_loss = 0\n",
    "    \n",
    "    model.train()\n",
    "\n",
    "    for review, label in tqdm(dataloader):\n",
    "        \n",
    "        review, label = review.to(config.DEVICE), label.to(config.DEVICE)\n",
    "        optimizer.zero_grad()\n",
    "        output = model(review)\n",
    "        output = output.reshape(-1)\n",
    "        loss = loss_fn(output, label)\n",
    "        loss.backward()\n",
    "        optimizer.step()\n",
    "        \n",
    "        train_loss += loss.item()*review.size(1)\n",
    "        prediction = (output > 0.5).float()\n",
    "        train_correct += (prediction == label).float().sum()\n",
    "        \n",
    "    return train_loss, train_correct\n",
    "\n",
    "        "
   ]
  },
  {
   "cell_type": "code",
   "execution_count": 80,
   "id": "802da895",
   "metadata": {
    "execution": {
     "iopub.execute_input": "2022-07-05T07:42:24.111003Z",
     "iopub.status.busy": "2022-07-05T07:42:24.109158Z",
     "iopub.status.idle": "2022-07-05T07:42:24.117068Z",
     "shell.execute_reply": "2022-07-05T07:42:24.116193Z"
    },
    "papermill": {
     "duration": 0.140668,
     "end_time": "2022-07-05T07:42:24.119024",
     "exception": false,
     "start_time": "2022-07-05T07:42:23.978356",
     "status": "completed"
    },
    "tags": []
   },
   "outputs": [],
   "source": [
    "def val_epochs(dataloader, model, loss_fn):\n",
    "    val_correct = 0\n",
    "    val_loss = 0\n",
    "    \n",
    "    model.eval()\n",
    "#     hidden = model.init_hidden(config.BATCH_SIZE)\n",
    "\n",
    "    for review, label in dataloader:\n",
    "        \n",
    "        review, label = review.to(config.DEVICE), label.to(config.DEVICE)\n",
    "        \n",
    "        output = model(review)\n",
    "        output = output.reshape(-1)\n",
    "\n",
    "        loss = loss_fn(output, label)\n",
    "        \n",
    "        val_loss += loss.item()*review.size(1)\n",
    "        prediction = (output > 0.5).float()\n",
    "        val_correct += (prediction == label).float().sum()\n",
    "#         prediction = \n",
    "    return val_loss, val_correct\n",
    "\n",
    "        "
   ]
  },
  {
   "cell_type": "code",
   "execution_count": 81,
   "id": "0aadb35b",
   "metadata": {
    "execution": {
     "iopub.execute_input": "2022-07-05T07:42:24.377507Z",
     "iopub.status.busy": "2022-07-05T07:42:24.376990Z",
     "iopub.status.idle": "2022-07-05T07:46:12.823268Z",
     "shell.execute_reply": "2022-07-05T07:46:12.820363Z"
    },
    "papermill": {
     "duration": 228.582046,
     "end_time": "2022-07-05T07:46:12.830782",
     "exception": false,
     "start_time": "2022-07-05T07:42:24.248736",
     "status": "completed"
    },
    "scrolled": true,
    "tags": []
   },
   "outputs": [
    {
     "name": "stdout",
     "output_type": "stream",
     "text": [
      "Words found are : 3324\n",
      "Embedding(3324, 100)\n",
      "-----------------------------------------------------------0-fold of the model-----------------------------------------------------------\n"
     ]
    },
    {
     "name": "stderr",
     "output_type": "stream",
     "text": [
      "100%|██████████| 241/241 [00:02<00:00, 99.24it/s] \n"
     ]
    },
    {
     "name": "stdout",
     "output_type": "stream",
     "text": [
      "| Train Loss : 0.6928774151933621 |  Val Loss : 0.692187454400276 | Train Acc : 50.71577453613281 | Val Acc : 50.936527252197266 |\n"
     ]
    },
    {
     "name": "stderr",
     "output_type": "stream",
     "text": [
      "100%|██████████| 241/241 [00:01<00:00, 169.51it/s]\n"
     ]
    },
    {
     "name": "stdout",
     "output_type": "stream",
     "text": [
      "| Train Loss : 0.6905821473073488 |  Val Loss : 0.689892850792991 | Train Acc : 53.25351333618164 | Val Acc : 50.936527252197266 |\n"
     ]
    },
    {
     "name": "stderr",
     "output_type": "stream",
     "text": [
      "100%|██████████| 241/241 [00:01<00:00, 162.60it/s]\n"
     ]
    },
    {
     "name": "stdout",
     "output_type": "stream",
     "text": [
      "| Train Loss : 0.6845681906863466 |  Val Loss : 0.6736681179127013 | Train Acc : 57.782405853271484 | Val Acc : 59.989593505859375 |\n"
     ]
    },
    {
     "name": "stderr",
     "output_type": "stream",
     "text": [
      "100%|██████████| 241/241 [00:01<00:00, 179.35it/s]\n"
     ]
    },
    {
     "name": "stdout",
     "output_type": "stream",
     "text": [
      "| Train Loss : 0.6064517825360971 |  Val Loss : 0.3737130834179292 | Train Acc : 69.13066864013672 | Val Acc : 86.99272155761719 |\n"
     ]
    },
    {
     "name": "stderr",
     "output_type": "stream",
     "text": [
      "100%|██████████| 241/241 [00:01<00:00, 197.18it/s]\n"
     ]
    },
    {
     "name": "stdout",
     "output_type": "stream",
     "text": [
      "| Train Loss : 0.3609248509185504 |  Val Loss : 0.7769217373305132 | Train Acc : 85.64550018310547 | Val Acc : 67.95005798339844 |\n"
     ]
    },
    {
     "name": "stderr",
     "output_type": "stream",
     "text": [
      "100%|██████████| 241/241 [00:01<00:00, 200.26it/s]\n"
     ]
    },
    {
     "name": "stdout",
     "output_type": "stream",
     "text": [
      "| Train Loss : 0.26752336472583155 |  Val Loss : 0.23156237572772695 | Train Acc : 89.61479187011719 | Val Acc : 90.11447143554688 |\n"
     ]
    },
    {
     "name": "stderr",
     "output_type": "stream",
     "text": [
      "100%|██████████| 241/241 [00:01<00:00, 200.94it/s]\n"
     ]
    },
    {
     "name": "stdout",
     "output_type": "stream",
     "text": [
      "| Train Loss : 0.2311108337442804 |  Val Loss : 0.3628602687629961 | Train Acc : 90.99427795410156 | Val Acc : 83.81893920898438 |\n"
     ]
    },
    {
     "name": "stderr",
     "output_type": "stream",
     "text": [
      "100%|██████████| 241/241 [00:01<00:00, 203.77it/s]\n"
     ]
    },
    {
     "name": "stdout",
     "output_type": "stream",
     "text": [
      "| Train Loss : 0.21795190487179142 |  Val Loss : 0.2410528260388806 | Train Acc : 91.72306823730469 | Val Acc : 89.33403015136719 |\n"
     ]
    },
    {
     "name": "stderr",
     "output_type": "stream",
     "text": [
      "100%|██████████| 241/241 [00:01<00:00, 171.45it/s]\n"
     ]
    },
    {
     "name": "stdout",
     "output_type": "stream",
     "text": [
      "| Train Loss : 0.20210067360802034 |  Val Loss : 0.4476194202465768 | Train Acc : 92.10047149658203 | Val Acc : 82.88241577148438 |\n"
     ]
    },
    {
     "name": "stderr",
     "output_type": "stream",
     "text": [
      "100%|██████████| 241/241 [00:01<00:00, 198.16it/s]\n"
     ]
    },
    {
     "name": "stdout",
     "output_type": "stream",
     "text": [
      "| Train Loss : 0.1842611981618845 |  Val Loss : 0.1529169075944995 | Train Acc : 92.77720642089844 | Val Acc : 93.65245056152344 |\n"
     ]
    },
    {
     "name": "stderr",
     "output_type": "stream",
     "text": [
      "100%|██████████| 241/241 [00:01<00:00, 202.84it/s]\n"
     ]
    },
    {
     "name": "stdout",
     "output_type": "stream",
     "text": [
      "| Train Loss : 0.18082853870147345 |  Val Loss : 0.3344245856573551 | Train Acc : 92.75117492675781 | Val Acc : 86.6285171508789 |\n"
     ]
    },
    {
     "name": "stderr",
     "output_type": "stream",
     "text": [
      "100%|██████████| 241/241 [00:01<00:00, 203.41it/s]\n"
     ]
    },
    {
     "name": "stdout",
     "output_type": "stream",
     "text": [
      "| Train Loss : 0.1720594285780303 |  Val Loss : 0.1354306387898205 | Train Acc : 93.24571228027344 | Val Acc : 94.69303131103516 |\n"
     ]
    },
    {
     "name": "stderr",
     "output_type": "stream",
     "text": [
      "100%|██████████| 241/241 [00:01<00:00, 201.71it/s]\n"
     ]
    },
    {
     "name": "stdout",
     "output_type": "stream",
     "text": [
      "| Train Loss : 0.17269392977897727 |  Val Loss : 0.13336564174152593 | Train Acc : 93.1676254272461 | Val Acc : 95.57752990722656 |\n"
     ]
    },
    {
     "name": "stderr",
     "output_type": "stream",
     "text": [
      "100%|██████████| 241/241 [00:01<00:00, 203.20it/s]\n"
     ]
    },
    {
     "name": "stdout",
     "output_type": "stream",
     "text": [
      "| Train Loss : 0.17327085108278567 |  Val Loss : 0.15911168318811675 | Train Acc : 93.14159393310547 | Val Acc : 94.90115356445312 |\n"
     ]
    },
    {
     "name": "stderr",
     "output_type": "stream",
     "text": [
      "100%|██████████| 241/241 [00:01<00:00, 201.47it/s]\n"
     ]
    },
    {
     "name": "stdout",
     "output_type": "stream",
     "text": [
      "| Train Loss : 0.16610657677497037 |  Val Loss : 0.13092905847388672 | Train Acc : 93.38886260986328 | Val Acc : 94.84912109375 |\n"
     ]
    },
    {
     "name": "stderr",
     "output_type": "stream",
     "text": [
      "100%|██████████| 241/241 [00:01<00:00, 183.37it/s]\n"
     ]
    },
    {
     "name": "stdout",
     "output_type": "stream",
     "text": [
      "| Train Loss : 0.16656832221870246 |  Val Loss : 0.13064091124656174 | Train Acc : 93.46694946289062 | Val Acc : 95.47346496582031 |\n"
     ]
    },
    {
     "name": "stderr",
     "output_type": "stream",
     "text": [
      "100%|██████████| 241/241 [00:01<00:00, 189.40it/s]\n"
     ]
    },
    {
     "name": "stdout",
     "output_type": "stream",
     "text": [
      "| Train Loss : 0.17286688712110887 |  Val Loss : 0.1226678223472232 | Train Acc : 93.11557006835938 | Val Acc : 95.57752990722656 |\n"
     ]
    },
    {
     "name": "stderr",
     "output_type": "stream",
     "text": [
      "100%|██████████| 241/241 [00:01<00:00, 200.94it/s]\n"
     ]
    },
    {
     "name": "stdout",
     "output_type": "stream",
     "text": [
      "| Train Loss : 0.15901923026620007 |  Val Loss : 0.1282284184127395 | Train Acc : 93.75325775146484 | Val Acc : 95.62955474853516 |\n"
     ]
    },
    {
     "name": "stderr",
     "output_type": "stream",
     "text": [
      "100%|██████████| 241/241 [00:01<00:00, 202.41it/s]\n"
     ]
    },
    {
     "name": "stdout",
     "output_type": "stream",
     "text": [
      "| Train Loss : 0.1596267083131324 |  Val Loss : 0.1339373939847971 | Train Acc : 93.909423828125 | Val Acc : 94.48491668701172 |\n"
     ]
    },
    {
     "name": "stderr",
     "output_type": "stream",
     "text": [
      "100%|██████████| 241/241 [00:01<00:00, 202.84it/s]\n"
     ]
    },
    {
     "name": "stdout",
     "output_type": "stream",
     "text": [
      "| Train Loss : 0.156268463446286 |  Val Loss : 0.17566116479817587 | Train Acc : 93.89641571044922 | Val Acc : 92.92404174804688 |\n"
     ]
    },
    {
     "name": "stderr",
     "output_type": "stream",
     "text": [
      "100%|██████████| 241/241 [00:01<00:00, 201.31it/s]\n"
     ]
    },
    {
     "name": "stdout",
     "output_type": "stream",
     "text": [
      "| Train Loss : 0.15704099479859102 |  Val Loss : 0.14200324149614318 | Train Acc : 93.96148681640625 | Val Acc : 94.17273712158203 |\n"
     ]
    },
    {
     "name": "stderr",
     "output_type": "stream",
     "text": [
      "100%|██████████| 241/241 [00:01<00:00, 202.34it/s]\n"
     ]
    },
    {
     "name": "stdout",
     "output_type": "stream",
     "text": [
      "| Train Loss : 0.1518112028493725 |  Val Loss : 0.2093111158045286 | Train Acc : 94.02655029296875 | Val Acc : 91.88345336914062 |\n"
     ]
    },
    {
     "name": "stderr",
     "output_type": "stream",
     "text": [
      "100%|██████████| 241/241 [00:01<00:00, 178.07it/s]\n"
     ]
    },
    {
     "name": "stdout",
     "output_type": "stream",
     "text": [
      "| Train Loss : 0.15293582286811755 |  Val Loss : 0.12610655509005228 | Train Acc : 94.00052642822266 | Val Acc : 95.42144012451172 |\n"
     ]
    },
    {
     "name": "stderr",
     "output_type": "stream",
     "text": [
      "100%|██████████| 241/241 [00:01<00:00, 151.37it/s]\n"
     ]
    },
    {
     "name": "stdout",
     "output_type": "stream",
     "text": [
      "| Train Loss : 0.14996231379513936 |  Val Loss : 0.6196947357036817 | Train Acc : 94.1176528930664 | Val Acc : 76.79501342773438 |\n"
     ]
    },
    {
     "name": "stderr",
     "output_type": "stream",
     "text": [
      "100%|██████████| 241/241 [00:01<00:00, 153.03it/s]\n"
     ]
    },
    {
     "name": "stdout",
     "output_type": "stream",
     "text": [
      "| Train Loss : 0.15086473277122758 |  Val Loss : 0.8769430526080139 | Train Acc : 94.1176528930664 | Val Acc : 64.62019348144531 |\n"
     ]
    },
    {
     "name": "stderr",
     "output_type": "stream",
     "text": [
      "100%|██████████| 241/241 [00:01<00:00, 204.11it/s]\n"
     ]
    },
    {
     "name": "stdout",
     "output_type": "stream",
     "text": [
      "| Train Loss : 0.15187244417067308 |  Val Loss : 0.27718089355793507 | Train Acc : 94.05258178710938 | Val Acc : 85.48387145996094 |\n"
     ]
    },
    {
     "name": "stderr",
     "output_type": "stream",
     "text": [
      "100%|██████████| 241/241 [00:01<00:00, 203.03it/s]\n"
     ]
    },
    {
     "name": "stdout",
     "output_type": "stream",
     "text": [
      "| Train Loss : 0.14839950949729327 |  Val Loss : 0.12642115138230786 | Train Acc : 94.37793731689453 | Val Acc : 94.95317840576172 |\n"
     ]
    },
    {
     "name": "stderr",
     "output_type": "stream",
     "text": [
      "100%|██████████| 241/241 [00:01<00:00, 203.34it/s]\n"
     ]
    },
    {
     "name": "stdout",
     "output_type": "stream",
     "text": [
      "| Train Loss : 0.1416607821328233 |  Val Loss : 0.11733193197854554 | Train Acc : 94.42998504638672 | Val Acc : 95.88970184326172 |\n"
     ]
    },
    {
     "name": "stderr",
     "output_type": "stream",
     "text": [
      "100%|██████████| 241/241 [00:01<00:00, 200.52it/s]\n"
     ]
    },
    {
     "name": "stdout",
     "output_type": "stream",
     "text": [
      "| Train Loss : 0.14215473417786106 |  Val Loss : 0.1250872516715812 | Train Acc : 94.40396118164062 | Val Acc : 95.68158721923828 |\n"
     ]
    },
    {
     "name": "stderr",
     "output_type": "stream",
     "text": [
      "100%|██████████| 241/241 [00:01<00:00, 198.22it/s]\n"
     ]
    },
    {
     "name": "stdout",
     "output_type": "stream",
     "text": [
      "| Train Loss : 0.14098115097818617 |  Val Loss : 0.6947652055619287 | Train Acc : 94.28683471679688 | Val Acc : 69.56295776367188 |\n",
      "Words found are : 3324\n",
      "Embedding(3324, 100)\n",
      "-----------------------------------------------------------1-fold of the model-----------------------------------------------------------\n"
     ]
    },
    {
     "name": "stderr",
     "output_type": "stream",
     "text": [
      "100%|██████████| 241/241 [00:01<00:00, 175.54it/s]\n"
     ]
    },
    {
     "name": "stdout",
     "output_type": "stream",
     "text": [
      "| Train Loss : 0.69255600678277 |  Val Loss : 0.6911887425981668 | Train Acc : 51.12556838989258 | Val Acc : 50.33837127685547 |\n"
     ]
    },
    {
     "name": "stderr",
     "output_type": "stream",
     "text": [
      "100%|██████████| 241/241 [00:01<00:00, 200.44it/s]\n"
     ]
    },
    {
     "name": "stdout",
     "output_type": "stream",
     "text": [
      "| Train Loss : 0.6877869555604248 |  Val Loss : 0.6834177217217922 | Train Acc : 55.783992767333984 | Val Acc : 55.700157165527344 |\n"
     ]
    },
    {
     "name": "stderr",
     "output_type": "stream",
     "text": [
      "100%|██████████| 241/241 [00:01<00:00, 197.43it/s]\n"
     ]
    },
    {
     "name": "stdout",
     "output_type": "stream",
     "text": [
      "| Train Loss : 0.6459723030194572 |  Val Loss : 1.3938509215295842 | Train Acc : 64.80155944824219 | Val Acc : 50.33837127685547 |\n"
     ]
    },
    {
     "name": "stderr",
     "output_type": "stream",
     "text": [
      "100%|██████████| 241/241 [00:01<00:00, 198.76it/s]\n"
     ]
    },
    {
     "name": "stdout",
     "output_type": "stream",
     "text": [
      "| Train Loss : 0.43420372530769513 |  Val Loss : 0.21644951907150886 | Train Acc : 81.45738220214844 | Val Acc : 92.50390625 |\n"
     ]
    },
    {
     "name": "stderr",
     "output_type": "stream",
     "text": [
      "100%|██████████| 241/241 [00:01<00:00, 197.85it/s]\n"
     ]
    },
    {
     "name": "stdout",
     "output_type": "stream",
     "text": [
      "| Train Loss : 0.2709583228527918 |  Val Loss : 0.29508940140944107 | Train Acc : 89.38191223144531 | Val Acc : 88.02706909179688 |\n"
     ]
    },
    {
     "name": "stderr",
     "output_type": "stream",
     "text": [
      "100%|██████████| 241/241 [00:01<00:00, 204.10it/s]\n"
     ]
    },
    {
     "name": "stdout",
     "output_type": "stream",
     "text": [
      "| Train Loss : 0.23149686461543603 |  Val Loss : 0.18152157339048783 | Train Acc : 91.20364379882812 | Val Acc : 93.44091796875 |\n"
     ]
    },
    {
     "name": "stderr",
     "output_type": "stream",
     "text": [
      "100%|██████████| 241/241 [00:01<00:00, 189.46it/s]\n"
     ]
    },
    {
     "name": "stdout",
     "output_type": "stream",
     "text": [
      "| Train Loss : 0.21772722241504477 |  Val Loss : 0.18568240794731825 | Train Acc : 91.77618408203125 | Val Acc : 92.66007232666016 |\n"
     ]
    },
    {
     "name": "stderr",
     "output_type": "stream",
     "text": [
      "100%|██████████| 241/241 [00:01<00:00, 202.73it/s]\n"
     ]
    },
    {
     "name": "stdout",
     "output_type": "stream",
     "text": [
      "| Train Loss : 0.18600703403693014 |  Val Loss : 0.18960255547729649 | Train Acc : 92.64801788330078 | Val Acc : 92.7121353149414 |\n"
     ]
    },
    {
     "name": "stderr",
     "output_type": "stream",
     "text": [
      "100%|██████████| 241/241 [00:01<00:00, 175.51it/s]\n"
     ]
    },
    {
     "name": "stdout",
     "output_type": "stream",
     "text": [
      "| Train Loss : 0.18147071169067608 |  Val Loss : 0.21771171394546984 | Train Acc : 92.97332763671875 | Val Acc : 91.56689453125 |\n"
     ]
    },
    {
     "name": "stderr",
     "output_type": "stream",
     "text": [
      "100%|██████████| 241/241 [00:01<00:00, 202.96it/s]\n"
     ]
    },
    {
     "name": "stdout",
     "output_type": "stream",
     "text": [
      "| Train Loss : 0.17411720760932548 |  Val Loss : 0.1883492843247465 | Train Acc : 93.24658203125 | Val Acc : 92.60802459716797 |\n"
     ]
    },
    {
     "name": "stderr",
     "output_type": "stream",
     "text": [
      "100%|██████████| 241/241 [00:01<00:00, 201.42it/s]\n"
     ]
    },
    {
     "name": "stdout",
     "output_type": "stream",
     "text": [
      "| Train Loss : 0.16946864533653178 |  Val Loss : 0.20500092488073127 | Train Acc : 93.53285217285156 | Val Acc : 92.76419067382812 |\n"
     ]
    },
    {
     "name": "stderr",
     "output_type": "stream",
     "text": [
      "100%|██████████| 241/241 [00:01<00:00, 201.16it/s]\n"
     ]
    },
    {
     "name": "stdout",
     "output_type": "stream",
     "text": [
      "| Train Loss : 0.1711416483366536 |  Val Loss : 0.171058968251318 | Train Acc : 93.4677963256836 | Val Acc : 93.33680725097656 |\n"
     ]
    },
    {
     "name": "stderr",
     "output_type": "stream",
     "text": [
      "100%|██████████| 241/241 [00:01<00:00, 201.42it/s]\n"
     ]
    },
    {
     "name": "stdout",
     "output_type": "stream",
     "text": [
      "| Train Loss : 0.15617816371088222 |  Val Loss : 0.18866755904601706 | Train Acc : 94.1834716796875 | Val Acc : 92.92035675048828 |\n"
     ]
    },
    {
     "name": "stderr",
     "output_type": "stream",
     "text": [
      "100%|██████████| 241/241 [00:01<00:00, 196.30it/s]\n"
     ]
    },
    {
     "name": "stdout",
     "output_type": "stream",
     "text": [
      "| Train Loss : 0.1540565728760708 |  Val Loss : 0.17845175120294024 | Train Acc : 94.02732849121094 | Val Acc : 92.7121353149414 |\n"
     ]
    },
    {
     "name": "stderr",
     "output_type": "stream",
     "text": [
      "100%|██████████| 241/241 [00:01<00:00, 197.08it/s]\n"
     ]
    },
    {
     "name": "stdout",
     "output_type": "stream",
     "text": [
      "| Train Loss : 0.1528286922769106 |  Val Loss : 0.3833484175745427 | Train Acc : 94.19648742675781 | Val Acc : 82.04061126708984 |\n"
     ]
    },
    {
     "name": "stderr",
     "output_type": "stream",
     "text": [
      "100%|██████████| 241/241 [00:01<00:00, 199.08it/s]\n"
     ]
    },
    {
     "name": "stdout",
     "output_type": "stream",
     "text": [
      "| Train Loss : 0.1496267093821788 |  Val Loss : 0.16638621352454197 | Train Acc : 94.14443969726562 | Val Acc : 93.49298095703125 |\n"
     ]
    },
    {
     "name": "stderr",
     "output_type": "stream",
     "text": [
      "100%|██████████| 241/241 [00:01<00:00, 143.71it/s]\n"
     ]
    },
    {
     "name": "stdout",
     "output_type": "stream",
     "text": [
      "| Train Loss : 0.14497632887456796 |  Val Loss : 0.16960776874349287 | Train Acc : 94.17046356201172 | Val Acc : 93.12857818603516 |\n"
     ]
    },
    {
     "name": "stderr",
     "output_type": "stream",
     "text": [
      "100%|██████████| 241/241 [00:01<00:00, 195.91it/s]\n"
     ]
    },
    {
     "name": "stdout",
     "output_type": "stream",
     "text": [
      "| Train Loss : 0.1445514474294367 |  Val Loss : 0.23932497046659043 | Train Acc : 94.26155090332031 | Val Acc : 91.25455474853516 |\n"
     ]
    },
    {
     "name": "stderr",
     "output_type": "stream",
     "text": [
      "100%|██████████| 241/241 [00:01<00:00, 194.56it/s]\n"
     ]
    },
    {
     "name": "stdout",
     "output_type": "stream",
     "text": [
      "| Train Loss : 0.14637238689750995 |  Val Loss : 0.1797679444709051 | Train Acc : 94.17046356201172 | Val Acc : 92.972412109375 |\n"
     ]
    },
    {
     "name": "stderr",
     "output_type": "stream",
     "text": [
      "100%|██████████| 241/241 [00:01<00:00, 197.31it/s]\n"
     ]
    },
    {
     "name": "stdout",
     "output_type": "stream",
     "text": [
      "| Train Loss : 0.14217924749843472 |  Val Loss : 0.5679637327099889 | Train Acc : 94.44371795654297 | Val Acc : 82.61322021484375 |\n"
     ]
    },
    {
     "name": "stderr",
     "output_type": "stream",
     "text": [
      "100%|██████████| 241/241 [00:01<00:00, 190.52it/s]\n"
     ]
    },
    {
     "name": "stdout",
     "output_type": "stream",
     "text": [
      "| Train Loss : 0.13955780207655147 |  Val Loss : 0.17215942739781026 | Train Acc : 94.65191650390625 | Val Acc : 93.38886260986328 |\n"
     ]
    },
    {
     "name": "stderr",
     "output_type": "stream",
     "text": [
      "100%|██████████| 241/241 [00:01<00:00, 200.47it/s]\n"
     ]
    },
    {
     "name": "stdout",
     "output_type": "stream",
     "text": [
      "| Train Loss : 0.13983090332986164 |  Val Loss : 0.7723341903405411 | Train Acc : 94.44371795654297 | Val Acc : 78.44873046875 |\n"
     ]
    },
    {
     "name": "stderr",
     "output_type": "stream",
     "text": [
      "100%|██████████| 241/241 [00:01<00:00, 198.85it/s]\n"
     ]
    },
    {
     "name": "stdout",
     "output_type": "stream",
     "text": [
      "| Train Loss : 0.1418025764096807 |  Val Loss : 0.2590574311147764 | Train Acc : 94.54782104492188 | Val Acc : 91.15044403076172 |\n"
     ]
    },
    {
     "name": "stderr",
     "output_type": "stream",
     "text": [
      "100%|██████████| 241/241 [00:01<00:00, 170.71it/s]\n"
     ]
    },
    {
     "name": "stdout",
     "output_type": "stream",
     "text": [
      "| Train Loss : 0.1362859465748983 |  Val Loss : 0.15925908171732264 | Train Acc : 94.78204345703125 | Val Acc : 94.1176528930664 |\n"
     ]
    },
    {
     "name": "stderr",
     "output_type": "stream",
     "text": [
      "100%|██████████| 241/241 [00:01<00:00, 199.40it/s]\n"
     ]
    },
    {
     "name": "stdout",
     "output_type": "stream",
     "text": [
      "| Train Loss : 0.13549320845408444 |  Val Loss : 0.18226343024747987 | Train Acc : 94.52179718017578 | Val Acc : 93.85736846923828 |\n"
     ]
    },
    {
     "name": "stderr",
     "output_type": "stream",
     "text": [
      "100%|██████████| 241/241 [00:01<00:00, 203.97it/s]\n"
     ]
    },
    {
     "name": "stdout",
     "output_type": "stream",
     "text": [
      "| Train Loss : 0.1346769237409727 |  Val Loss : 0.24728916033972512 | Train Acc : 94.84710693359375 | Val Acc : 91.41072845458984 |\n"
     ]
    },
    {
     "name": "stderr",
     "output_type": "stream",
     "text": [
      "100%|██████████| 241/241 [00:01<00:00, 195.08it/s]\n"
     ]
    },
    {
     "name": "stdout",
     "output_type": "stream",
     "text": [
      "| Train Loss : 0.13279223295683665 |  Val Loss : 0.20034416269618613 | Train Acc : 94.92517852783203 | Val Acc : 92.66007232666016 |\n"
     ]
    },
    {
     "name": "stderr",
     "output_type": "stream",
     "text": [
      "100%|██████████| 241/241 [00:01<00:00, 200.21it/s]\n"
     ]
    },
    {
     "name": "stdout",
     "output_type": "stream",
     "text": [
      "| Train Loss : 0.1328166835344528 |  Val Loss : 0.1574497598619479 | Train Acc : 94.79505157470703 | Val Acc : 94.16970825195312 |\n"
     ]
    },
    {
     "name": "stderr",
     "output_type": "stream",
     "text": [
      "100%|██████████| 241/241 [00:01<00:00, 200.55it/s]\n"
     ]
    },
    {
     "name": "stdout",
     "output_type": "stream",
     "text": [
      "| Train Loss : 0.13156275108757157 |  Val Loss : 0.16249434372050447 | Train Acc : 95.08132934570312 | Val Acc : 94.16970825195312 |\n"
     ]
    },
    {
     "name": "stderr",
     "output_type": "stream",
     "text": [
      "100%|██████████| 241/241 [00:01<00:00, 201.91it/s]\n"
     ]
    },
    {
     "name": "stdout",
     "output_type": "stream",
     "text": [
      "| Train Loss : 0.12975497997948196 |  Val Loss : 0.17479133963796278 | Train Acc : 94.89915466308594 | Val Acc : 93.28475189208984 |\n",
      "Words found are : 3324\n",
      "Embedding(3324, 100)\n",
      "-----------------------------------------------------------2-fold of the model-----------------------------------------------------------\n"
     ]
    },
    {
     "name": "stderr",
     "output_type": "stream",
     "text": [
      "100%|██████████| 241/241 [00:01<00:00, 196.01it/s]\n"
     ]
    },
    {
     "name": "stdout",
     "output_type": "stream",
     "text": [
      "| Train Loss : 0.6925441920563394 |  Val Loss : 0.6905655484221864 | Train Acc : 51.672088623046875 | Val Acc : 51.37948989868164 |\n"
     ]
    },
    {
     "name": "stderr",
     "output_type": "stream",
     "text": [
      "100%|██████████| 241/241 [00:01<00:00, 195.13it/s]\n"
     ]
    },
    {
     "name": "stdout",
     "output_type": "stream",
     "text": [
      "| Train Loss : 0.6883417934664054 |  Val Loss : 0.6848679325159859 | Train Acc : 54.756019592285156 | Val Acc : 55.80427169799805 |\n"
     ]
    },
    {
     "name": "stderr",
     "output_type": "stream",
     "text": [
      "100%|██████████| 241/241 [00:01<00:00, 203.37it/s]\n"
     ]
    },
    {
     "name": "stdout",
     "output_type": "stream",
     "text": [
      "| Train Loss : 0.6675349393678937 |  Val Loss : 0.6476812778600239 | Train Acc : 63.383216857910156 | Val Acc : 53.61791229248047 |\n"
     ]
    },
    {
     "name": "stderr",
     "output_type": "stream",
     "text": [
      "100%|██████████| 241/241 [00:01<00:00, 204.46it/s]\n"
     ]
    },
    {
     "name": "stdout",
     "output_type": "stream",
     "text": [
      "| Train Loss : 0.5353726515462822 |  Val Loss : 1.7948623404424602 | Train Acc : 75.73194885253906 | Val Acc : 52.26444625854492 |\n"
     ]
    },
    {
     "name": "stderr",
     "output_type": "stream",
     "text": [
      "100%|██████████| 241/241 [00:01<00:00, 204.02it/s]\n"
     ]
    },
    {
     "name": "stdout",
     "output_type": "stream",
     "text": [
      "| Train Loss : 0.3167080700998579 |  Val Loss : 0.3103351975431911 | Train Acc : 87.36499786376953 | Val Acc : 88.02706909179688 |\n"
     ]
    },
    {
     "name": "stderr",
     "output_type": "stream",
     "text": [
      "100%|██████████| 241/241 [00:01<00:00, 200.71it/s]\n"
     ]
    },
    {
     "name": "stdout",
     "output_type": "stream",
     "text": [
      "| Train Loss : 0.2561050959551924 |  Val Loss : 0.2998898072456209 | Train Acc : 89.95446014404297 | Val Acc : 86.36127471923828 |\n"
     ]
    },
    {
     "name": "stderr",
     "output_type": "stream",
     "text": [
      "100%|██████████| 241/241 [00:01<00:00, 200.08it/s]\n"
     ]
    },
    {
     "name": "stdout",
     "output_type": "stream",
     "text": [
      "| Train Loss : 0.20732461107233097 |  Val Loss : 0.1612141171217213 | Train Acc : 92.5309066772461 | Val Acc : 94.06559753417969 |\n"
     ]
    },
    {
     "name": "stderr",
     "output_type": "stream",
     "text": [
      "100%|██████████| 241/241 [00:01<00:00, 204.14it/s]\n"
     ]
    },
    {
     "name": "stdout",
     "output_type": "stream",
     "text": [
      "| Train Loss : 0.19694319050577297 |  Val Loss : 0.27294867641289117 | Train Acc : 92.4007797241211 | Val Acc : 89.48464965820312 |\n"
     ]
    },
    {
     "name": "stderr",
     "output_type": "stream",
     "text": [
      "100%|██████████| 241/241 [00:01<00:00, 137.65it/s]\n"
     ]
    },
    {
     "name": "stdout",
     "output_type": "stream",
     "text": [
      "| Train Loss : 0.18828511658011315 |  Val Loss : 0.16415098821477678 | Train Acc : 92.27066040039062 | Val Acc : 93.54502868652344 |\n"
     ]
    },
    {
     "name": "stderr",
     "output_type": "stream",
     "text": [
      "100%|██████████| 241/241 [00:01<00:00, 192.82it/s]\n"
     ]
    },
    {
     "name": "stdout",
     "output_type": "stream",
     "text": [
      "| Train Loss : 0.17957358771090431 |  Val Loss : 0.1703736168535534 | Train Acc : 92.85621643066406 | Val Acc : 92.92035675048828 |\n"
     ]
    },
    {
     "name": "stderr",
     "output_type": "stream",
     "text": [
      "100%|██████████| 241/241 [00:01<00:00, 198.53it/s]\n"
     ]
    },
    {
     "name": "stdout",
     "output_type": "stream",
     "text": [
      "| Train Loss : 0.18203490061967809 |  Val Loss : 0.3108920124531537 | Train Acc : 92.68704986572266 | Val Acc : 85.63248443603516 |\n"
     ]
    },
    {
     "name": "stderr",
     "output_type": "stream",
     "text": [
      "100%|██████████| 241/241 [00:01<00:00, 201.48it/s]\n"
     ]
    },
    {
     "name": "stdout",
     "output_type": "stream",
     "text": [
      "| Train Loss : 0.1683607119085266 |  Val Loss : 0.31413476711637467 | Train Acc : 93.3376693725586 | Val Acc : 86.51744079589844 |\n"
     ]
    },
    {
     "name": "stderr",
     "output_type": "stream",
     "text": [
      "100%|██████████| 241/241 [00:01<00:00, 201.62it/s]\n"
     ]
    },
    {
     "name": "stdout",
     "output_type": "stream",
     "text": [
      "| Train Loss : 0.16861782096176078 |  Val Loss : 0.27031274499126334 | Train Acc : 93.61093139648438 | Val Acc : 89.0161361694336 |\n"
     ]
    },
    {
     "name": "stderr",
     "output_type": "stream",
     "text": [
      "100%|██████████| 241/241 [00:01<00:00, 200.45it/s]\n"
     ]
    },
    {
     "name": "stdout",
     "output_type": "stream",
     "text": [
      "| Train Loss : 0.16674473419077768 |  Val Loss : 0.7008336799210524 | Train Acc : 93.3506851196289 | Val Acc : 71.26496887207031 |\n"
     ]
    },
    {
     "name": "stderr",
     "output_type": "stream",
     "text": [
      "100%|██████████| 241/241 [00:01<00:00, 201.45it/s]\n"
     ]
    },
    {
     "name": "stdout",
     "output_type": "stream",
     "text": [
      "| Train Loss : 0.16534175222076683 |  Val Loss : 0.635314308685764 | Train Acc : 93.62393951416016 | Val Acc : 70.17179107666016 |\n"
     ]
    },
    {
     "name": "stderr",
     "output_type": "stream",
     "text": [
      "100%|██████████| 241/241 [00:01<00:00, 202.35it/s]\n"
     ]
    },
    {
     "name": "stdout",
     "output_type": "stream",
     "text": [
      "| Train Loss : 0.1673658441604347 |  Val Loss : 0.16015057215265413 | Train Acc : 93.53285217285156 | Val Acc : 94.42998504638672 |\n"
     ]
    },
    {
     "name": "stderr",
     "output_type": "stream",
     "text": [
      "100%|██████████| 241/241 [00:01<00:00, 188.02it/s]\n"
     ]
    },
    {
     "name": "stdout",
     "output_type": "stream",
     "text": [
      "| Train Loss : 0.15205948336574654 |  Val Loss : 0.26415998122050294 | Train Acc : 94.04033660888672 | Val Acc : 90.8381118774414 |\n"
     ]
    },
    {
     "name": "stderr",
     "output_type": "stream",
     "text": [
      "100%|██████████| 241/241 [00:01<00:00, 186.78it/s]\n"
     ]
    },
    {
     "name": "stdout",
     "output_type": "stream",
     "text": [
      "| Train Loss : 0.15086055475062338 |  Val Loss : 0.28663910566143136 | Train Acc : 94.3396224975586 | Val Acc : 89.58876037597656 |\n"
     ]
    },
    {
     "name": "stderr",
     "output_type": "stream",
     "text": [
      "100%|██████████| 241/241 [00:01<00:00, 203.99it/s]\n"
     ]
    },
    {
     "name": "stdout",
     "output_type": "stream",
     "text": [
      "| Train Loss : 0.14918277085060103 |  Val Loss : 0.3717034528888122 | Train Acc : 94.26155090332031 | Val Acc : 84.27902221679688 |\n"
     ]
    },
    {
     "name": "stderr",
     "output_type": "stream",
     "text": [
      "100%|██████████| 241/241 [00:01<00:00, 202.74it/s]\n"
     ]
    },
    {
     "name": "stdout",
     "output_type": "stream",
     "text": [
      "| Train Loss : 0.1520336349037274 |  Val Loss : 0.14932740169428463 | Train Acc : 94.3526382446289 | Val Acc : 94.42998504638672 |\n"
     ]
    },
    {
     "name": "stderr",
     "output_type": "stream",
     "text": [
      "100%|██████████| 241/241 [00:01<00:00, 200.44it/s]\n"
     ]
    },
    {
     "name": "stdout",
     "output_type": "stream",
     "text": [
      "| Train Loss : 0.14992015796508118 |  Val Loss : 0.4395679831818131 | Train Acc : 94.00130462646484 | Val Acc : 77.82405853271484 |\n"
     ]
    },
    {
     "name": "stderr",
     "output_type": "stream",
     "text": [
      "100%|██████████| 241/241 [00:01<00:00, 203.44it/s]\n"
     ]
    },
    {
     "name": "stdout",
     "output_type": "stream",
     "text": [
      "| Train Loss : 0.14627656208123424 |  Val Loss : 0.18138694769292216 | Train Acc : 94.26155090332031 | Val Acc : 93.02446746826172 |\n"
     ]
    },
    {
     "name": "stderr",
     "output_type": "stream",
     "text": [
      "100%|██████████| 241/241 [00:01<00:00, 201.75it/s]\n"
     ]
    },
    {
     "name": "stdout",
     "output_type": "stream",
     "text": [
      "| Train Loss : 0.14520594753475258 |  Val Loss : 0.160166337356972 | Train Acc : 94.56082916259766 | Val Acc : 93.12857818603516 |\n"
     ]
    },
    {
     "name": "stderr",
     "output_type": "stream",
     "text": [
      "100%|██████████| 241/241 [00:01<00:00, 130.66it/s]\n"
     ]
    },
    {
     "name": "stdout",
     "output_type": "stream",
     "text": [
      "| Train Loss : 0.15249990674175648 |  Val Loss : 0.15687163085583403 | Train Acc : 94.06636047363281 | Val Acc : 94.27381896972656 |\n"
     ]
    },
    {
     "name": "stderr",
     "output_type": "stream",
     "text": [
      "100%|██████████| 241/241 [00:01<00:00, 197.74it/s]\n"
     ]
    },
    {
     "name": "stdout",
     "output_type": "stream",
     "text": [
      "| Train Loss : 0.14384478598023553 |  Val Loss : 0.1638632207843589 | Train Acc : 94.43070983886719 | Val Acc : 94.37793731689453 |\n"
     ]
    },
    {
     "name": "stderr",
     "output_type": "stream",
     "text": [
      "100%|██████████| 241/241 [00:01<00:00, 199.53it/s]\n"
     ]
    },
    {
     "name": "stdout",
     "output_type": "stream",
     "text": [
      "| Train Loss : 0.14053078554788812 |  Val Loss : 0.2246887896254558 | Train Acc : 94.45673370361328 | Val Acc : 89.27642059326172 |\n"
     ]
    },
    {
     "name": "stderr",
     "output_type": "stream",
     "text": [
      "100%|██████████| 241/241 [00:01<00:00, 194.38it/s]\n"
     ]
    },
    {
     "name": "stdout",
     "output_type": "stream",
     "text": [
      "| Train Loss : 0.1413970521598492 |  Val Loss : 0.14708350236561074 | Train Acc : 94.52179718017578 | Val Acc : 94.63821411132812 |\n"
     ]
    },
    {
     "name": "stderr",
     "output_type": "stream",
     "text": [
      "100%|██████████| 241/241 [00:01<00:00, 199.35it/s]\n"
     ]
    },
    {
     "name": "stdout",
     "output_type": "stream",
     "text": [
      "| Train Loss : 0.13628523092918102 |  Val Loss : 0.15629134709253045 | Train Acc : 94.82108306884766 | Val Acc : 93.96148681640625 |\n"
     ]
    },
    {
     "name": "stderr",
     "output_type": "stream",
     "text": [
      "100%|██████████| 241/241 [00:01<00:00, 198.57it/s]\n"
     ]
    },
    {
     "name": "stdout",
     "output_type": "stream",
     "text": [
      "| Train Loss : 0.13919267216206527 |  Val Loss : 0.16648217220005895 | Train Acc : 94.4827651977539 | Val Acc : 93.38886260986328 |\n"
     ]
    },
    {
     "name": "stderr",
     "output_type": "stream",
     "text": [
      "100%|██████████| 241/241 [00:01<00:00, 201.00it/s]\n"
     ]
    },
    {
     "name": "stdout",
     "output_type": "stream",
     "text": [
      "| Train Loss : 0.13528066979201295 |  Val Loss : 0.15014014852965055 | Train Acc : 94.82108306884766 | Val Acc : 94.69026947021484 |\n",
      "Words found are : 3324\n",
      "Embedding(3324, 100)\n",
      "-----------------------------------------------------------3-fold of the model-----------------------------------------------------------\n"
     ]
    },
    {
     "name": "stderr",
     "output_type": "stream",
     "text": [
      "100%|██████████| 241/241 [00:01<00:00, 187.46it/s]\n"
     ]
    },
    {
     "name": "stdout",
     "output_type": "stream",
     "text": [
      "| Train Loss : 0.6930032174076907 |  Val Loss : 0.6909313186390335 | Train Acc : 50.943397521972656 | Val Acc : 53.722023010253906 |\n"
     ]
    },
    {
     "name": "stderr",
     "output_type": "stream",
     "text": [
      "100%|██████████| 241/241 [00:01<00:00, 155.95it/s]\n"
     ]
    },
    {
     "name": "stdout",
     "output_type": "stream",
     "text": [
      "| Train Loss : 0.6901458527100265 |  Val Loss : 0.6867996888009289 | Train Acc : 54.32661056518555 | Val Acc : 57.782405853271484 |\n"
     ]
    },
    {
     "name": "stderr",
     "output_type": "stream",
     "text": [
      "100%|██████████| 241/241 [00:01<00:00, 201.26it/s]\n"
     ]
    },
    {
     "name": "stdout",
     "output_type": "stream",
     "text": [
      "| Train Loss : 0.6808087275876732 |  Val Loss : 0.6635152252002162 | Train Acc : 60.065059661865234 | Val Acc : 60.59344482421875 |\n"
     ]
    },
    {
     "name": "stderr",
     "output_type": "stream",
     "text": [
      "100%|██████████| 241/241 [00:01<00:00, 199.67it/s]\n"
     ]
    },
    {
     "name": "stdout",
     "output_type": "stream",
     "text": [
      "| Train Loss : 0.5399618363934984 |  Val Loss : 0.2734528063277228 | Train Acc : 74.69095611572266 | Val Acc : 90.47371673583984 |\n"
     ]
    },
    {
     "name": "stderr",
     "output_type": "stream",
     "text": [
      "100%|██████████| 241/241 [00:01<00:00, 201.32it/s]\n"
     ]
    },
    {
     "name": "stdout",
     "output_type": "stream",
     "text": [
      "| Train Loss : 0.31837519907144735 |  Val Loss : 0.3154523309353179 | Train Acc : 87.54717254638672 | Val Acc : 87.92295837402344 |\n"
     ]
    },
    {
     "name": "stderr",
     "output_type": "stream",
     "text": [
      "100%|██████████| 241/241 [00:01<00:00, 201.76it/s]\n"
     ]
    },
    {
     "name": "stdout",
     "output_type": "stream",
     "text": [
      "| Train Loss : 0.2602368231588901 |  Val Loss : 0.19813738111358084 | Train Acc : 90.2797622680664 | Val Acc : 91.61895751953125 |\n"
     ]
    },
    {
     "name": "stderr",
     "output_type": "stream",
     "text": [
      "100%|██████████| 241/241 [00:01<00:00, 202.62it/s]\n"
     ]
    },
    {
     "name": "stdout",
     "output_type": "stream",
     "text": [
      "| Train Loss : 0.2127825309512149 |  Val Loss : 0.1788649318515789 | Train Acc : 92.08848571777344 | Val Acc : 93.28475189208984 |\n"
     ]
    },
    {
     "name": "stderr",
     "output_type": "stream",
     "text": [
      "100%|██████████| 241/241 [00:01<00:00, 200.75it/s]\n"
     ]
    },
    {
     "name": "stdout",
     "output_type": "stream",
     "text": [
      "| Train Loss : 0.19764252806066612 |  Val Loss : 0.4838522943837267 | Train Acc : 92.55693054199219 | Val Acc : 78.18844604492188 |\n"
     ]
    },
    {
     "name": "stderr",
     "output_type": "stream",
     "text": [
      "100%|██████████| 241/241 [00:01<00:00, 146.86it/s]\n"
     ]
    },
    {
     "name": "stdout",
     "output_type": "stream",
     "text": [
      "| Train Loss : 0.1916847133416399 |  Val Loss : 0.17430809682030532 | Train Acc : 92.70006561279297 | Val Acc : 93.07653045654297 |\n"
     ]
    },
    {
     "name": "stderr",
     "output_type": "stream",
     "text": [
      "100%|██████████| 241/241 [00:01<00:00, 200.59it/s]\n"
     ]
    },
    {
     "name": "stdout",
     "output_type": "stream",
     "text": [
      "| Train Loss : 0.1807212624793403 |  Val Loss : 0.21226402267487404 | Train Acc : 92.88224029541016 | Val Acc : 91.61895751953125 |\n"
     ]
    },
    {
     "name": "stderr",
     "output_type": "stream",
     "text": [
      "100%|██████████| 241/241 [00:01<00:00, 203.11it/s]\n"
     ]
    },
    {
     "name": "stdout",
     "output_type": "stream",
     "text": [
      "| Train Loss : 0.17065696917963866 |  Val Loss : 0.39855323996897135 | Train Acc : 93.5458755493164 | Val Acc : 85.42426300048828 |\n"
     ]
    },
    {
     "name": "stderr",
     "output_type": "stream",
     "text": [
      "100%|██████████| 241/241 [00:01<00:00, 201.52it/s]\n"
     ]
    },
    {
     "name": "stdout",
     "output_type": "stream",
     "text": [
      "| Train Loss : 0.16894518532823571 |  Val Loss : 0.17261965317120276 | Train Acc : 93.59791564941406 | Val Acc : 93.59709167480469 |\n"
     ]
    },
    {
     "name": "stderr",
     "output_type": "stream",
     "text": [
      "100%|██████████| 241/241 [00:01<00:00, 203.26it/s]\n"
     ]
    },
    {
     "name": "stdout",
     "output_type": "stream",
     "text": [
      "| Train Loss : 0.1666810446078892 |  Val Loss : 0.16634115627164459 | Train Acc : 93.45478057861328 | Val Acc : 93.64913940429688 |\n"
     ]
    },
    {
     "name": "stderr",
     "output_type": "stream",
     "text": [
      "100%|██████████| 241/241 [00:01<00:00, 201.39it/s]\n"
     ]
    },
    {
     "name": "stdout",
     "output_type": "stream",
     "text": [
      "| Train Loss : 0.16972146904848578 |  Val Loss : 0.23138501306167691 | Train Acc : 93.376708984375 | Val Acc : 89.12025451660156 |\n"
     ]
    },
    {
     "name": "stderr",
     "output_type": "stream",
     "text": [
      "100%|██████████| 241/241 [00:01<00:00, 180.47it/s]\n"
     ]
    },
    {
     "name": "stdout",
     "output_type": "stream",
     "text": [
      "| Train Loss : 0.15998408241075068 |  Val Loss : 0.16697015460795844 | Train Acc : 93.96226501464844 | Val Acc : 93.96148681640625 |\n"
     ]
    },
    {
     "name": "stderr",
     "output_type": "stream",
     "text": [
      "100%|██████████| 241/241 [00:01<00:00, 154.02it/s]\n"
     ]
    },
    {
     "name": "stdout",
     "output_type": "stream",
     "text": [
      "| Train Loss : 0.16113336647829804 |  Val Loss : 0.16416146107942045 | Train Acc : 93.74105072021484 | Val Acc : 93.70120239257812 |\n"
     ]
    },
    {
     "name": "stderr",
     "output_type": "stream",
     "text": [
      "100%|██████████| 241/241 [00:01<00:00, 200.37it/s]\n"
     ]
    },
    {
     "name": "stdout",
     "output_type": "stream",
     "text": [
      "| Train Loss : 0.15525234213890235 |  Val Loss : 0.1693487840888606 | Train Acc : 94.00130462646484 | Val Acc : 94.01353454589844 |\n"
     ]
    },
    {
     "name": "stderr",
     "output_type": "stream",
     "text": [
      "100%|██████████| 241/241 [00:01<00:00, 197.10it/s]\n"
     ]
    },
    {
     "name": "stdout",
     "output_type": "stream",
     "text": [
      "| Train Loss : 0.15389674765796496 |  Val Loss : 0.1688575193037234 | Train Acc : 93.92322540283203 | Val Acc : 93.44091796875 |\n"
     ]
    },
    {
     "name": "stderr",
     "output_type": "stream",
     "text": [
      "100%|██████████| 241/241 [00:01<00:00, 203.99it/s]\n"
     ]
    },
    {
     "name": "stdout",
     "output_type": "stream",
     "text": [
      "| Train Loss : 0.14953491193331445 |  Val Loss : 0.2801454509189086 | Train Acc : 94.39167022705078 | Val Acc : 88.70380401611328 |\n"
     ]
    },
    {
     "name": "stderr",
     "output_type": "stream",
     "text": [
      "100%|██████████| 241/241 [00:01<00:00, 204.05it/s]\n"
     ]
    },
    {
     "name": "stdout",
     "output_type": "stream",
     "text": [
      "| Train Loss : 0.14859100322595997 |  Val Loss : 0.17857724726857024 | Train Acc : 94.4827651977539 | Val Acc : 92.50390625 |\n"
     ]
    },
    {
     "name": "stderr",
     "output_type": "stream",
     "text": [
      "100%|██████████| 241/241 [00:01<00:00, 200.26it/s]\n"
     ]
    },
    {
     "name": "stdout",
     "output_type": "stream",
     "text": [
      "| Train Loss : 0.14729445769791488 |  Val Loss : 0.15768672193883917 | Train Acc : 94.2875747680664 | Val Acc : 93.85736846923828 |\n"
     ]
    },
    {
     "name": "stderr",
     "output_type": "stream",
     "text": [
      "100%|██████████| 241/241 [00:01<00:00, 198.29it/s]\n"
     ]
    },
    {
     "name": "stdout",
     "output_type": "stream",
     "text": [
      "| Train Loss : 0.14457748808771392 |  Val Loss : 0.1626860084582289 | Train Acc : 94.39167022705078 | Val Acc : 94.06559753417969 |\n"
     ]
    },
    {
     "name": "stderr",
     "output_type": "stream",
     "text": [
      "100%|██████████| 241/241 [00:01<00:00, 203.04it/s]\n"
     ]
    },
    {
     "name": "stdout",
     "output_type": "stream",
     "text": [
      "| Train Loss : 0.1437040349804277 |  Val Loss : 0.4600215390894731 | Train Acc : 94.67794036865234 | Val Acc : 84.17491149902344 |\n"
     ]
    },
    {
     "name": "stderr",
     "output_type": "stream",
     "text": [
      "100%|██████████| 241/241 [00:01<00:00, 130.97it/s]\n"
     ]
    },
    {
     "name": "stdout",
     "output_type": "stream",
     "text": [
      "| Train Loss : 0.14652661511985973 |  Val Loss : 0.1689630466019313 | Train Acc : 94.49577331542969 | Val Acc : 93.49298095703125 |\n"
     ]
    },
    {
     "name": "stderr",
     "output_type": "stream",
     "text": [
      "100%|██████████| 241/241 [00:01<00:00, 202.20it/s]\n"
     ]
    },
    {
     "name": "stdout",
     "output_type": "stream",
     "text": [
      "| Train Loss : 0.1415022440211061 |  Val Loss : 0.15583704195006176 | Train Acc : 94.65191650390625 | Val Acc : 93.49298095703125 |\n"
     ]
    },
    {
     "name": "stderr",
     "output_type": "stream",
     "text": [
      "100%|██████████| 241/241 [00:01<00:00, 203.47it/s]\n"
     ]
    },
    {
     "name": "stdout",
     "output_type": "stream",
     "text": [
      "| Train Loss : 0.1386382659688009 |  Val Loss : 0.15583775899984342 | Train Acc : 94.67794036865234 | Val Acc : 93.909423828125 |\n"
     ]
    },
    {
     "name": "stderr",
     "output_type": "stream",
     "text": [
      "100%|██████████| 241/241 [00:01<00:00, 203.48it/s]\n"
     ]
    },
    {
     "name": "stdout",
     "output_type": "stream",
     "text": [
      "| Train Loss : 0.13813107175099323 |  Val Loss : 0.1522096070489579 | Train Acc : 94.76902770996094 | Val Acc : 93.75325775146484 |\n"
     ]
    },
    {
     "name": "stderr",
     "output_type": "stream",
     "text": [
      "100%|██████████| 241/241 [00:01<00:00, 200.34it/s]\n"
     ]
    },
    {
     "name": "stdout",
     "output_type": "stream",
     "text": [
      "| Train Loss : 0.1369801431758573 |  Val Loss : 0.1508927464187979 | Train Acc : 94.65191650390625 | Val Acc : 94.22176361083984 |\n"
     ]
    },
    {
     "name": "stderr",
     "output_type": "stream",
     "text": [
      "100%|██████████| 241/241 [00:01<00:00, 202.34it/s]\n"
     ]
    },
    {
     "name": "stdout",
     "output_type": "stream",
     "text": [
      "| Train Loss : 0.13631989870247083 |  Val Loss : 0.16503390238655732 | Train Acc : 94.82108306884766 | Val Acc : 93.07653045654297 |\n"
     ]
    },
    {
     "name": "stderr",
     "output_type": "stream",
     "text": [
      "100%|██████████| 241/241 [00:01<00:00, 188.98it/s]\n"
     ]
    },
    {
     "name": "stdout",
     "output_type": "stream",
     "text": [
      "| Train Loss : 0.13620670379255218 |  Val Loss : 0.3644423149836398 | Train Acc : 94.74300384521484 | Val Acc : 83.49817657470703 |\n",
      "Words found are : 3324\n",
      "Embedding(3324, 100)\n",
      "-----------------------------------------------------------4-fold of the model-----------------------------------------------------------\n"
     ]
    },
    {
     "name": "stderr",
     "output_type": "stream",
     "text": [
      "100%|██████████| 241/241 [00:01<00:00, 164.60it/s]\n"
     ]
    },
    {
     "name": "stdout",
     "output_type": "stream",
     "text": [
      "| Train Loss : 0.6919839726769467 |  Val Loss : 0.6902445177433703 | Train Acc : 52.36174392700195 | Val Acc : 59.08381271362305 |\n"
     ]
    },
    {
     "name": "stderr",
     "output_type": "stream",
     "text": [
      "100%|██████████| 241/241 [00:01<00:00, 192.94it/s]\n"
     ]
    },
    {
     "name": "stdout",
     "output_type": "stream",
     "text": [
      "| Train Loss : 0.6869351318228454 |  Val Loss : 0.682445726656529 | Train Acc : 58.36044692993164 | Val Acc : 58.61531066894531 |\n"
     ]
    },
    {
     "name": "stderr",
     "output_type": "stream",
     "text": [
      "100%|██████████| 241/241 [00:01<00:00, 195.33it/s]\n"
     ]
    },
    {
     "name": "stdout",
     "output_type": "stream",
     "text": [
      "| Train Loss : 0.6446716603902384 |  Val Loss : 0.6965995997438699 | Train Acc : 65.30904388427734 | Val Acc : 53.722023010253906 |\n"
     ]
    },
    {
     "name": "stderr",
     "output_type": "stream",
     "text": [
      "100%|██████████| 241/241 [00:01<00:00, 196.42it/s]\n"
     ]
    },
    {
     "name": "stdout",
     "output_type": "stream",
     "text": [
      "| Train Loss : 0.42841237100130874 |  Val Loss : 0.3649892632222653 | Train Acc : 82.22511291503906 | Val Acc : 85.7365951538086 |\n"
     ]
    },
    {
     "name": "stderr",
     "output_type": "stream",
     "text": [
      "100%|██████████| 241/241 [00:01<00:00, 189.53it/s]\n"
     ]
    },
    {
     "name": "stdout",
     "output_type": "stream",
     "text": [
      "| Train Loss : 0.2877696493304854 |  Val Loss : 0.7178109197614095 | Train Acc : 88.7833480834961 | Val Acc : 67.4648666381836 |\n"
     ]
    },
    {
     "name": "stderr",
     "output_type": "stream",
     "text": [
      "100%|██████████| 241/241 [00:01<00:00, 195.73it/s]\n"
     ]
    },
    {
     "name": "stdout",
     "output_type": "stream",
     "text": [
      "| Train Loss : 0.22758208973576827 |  Val Loss : 0.1620960702527196 | Train Acc : 91.51593780517578 | Val Acc : 94.1176528930664 |\n"
     ]
    },
    {
     "name": "stderr",
     "output_type": "stream",
     "text": [
      "100%|██████████| 241/241 [00:01<00:00, 194.86it/s]\n"
     ]
    },
    {
     "name": "stdout",
     "output_type": "stream",
     "text": [
      "| Train Loss : 0.22457588531789488 |  Val Loss : 0.41802990852328153 | Train Acc : 91.5289535522461 | Val Acc : 81.46798706054688 |\n"
     ]
    },
    {
     "name": "stderr",
     "output_type": "stream",
     "text": [
      "100%|██████████| 241/241 [00:01<00:00, 172.75it/s]\n"
     ]
    },
    {
     "name": "stdout",
     "output_type": "stream",
     "text": [
      "| Train Loss : 0.19698838853339679 |  Val Loss : 0.18440627052658612 | Train Acc : 92.2836685180664 | Val Acc : 93.23269653320312 |\n"
     ]
    },
    {
     "name": "stderr",
     "output_type": "stream",
     "text": [
      "100%|██████████| 241/241 [00:01<00:00, 193.49it/s]\n"
     ]
    },
    {
     "name": "stdout",
     "output_type": "stream",
     "text": [
      "| Train Loss : 0.18164873892391706 |  Val Loss : 0.14838439493475483 | Train Acc : 93.19454193115234 | Val Acc : 94.32587432861328 |\n"
     ]
    },
    {
     "name": "stderr",
     "output_type": "stream",
     "text": [
      "100%|██████████| 241/241 [00:01<00:00, 198.20it/s]\n"
     ]
    },
    {
     "name": "stdout",
     "output_type": "stream",
     "text": [
      "| Train Loss : 0.17528237217750034 |  Val Loss : 0.14737043187084264 | Train Acc : 93.12947082519531 | Val Acc : 94.79438018798828 |\n"
     ]
    },
    {
     "name": "stderr",
     "output_type": "stream",
     "text": [
      "100%|██████████| 241/241 [00:01<00:00, 196.42it/s]\n"
     ]
    },
    {
     "name": "stdout",
     "output_type": "stream",
     "text": [
      "| Train Loss : 0.17308561834073447 |  Val Loss : 0.16582730037445287 | Train Acc : 93.1815185546875 | Val Acc : 93.44091796875 |\n"
     ]
    },
    {
     "name": "stderr",
     "output_type": "stream",
     "text": [
      "100%|██████████| 241/241 [00:01<00:00, 198.64it/s]\n"
     ]
    },
    {
     "name": "stdout",
     "output_type": "stream",
     "text": [
      "| Train Loss : 0.17096626604619394 |  Val Loss : 0.3404830454265479 | Train Acc : 93.55888366699219 | Val Acc : 83.70640563964844 |\n"
     ]
    },
    {
     "name": "stderr",
     "output_type": "stream",
     "text": [
      "100%|██████████| 241/241 [00:01<00:00, 194.73it/s]\n"
     ]
    },
    {
     "name": "stdout",
     "output_type": "stream",
     "text": [
      "| Train Loss : 0.16447438081228352 |  Val Loss : 0.1402787078136335 | Train Acc : 93.50682830810547 | Val Acc : 94.74232482910156 |\n"
     ]
    },
    {
     "name": "stderr",
     "output_type": "stream",
     "text": [
      "100%|██████████| 241/241 [00:01<00:00, 198.24it/s]\n"
     ]
    },
    {
     "name": "stdout",
     "output_type": "stream",
     "text": [
      "| Train Loss : 0.15651043148283533 |  Val Loss : 0.13679199233720973 | Train Acc : 93.91021728515625 | Val Acc : 94.42998504638672 |\n"
     ]
    },
    {
     "name": "stderr",
     "output_type": "stream",
     "text": [
      "100%|██████████| 241/241 [00:01<00:00, 169.13it/s]\n"
     ]
    },
    {
     "name": "stdout",
     "output_type": "stream",
     "text": [
      "| Train Loss : 0.15382537333441385 |  Val Loss : 0.2946117873740407 | Train Acc : 94.13143157958984 | Val Acc : 86.46538543701172 |\n"
     ]
    },
    {
     "name": "stderr",
     "output_type": "stream",
     "text": [
      "100%|██████████| 241/241 [00:01<00:00, 153.77it/s]\n"
     ]
    },
    {
     "name": "stdout",
     "output_type": "stream",
     "text": [
      "| Train Loss : 0.15266852484786944 |  Val Loss : 0.14890517431511535 | Train Acc : 94.3526382446289 | Val Acc : 94.16970825195312 |\n"
     ]
    },
    {
     "name": "stderr",
     "output_type": "stream",
     "text": [
      "100%|██████████| 241/241 [00:01<00:00, 199.36it/s]\n"
     ]
    },
    {
     "name": "stdout",
     "output_type": "stream",
     "text": [
      "| Train Loss : 0.15227201620314365 |  Val Loss : 0.21916343584726528 | Train Acc : 94.0923843383789 | Val Acc : 89.74492645263672 |\n"
     ]
    },
    {
     "name": "stderr",
     "output_type": "stream",
     "text": [
      "100%|██████████| 241/241 [00:01<00:00, 196.37it/s]\n"
     ]
    },
    {
     "name": "stdout",
     "output_type": "stream",
     "text": [
      "| Train Loss : 0.14757010558633427 |  Val Loss : 0.18358325366782124 | Train Acc : 94.2875747680664 | Val Acc : 92.7121353149414 |\n"
     ]
    },
    {
     "name": "stderr",
     "output_type": "stream",
     "text": [
      "100%|██████████| 241/241 [00:01<00:00, 197.15it/s]\n"
     ]
    },
    {
     "name": "stdout",
     "output_type": "stream",
     "text": [
      "| Train Loss : 0.1462633143615998 |  Val Loss : 0.14184294948970075 | Train Acc : 94.57384490966797 | Val Acc : 94.79438018798828 |\n"
     ]
    },
    {
     "name": "stderr",
     "output_type": "stream",
     "text": [
      "100%|██████████| 241/241 [00:01<00:00, 179.16it/s]\n"
     ]
    },
    {
     "name": "stdout",
     "output_type": "stream",
     "text": [
      "| Train Loss : 0.14527429997988855 |  Val Loss : 0.13681645949635624 | Train Acc : 94.50878143310547 | Val Acc : 94.48204803466797 |\n"
     ]
    },
    {
     "name": "stderr",
     "output_type": "stream",
     "text": [
      "100%|██████████| 241/241 [00:01<00:00, 200.45it/s]\n"
     ]
    },
    {
     "name": "stdout",
     "output_type": "stream",
     "text": [
      "| Train Loss : 0.14330512572203508 |  Val Loss : 0.6794790304384695 | Train Acc : 94.4827651977539 | Val Acc : 77.61582946777344 |\n"
     ]
    },
    {
     "name": "stderr",
     "output_type": "stream",
     "text": [
      "100%|██████████| 241/241 [00:01<00:00, 198.79it/s]\n"
     ]
    },
    {
     "name": "stdout",
     "output_type": "stream",
     "text": [
      "| Train Loss : 0.14589983774961088 |  Val Loss : 0.24100963184697274 | Train Acc : 94.56082916259766 | Val Acc : 88.07913208007812 |\n"
     ]
    },
    {
     "name": "stderr",
     "output_type": "stream",
     "text": [
      "100%|██████████| 241/241 [00:01<00:00, 168.68it/s]\n"
     ]
    },
    {
     "name": "stdout",
     "output_type": "stream",
     "text": [
      "| Train Loss : 0.13872650880354445 |  Val Loss : 0.42385465590955224 | Train Acc : 94.57384490966797 | Val Acc : 78.81312561035156 |\n"
     ]
    },
    {
     "name": "stderr",
     "output_type": "stream",
     "text": [
      "100%|██████████| 241/241 [00:01<00:00, 196.75it/s]\n"
     ]
    },
    {
     "name": "stdout",
     "output_type": "stream",
     "text": [
      "| Train Loss : 0.14193294511025767 |  Val Loss : 0.13465072641988857 | Train Acc : 94.70397186279297 | Val Acc : 94.95055389404297 |\n"
     ]
    },
    {
     "name": "stderr",
     "output_type": "stream",
     "text": [
      "100%|██████████| 241/241 [00:01<00:00, 199.37it/s]\n"
     ]
    },
    {
     "name": "stdout",
     "output_type": "stream",
     "text": [
      "| Train Loss : 0.13740311953819023 |  Val Loss : 0.1396369478970996 | Train Acc : 94.5998764038086 | Val Acc : 94.69026947021484 |\n"
     ]
    },
    {
     "name": "stderr",
     "output_type": "stream",
     "text": [
      "100%|██████████| 241/241 [00:01<00:00, 200.45it/s]\n"
     ]
    },
    {
     "name": "stdout",
     "output_type": "stream",
     "text": [
      "| Train Loss : 0.1372347973001104 |  Val Loss : 0.2321485768594449 | Train Acc : 94.75601959228516 | Val Acc : 90.94222259521484 |\n"
     ]
    },
    {
     "name": "stderr",
     "output_type": "stream",
     "text": [
      "100%|██████████| 241/241 [00:01<00:00, 200.62it/s]\n"
     ]
    },
    {
     "name": "stdout",
     "output_type": "stream",
     "text": [
      "| Train Loss : 0.13728368767066365 |  Val Loss : 0.25706974060986365 | Train Acc : 94.50878143310547 | Val Acc : 89.32847595214844 |\n"
     ]
    },
    {
     "name": "stderr",
     "output_type": "stream",
     "text": [
      "100%|██████████| 241/241 [00:01<00:00, 199.80it/s]\n"
     ]
    },
    {
     "name": "stdout",
     "output_type": "stream",
     "text": [
      "| Train Loss : 0.13679445678720864 |  Val Loss : 0.13688502865244734 | Train Acc : 94.75601959228516 | Val Acc : 94.32587432861328 |\n"
     ]
    },
    {
     "name": "stderr",
     "output_type": "stream",
     "text": [
      "100%|██████████| 241/241 [00:01<00:00, 193.06it/s]\n"
     ]
    },
    {
     "name": "stdout",
     "output_type": "stream",
     "text": [
      "| Train Loss : 0.13428773903757546 |  Val Loss : 0.13282039682470545 | Train Acc : 94.76902770996094 | Val Acc : 94.5861587524414 |\n"
     ]
    },
    {
     "name": "stderr",
     "output_type": "stream",
     "text": [
      "100%|██████████| 241/241 [00:01<00:00, 197.37it/s]\n"
     ]
    },
    {
     "name": "stdout",
     "output_type": "stream",
     "text": [
      "| Train Loss : 0.13358869137473903 |  Val Loss : 0.17377465805087897 | Train Acc : 94.86011505126953 | Val Acc : 93.38886260986328 |\n"
     ]
    }
   ],
   "source": [
    "from sklearn.model_selection import StratifiedKFold\n",
    "from sklearn.model_selection import KFold\n",
    "from torch.utils.data import SubsetRandomSampler\n",
    "from torch.optim import Adam\n",
    "from tqdm import tqdm\n",
    "from torch.utils.data import DataLoader \n",
    "import matplotlib.pyplot as plt\n",
    "\n",
    "\n",
    "# sfk = StratifiedKFold(n_splits = config.FOLDS)\n",
    "kfold = KFold(n_splits = config.FOLDS)\n",
    "model_state_dicts = {}\n",
    " \n",
    "for fold, (train_idx, val_idx) in enumerate(kfold.split(np.arange(len(dataset)))):\n",
    "    \n",
    "    train_sampler = SubsetRandomSampler(train_idx)\n",
    "    val_sampler = SubsetRandomSampler(val_idx)\n",
    "    \n",
    "    train_loader = DataLoader(dataset, batch_size = config.BATCH_SIZE, sampler = train_sampler, collate_fn = MyCollate(0, config.MAX_LEN))\n",
    "    val_loader = DataLoader(dataset, batch_size = config.BATCH_SIZE, sampler = val_sampler, collate_fn = MyCollate(0, config.MAX_LEN))  \n",
    "    \n",
    "    VOCAB_SIZE = len(dataset.source_vocab)\n",
    "    HIDDEN_DIM = 128\n",
    "    OUTPUT_DIM = 1\n",
    "    VOCAB = list(dataset.source_vocab.stoi)\n",
    "\n",
    "    embedding_layer = get_emb_layer_with_weights(target_vocab = VOCAB, emb_model = fasttext_model, trainable = False)\n",
    "\n",
    "    model = Model(VOCAB_SIZE, config.EMB_DIM, HIDDEN_DIM, OUTPUT_DIM, embedding_layer)\n",
    "    model = model.to(config.DEVICE)\n",
    "    \n",
    "#     model\n",
    "#     model = Model(2, len(dataset.source_vocab), 128, 100, 1 ).to(config.DEVICE)\n",
    "#     hidden = model.init_hidden(config.BATCH_SIZE)\n",
    "#     model.hidden = hidden\n",
    "\n",
    "    loss_fn = nn.BCELoss()\n",
    "    optimizer = torch.optim.SGD(model.parameters(), lr = 0.1)\n",
    "    \n",
    "    train_losses = []\n",
    "    val_losses = []\n",
    "    train_accs = []\n",
    "    val_accs = []\n",
    "\n",
    "    print(f\"-----------------------------------------------------------{fold}-fold of the model-----------------------------------------------------------\")\n",
    "    for epoch in range(config.EPOCHS):\n",
    "        train_loss, train_correct = train_epochs(train_loader, model, loss_fn, optimizer)\n",
    "        val_loss, val_correct = val_epochs(val_loader, model, loss_fn)  \n",
    "        \n",
    "        train_loss = train_loss/len(train_loader.sampler)\n",
    "        val_loss = val_loss/len(val_loader.sampler)\n",
    "        train_acc = (train_correct/len(train_loader.sampler))*100\n",
    "        val_acc = (val_correct/len(val_loader.sampler))*100\n",
    "        \n",
    "        train_losses.append(train_loss)\n",
    "        val_losses.append(val_loss)\n",
    "        train_accs.append(train_acc.cpu().numpy().tolist())\n",
    "        val_accs.append(val_acc.cpu().numpy().tolist())\n",
    "        \n",
    "        print(f\"| Train Loss : {train_loss} |\", end = \" \")\n",
    "        print(f\" Val Loss : {val_loss} |\", end = \" \")\n",
    "        print(f\"Train Acc : {train_acc} |\", end = \" \")\n",
    "        print(f\"Val Acc : {val_acc} |\")\n",
    "\n",
    "        \n",
    "    # Saving the state dicts for the model\n",
    "    model_state_dicts.update({f\"LSTM-Model-for-{fold}\" : model.state_dict(),\n",
    "                             f\"Model-Optimizer-for-{fold}\" : optimizer.state_dict()})\n",
    "    \n",
    "#     # summarize history for accuracy\n",
    "#     plt.plot(train_accs)\n",
    "#     plt.plot(val_accs)\n",
    "#     plt.title('Model Accuracy')\n",
    "#     plt.ylabel('Accuracy')\n",
    "#     plt.xlabel('Epoch')\n",
    "#     plt.legend(['Train', 'Test'], loc='upper left')\n",
    "#     plt.show()\n",
    "#     # summarize history for loss\n",
    "#     plt.plot(train_losses)\n",
    "#     plt.plot(val_losses)\n",
    "#     plt.title('Model Loss')\n",
    "#     plt.ylabel('Loss')\n",
    "#     plt.xlabel('Epoch')\n",
    "#     plt.legend(['Train', 'Test'], loc='upper left')\n",
    "#     plt.show()"
   ]
  },
  {
   "cell_type": "code",
   "execution_count": 82,
   "id": "070fb588",
   "metadata": {
    "execution": {
     "iopub.execute_input": "2022-07-05T07:46:13.603951Z",
     "iopub.status.busy": "2022-07-05T07:46:13.603480Z",
     "iopub.status.idle": "2022-07-05T07:46:13.635303Z",
     "shell.execute_reply": "2022-07-05T07:46:13.634310Z"
    },
    "papermill": {
     "duration": 0.346579,
     "end_time": "2022-07-05T07:46:13.637692",
     "exception": false,
     "start_time": "2022-07-05T07:46:13.291113",
     "status": "completed"
    },
    "tags": []
   },
   "outputs": [],
   "source": [
    "torch.save(model_state_dicts, \"My-Model.pt\")"
   ]
  },
  {
   "cell_type": "markdown",
   "id": "f8f66cab",
   "metadata": {
    "papermill": {
     "duration": 0.337883,
     "end_time": "2022-07-05T07:46:14.268794",
     "exception": false,
     "start_time": "2022-07-05T07:46:13.930911",
     "status": "completed"
    },
    "tags": []
   },
   "source": [
    "<h1  style=\"text-align: center\" class=\"list-group-item list-group-item-action active\">7. Inference</h1><a id = \"7\" ></a>"
   ]
  },
  {
   "cell_type": "code",
   "execution_count": 83,
   "id": "e8f072da",
   "metadata": {
    "execution": {
     "iopub.execute_input": "2022-07-05T07:46:14.852308Z",
     "iopub.status.busy": "2022-07-05T07:46:14.851889Z",
     "iopub.status.idle": "2022-07-05T07:46:14.861001Z",
     "shell.execute_reply": "2022-07-05T07:46:14.860000Z"
    },
    "papermill": {
     "duration": 0.306811,
     "end_time": "2022-07-05T07:46:14.863380",
     "exception": false,
     "start_time": "2022-07-05T07:46:14.556569",
     "status": "completed"
    },
    "tags": []
   },
   "outputs": [],
   "source": [
    "def numericalize(text):\n",
    "    \n",
    "    numerialized_source = [] \n",
    "    numerialized_source = [dataset.source_vocab.stoi[\"<SOS>\"]]\n",
    "    numerialized_source += dataset.source_vocab.numericalize(text)\n",
    "    numerialized_source.append(dataset.source_vocab.stoi[\"<EOS>\"])\n",
    "    \n",
    "    return numerialized_source\n",
    "\n",
    "def padding(source):\n",
    "    padded_sequence = torch.zeros(config.MAX_LEN, 1, dtype = torch.int)\n",
    "    source = torch.tensor(source)\n",
    "    \n",
    "    if len(source) > config.MAX_LEN:\n",
    "        padded_sequence[:, 0] = source[: config.MAX_LEN]\n",
    "    else:\n",
    "        padded_sequence[:len(source), 0] = padded_sequence[:len(source), 0] + source\n",
    "    \n",
    "    return padded_sequence"
   ]
  },
  {
   "cell_type": "code",
   "execution_count": 84,
   "id": "aa0861e8",
   "metadata": {
    "execution": {
     "iopub.execute_input": "2022-07-05T07:46:15.406852Z",
     "iopub.status.busy": "2022-07-05T07:46:15.406495Z",
     "iopub.status.idle": "2022-07-05T07:46:15.411615Z",
     "shell.execute_reply": "2022-07-05T07:46:15.410703Z"
    },
    "papermill": {
     "duration": 0.271564,
     "end_time": "2022-07-05T07:46:15.413594",
     "exception": false,
     "start_time": "2022-07-05T07:46:15.142030",
     "status": "completed"
    },
    "tags": []
   },
   "outputs": [],
   "source": [
    "def infer_processing(text):\n",
    "    \n",
    "    text = preprocessing(text)\n",
    "    text = numericalize(text)\n",
    "    text = padding(text)\n",
    "    return text"
   ]
  },
  {
   "cell_type": "code",
   "execution_count": 85,
   "id": "a61f79d5",
   "metadata": {
    "execution": {
     "iopub.execute_input": "2022-07-05T07:46:15.991522Z",
     "iopub.status.busy": "2022-07-05T07:46:15.991156Z",
     "iopub.status.idle": "2022-07-05T07:46:15.997604Z",
     "shell.execute_reply": "2022-07-05T07:46:15.996590Z"
    },
    "papermill": {
     "duration": 0.315549,
     "end_time": "2022-07-05T07:46:15.999917",
     "exception": false,
     "start_time": "2022-07-05T07:46:15.684368",
     "status": "completed"
    },
    "tags": []
   },
   "outputs": [],
   "source": [
    "aspects = [\"phone\", \"camera\", \"battery\", \"neutral\", \"processor\"]\n",
    "\n",
    "def get_similarity(text, aspect):\n",
    "    try:\n",
    "#         text = \" \".join(text)\n",
    "        return fasttext_model.wv.n_similarity(text, aspect)\n",
    "    except:\n",
    "        return 0\n",
    "    \n",
    "def best_aspect(text, aspects):\n",
    "    a = []\n",
    "    \n",
    "    for aspect in aspects:\n",
    "        a.append(get_similarity(text, aspect))\n",
    "    \n",
    "    return aspects[np.argmax(a)]\n"
   ]
  },
  {
   "cell_type": "code",
   "execution_count": 86,
   "id": "f012a771",
   "metadata": {
    "execution": {
     "iopub.execute_input": "2022-07-05T07:46:16.525628Z",
     "iopub.status.busy": "2022-07-05T07:46:16.524976Z",
     "iopub.status.idle": "2022-07-05T07:46:16.550766Z",
     "shell.execute_reply": "2022-07-05T07:46:16.549884Z"
    },
    "papermill": {
     "duration": 0.290526,
     "end_time": "2022-07-05T07:46:16.552855",
     "exception": false,
     "start_time": "2022-07-05T07:46:16.262329",
     "status": "completed"
    },
    "tags": []
   },
   "outputs": [],
   "source": [
    "\n",
    "sample = \"I am really impressed with the phone's great battery backup.\"\n",
    "\n",
    "ba = best_aspect(preprocessing(sample), aspects)\n",
    "\n",
    "a = infer_processing(sample).to(config.DEVICE)"
   ]
  },
  {
   "cell_type": "code",
   "execution_count": 87,
   "id": "a11d330d",
   "metadata": {
    "execution": {
     "iopub.execute_input": "2022-07-05T07:46:17.081682Z",
     "iopub.status.busy": "2022-07-05T07:46:17.081285Z",
     "iopub.status.idle": "2022-07-05T07:46:17.089143Z",
     "shell.execute_reply": "2022-07-05T07:46:17.088287Z"
    },
    "papermill": {
     "duration": 0.274802,
     "end_time": "2022-07-05T07:46:17.091183",
     "exception": false,
     "start_time": "2022-07-05T07:46:16.816381",
     "status": "completed"
    },
    "tags": []
   },
   "outputs": [],
   "source": [
    "model.eval()\n",
    "sentiment = model(a)\n",
    "sentiment = sentiment.cpu().detach().numpy()[0]\n",
    "\n",
    "if sentiment > 0.5:\n",
    "    sentiment = 'Positively'\n",
    "else :\n",
    "    sentiment = 'Negatively'"
   ]
  },
  {
   "cell_type": "code",
   "execution_count": 88,
   "id": "319526b9",
   "metadata": {
    "execution": {
     "iopub.execute_input": "2022-07-05T07:46:17.614974Z",
     "iopub.status.busy": "2022-07-05T07:46:17.614626Z",
     "iopub.status.idle": "2022-07-05T07:46:17.619806Z",
     "shell.execute_reply": "2022-07-05T07:46:17.618869Z"
    },
    "papermill": {
     "duration": 0.27042,
     "end_time": "2022-07-05T07:46:17.622458",
     "exception": false,
     "start_time": "2022-07-05T07:46:17.352038",
     "status": "completed"
    },
    "tags": []
   },
   "outputs": [
    {
     "name": "stdout",
     "output_type": "stream",
     "text": [
      "The reviewer is talking Positively about the battery of the phone in his/her comment\n"
     ]
    }
   ],
   "source": [
    "print(f\"The reviewer is talking {sentiment} about the {ba} of the phone in his/her comment\")"
   ]
  },
  {
   "cell_type": "code",
   "execution_count": null,
   "id": "0eb817df",
   "metadata": {
    "papermill": {
     "duration": 0.263521,
     "end_time": "2022-07-05T07:46:18.191617",
     "exception": false,
     "start_time": "2022-07-05T07:46:17.928096",
     "status": "completed"
    },
    "tags": []
   },
   "outputs": [],
   "source": []
  },
  {
   "cell_type": "code",
   "execution_count": null,
   "id": "30e7eda2",
   "metadata": {
    "papermill": {
     "duration": 0.261509,
     "end_time": "2022-07-05T07:46:18.715924",
     "exception": false,
     "start_time": "2022-07-05T07:46:18.454415",
     "status": "completed"
    },
    "tags": []
   },
   "outputs": [],
   "source": []
  },
  {
   "cell_type": "markdown",
   "id": "a751f668",
   "metadata": {
    "papermill": {
     "duration": 0.260525,
     "end_time": "2022-07-05T07:46:19.236771",
     "exception": false,
     "start_time": "2022-07-05T07:46:18.976246",
     "status": "completed"
    },
    "tags": []
   },
   "source": [
    "<h1  style=\"text-align: center\" class=\"list-group-item list-group-item-action active\">8. References</h1><a id = \"8\" ></a>\n",
    "\n",
    "\n",
    "- [A Practical Introduction to Web Scraping in Python](https://realpython.com/python-web-scraping-practical-introduction/)\n",
    "- [Python SQLite](https://www.geeksforgeeks.org/python-sqlite/)\n",
    "- [What on Earth is Unicode Normalization?](https://towardsdatascience.comwhat-on-earth-is-unicode-normalization-56c005c55ad0)\n",
    "- [How to handle Emoji ‘😄’ & Emoticon ‘ :-) ’ in text preprocessing?](https://medium.com/geekculture/text-preprocessing-how-to-handle-emoji-emoticon-641bbfa6e9e7)\n",
    "- [Spelling checker in Python](https://www.geeksforgeeks.org/spelling-checker-in-python/)\n",
    "- [NLPAUG – A Python library to Augment Your Text Data](https://www.analyticsvidhya.com/blog/2021/08/nlpaug-a-python-library-to-augment-your-text-data/)\n",
    "- [Topic Modeling in Python: Latent Dirichlet Allocation (LDA)](https://towardsdatascience.com/end-to-end-topic-modeling-in-python-latent-dirichlet-allocation-lda-35ce4ed6b3e0)"
   ]
  },
  {
   "cell_type": "code",
   "execution_count": null,
   "id": "51acc084",
   "metadata": {
    "papermill": {
     "duration": 0.265831,
     "end_time": "2022-07-05T07:46:19.763876",
     "exception": false,
     "start_time": "2022-07-05T07:46:19.498045",
     "status": "completed"
    },
    "tags": []
   },
   "outputs": [],
   "source": []
  },
  {
   "cell_type": "code",
   "execution_count": null,
   "id": "ad805524",
   "metadata": {
    "papermill": {
     "duration": 0.30313,
     "end_time": "2022-07-05T07:46:20.332060",
     "exception": false,
     "start_time": "2022-07-05T07:46:20.028930",
     "status": "completed"
    },
    "tags": []
   },
   "outputs": [],
   "source": []
  }
 ],
 "metadata": {
  "kernelspec": {
   "display_name": "Python 3",
   "language": "python",
   "name": "python3"
  },
  "language_info": {
   "codemirror_mode": {
    "name": "ipython",
    "version": 3
   },
   "file_extension": ".py",
   "mimetype": "text/x-python",
   "name": "python",
   "nbconvert_exporter": "python",
   "pygments_lexer": "ipython3",
   "version": "3.7.12"
  },
  "papermill": {
   "default_parameters": {},
   "duration": 526.866699,
   "end_time": "2022-07-05T07:46:23.480664",
   "environment_variables": {},
   "exception": null,
   "input_path": "__notebook__.ipynb",
   "output_path": "__notebook__.ipynb",
   "parameters": {},
   "start_time": "2022-07-05T07:37:36.613965",
   "version": "2.3.4"
  }
 },
 "nbformat": 4,
 "nbformat_minor": 5
}
